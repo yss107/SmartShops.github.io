{
 "cells": [
  {
   "cell_type": "markdown",
   "metadata": {},
   "source": [
    "## EDA and Data Preprocessing\n",
    "\n",
    "[See separate notebook for EDA](https://github.com/melodygr/grocery_recommendation/blob/main/Capstone_Project.ipynb)"
   ]
  },
  {
   "cell_type": "code",
   "execution_count": 1,
   "metadata": {},
   "outputs": [],
   "source": [
    "import pandas as pd\n",
    "import numpy as np\n",
    "import matplotlib.pyplot as plt\n",
    "import seaborn as sns\n",
    "import itertools\n",
    "import time\n",
    "from datetime import datetime\n",
    "import pickle\n",
    "import warnings\n",
    "warnings.filterwarnings('ignore')"
   ]
  },
  {
   "cell_type": "code",
   "execution_count": 2,
   "metadata": {},
   "outputs": [],
   "source": [
    "# Set default visualization parameters\n",
    "\n",
    "CB91_Blue = '#2CBDFE'\n",
    "CB91_Green = '#47DBCD'\n",
    "CB91_Pink = '#F3A0F2'\n",
    "CB91_Purple = '#9D2EC5'\n",
    "CB91_Violet = '#661D98'\n",
    "CB91_Amber = '#F5B14C'\n",
    "color_list = [CB91_Blue, CB91_Pink, CB91_Green, CB91_Amber, CB91_Purple, CB91_Violet]\n",
    "plt.rcParams['axes.prop_cycle'] = plt.cycler(color=color_list)\n",
    "sns.set_context(\"notebook\", rc={\"font.size\":16, \"axes.titlesize\":20, \"axes.labelsize\":18})\n",
    "sns.set(font='Franklin Gothic Book',\n",
    "rc={'axes.axisbelow': False,\n",
    "'axes.edgecolor': 'lightgrey',\n",
    "# 'axes.edgecolor': 'white',\n",
    "'axes.facecolor': 'None',\n",
    "'axes.grid': False,\n",
    "'axes.labelcolor': 'dimgrey',\n",
    "# 'axes.labelcolor': 'white',\n",
    "'axes.spines.right': False,\n",
    "'axes.spines.top': False,\n",
    "'axes.prop_cycle': plt.cycler(color=color_list),\n",
    "'figure.facecolor': 'white',\n",
    "'lines.solid_capstyle': 'round',\n",
    "'patch.edgecolor': 'w',\n",
    "'patch.force_edgecolor': True,\n",
    "'text.color': 'dimgrey',\n",
    "# 'text.color': 'white',    \n",
    "'xtick.bottom': False,\n",
    "'xtick.color': 'dimgrey',\n",
    "# 'xtick.color': 'white',    \n",
    "'xtick.direction': 'out',\n",
    "'xtick.top': False,\n",
    "'ytick.color': 'dimgrey',\n",
    "# 'ytick.color': 'white',\n",
    "'ytick.direction': 'out',\n",
    "'ytick.left': False,\n",
    "'ytick.right': False})\n",
    "%matplotlib inline"
   ]
  },
  {
   "cell_type": "markdown",
   "metadata": {},
   "source": [
    "## Clustering"
   ]
  },
  {
   "cell_type": "code",
   "execution_count": 3,
   "metadata": {
    "scrolled": false
   },
   "outputs": [],
   "source": [
    "# Now I want to experiment with clustering the 'similar' users together\n",
    "# But what data do I need for each user?  Some kind of summary statistics?\n",
    "# I guess I need each product to be a column, with the number of times it was ordered?\n",
    "# Product level is too granular so I am going to try aisle"
   ]
  },
  {
   "cell_type": "code",
   "execution_count": 4,
   "metadata": {},
   "outputs": [],
   "source": [
    "merged_orders = pickle.load(open(\"Pickle/merged_orders.p\", \"rb\"))"
   ]
  },
  {
   "cell_type": "code",
   "execution_count": 5,
   "metadata": {},
   "outputs": [],
   "source": [
    "# What don't I need for my user dataframe?\n",
    "# Since product level is too granular, I will capture the aisle\n",
    "user_info = merged_orders[['user_id', 'order_number', 'order_dow', 'order_hour_of_day', \n",
    "                           'days_since_prior_order', 'aisle']]"
   ]
  },
  {
   "cell_type": "markdown",
   "metadata": {},
   "source": [
    "### Get dummy variables for each aisle"
   ]
  },
  {
   "cell_type": "code",
   "execution_count": 6,
   "metadata": {},
   "outputs": [],
   "source": [
    "user_data = pd.get_dummies(user_info, prefix=None, columns=['aisle'])"
   ]
  },
  {
   "cell_type": "code",
   "execution_count": 7,
   "metadata": {},
   "outputs": [
    {
     "data": {
      "text/html": [
       "<div>\n",
       "<style scoped>\n",
       "    .dataframe tbody tr th:only-of-type {\n",
       "        vertical-align: middle;\n",
       "    }\n",
       "\n",
       "    .dataframe tbody tr th {\n",
       "        vertical-align: top;\n",
       "    }\n",
       "\n",
       "    .dataframe thead th {\n",
       "        text-align: right;\n",
       "    }\n",
       "</style>\n",
       "<table border=\"1\" class=\"dataframe\">\n",
       "  <thead>\n",
       "    <tr style=\"text-align: right;\">\n",
       "      <th></th>\n",
       "      <th>user_id</th>\n",
       "      <th>order_number</th>\n",
       "      <th>order_dow</th>\n",
       "      <th>order_hour_of_day</th>\n",
       "      <th>days_since_prior_order</th>\n",
       "      <th>aisle_air fresheners candles</th>\n",
       "      <th>aisle_asian foods</th>\n",
       "      <th>aisle_baby accessories</th>\n",
       "      <th>aisle_baby bath body care</th>\n",
       "      <th>aisle_baby food formula</th>\n",
       "      <th>...</th>\n",
       "      <th>aisle_spreads</th>\n",
       "      <th>aisle_tea</th>\n",
       "      <th>aisle_tofu meat alternatives</th>\n",
       "      <th>aisle_tortillas flat bread</th>\n",
       "      <th>aisle_trail mix snack mix</th>\n",
       "      <th>aisle_trash bags liners</th>\n",
       "      <th>aisle_vitamins supplements</th>\n",
       "      <th>aisle_water seltzer sparkling water</th>\n",
       "      <th>aisle_white wines</th>\n",
       "      <th>aisle_yogurt</th>\n",
       "    </tr>\n",
       "  </thead>\n",
       "  <tbody>\n",
       "    <tr>\n",
       "      <th>0</th>\n",
       "      <td>7</td>\n",
       "      <td>17</td>\n",
       "      <td>0</td>\n",
       "      <td>10</td>\n",
       "      <td>28.0</td>\n",
       "      <td>False</td>\n",
       "      <td>False</td>\n",
       "      <td>False</td>\n",
       "      <td>False</td>\n",
       "      <td>False</td>\n",
       "      <td>...</td>\n",
       "      <td>False</td>\n",
       "      <td>False</td>\n",
       "      <td>False</td>\n",
       "      <td>False</td>\n",
       "      <td>False</td>\n",
       "      <td>False</td>\n",
       "      <td>False</td>\n",
       "      <td>False</td>\n",
       "      <td>False</td>\n",
       "      <td>False</td>\n",
       "    </tr>\n",
       "    <tr>\n",
       "      <th>1</th>\n",
       "      <td>7</td>\n",
       "      <td>17</td>\n",
       "      <td>0</td>\n",
       "      <td>10</td>\n",
       "      <td>28.0</td>\n",
       "      <td>False</td>\n",
       "      <td>False</td>\n",
       "      <td>False</td>\n",
       "      <td>False</td>\n",
       "      <td>False</td>\n",
       "      <td>...</td>\n",
       "      <td>False</td>\n",
       "      <td>False</td>\n",
       "      <td>False</td>\n",
       "      <td>False</td>\n",
       "      <td>False</td>\n",
       "      <td>False</td>\n",
       "      <td>False</td>\n",
       "      <td>False</td>\n",
       "      <td>False</td>\n",
       "      <td>False</td>\n",
       "    </tr>\n",
       "    <tr>\n",
       "      <th>2</th>\n",
       "      <td>23</td>\n",
       "      <td>2</td>\n",
       "      <td>0</td>\n",
       "      <td>10</td>\n",
       "      <td>9.0</td>\n",
       "      <td>False</td>\n",
       "      <td>False</td>\n",
       "      <td>False</td>\n",
       "      <td>False</td>\n",
       "      <td>False</td>\n",
       "      <td>...</td>\n",
       "      <td>False</td>\n",
       "      <td>False</td>\n",
       "      <td>False</td>\n",
       "      <td>False</td>\n",
       "      <td>False</td>\n",
       "      <td>False</td>\n",
       "      <td>False</td>\n",
       "      <td>False</td>\n",
       "      <td>False</td>\n",
       "      <td>True</td>\n",
       "    </tr>\n",
       "    <tr>\n",
       "      <th>3</th>\n",
       "      <td>23</td>\n",
       "      <td>2</td>\n",
       "      <td>0</td>\n",
       "      <td>10</td>\n",
       "      <td>9.0</td>\n",
       "      <td>False</td>\n",
       "      <td>False</td>\n",
       "      <td>False</td>\n",
       "      <td>False</td>\n",
       "      <td>False</td>\n",
       "      <td>...</td>\n",
       "      <td>False</td>\n",
       "      <td>False</td>\n",
       "      <td>False</td>\n",
       "      <td>False</td>\n",
       "      <td>False</td>\n",
       "      <td>False</td>\n",
       "      <td>False</td>\n",
       "      <td>True</td>\n",
       "      <td>False</td>\n",
       "      <td>False</td>\n",
       "    </tr>\n",
       "    <tr>\n",
       "      <th>4</th>\n",
       "      <td>23</td>\n",
       "      <td>2</td>\n",
       "      <td>0</td>\n",
       "      <td>10</td>\n",
       "      <td>9.0</td>\n",
       "      <td>False</td>\n",
       "      <td>False</td>\n",
       "      <td>False</td>\n",
       "      <td>False</td>\n",
       "      <td>False</td>\n",
       "      <td>...</td>\n",
       "      <td>False</td>\n",
       "      <td>False</td>\n",
       "      <td>False</td>\n",
       "      <td>False</td>\n",
       "      <td>False</td>\n",
       "      <td>False</td>\n",
       "      <td>False</td>\n",
       "      <td>False</td>\n",
       "      <td>False</td>\n",
       "      <td>False</td>\n",
       "    </tr>\n",
       "  </tbody>\n",
       "</table>\n",
       "<p>5 rows \u00d7 136 columns</p>\n",
       "</div>"
      ],
      "text/plain": [
       "   user_id  order_number  order_dow  order_hour_of_day  \\\n",
       "0        7            17          0                 10   \n",
       "1        7            17          0                 10   \n",
       "2       23             2          0                 10   \n",
       "3       23             2          0                 10   \n",
       "4       23             2          0                 10   \n",
       "\n",
       "   days_since_prior_order  aisle_air fresheners candles  aisle_asian foods  \\\n",
       "0                    28.0                         False              False   \n",
       "1                    28.0                         False              False   \n",
       "2                     9.0                         False              False   \n",
       "3                     9.0                         False              False   \n",
       "4                     9.0                         False              False   \n",
       "\n",
       "   aisle_baby accessories  aisle_baby bath body care  aisle_baby food formula  \\\n",
       "0                   False                      False                    False   \n",
       "1                   False                      False                    False   \n",
       "2                   False                      False                    False   \n",
       "3                   False                      False                    False   \n",
       "4                   False                      False                    False   \n",
       "\n",
       "   ...  aisle_spreads  aisle_tea  aisle_tofu meat alternatives  \\\n",
       "0  ...          False      False                         False   \n",
       "1  ...          False      False                         False   \n",
       "2  ...          False      False                         False   \n",
       "3  ...          False      False                         False   \n",
       "4  ...          False      False                         False   \n",
       "\n",
       "   aisle_tortillas flat bread  aisle_trail mix snack mix  \\\n",
       "0                       False                      False   \n",
       "1                       False                      False   \n",
       "2                       False                      False   \n",
       "3                       False                      False   \n",
       "4                       False                      False   \n",
       "\n",
       "   aisle_trash bags liners  aisle_vitamins supplements  \\\n",
       "0                    False                       False   \n",
       "1                    False                       False   \n",
       "2                    False                       False   \n",
       "3                    False                       False   \n",
       "4                    False                       False   \n",
       "\n",
       "   aisle_water seltzer sparkling water  aisle_white wines  aisle_yogurt  \n",
       "0                                False              False         False  \n",
       "1                                False              False         False  \n",
       "2                                False              False          True  \n",
       "3                                 True              False         False  \n",
       "4                                False              False         False  \n",
       "\n",
       "[5 rows x 136 columns]"
      ]
     },
     "execution_count": 7,
     "metadata": {},
     "output_type": "execute_result"
    }
   ],
   "source": [
    "user_data.head()\n",
    "# Group By User_id\n",
    "# I need max of order_number\n",
    "# Mode of order_dow, median of order_hour_of_day, mean of days_since\n",
    "# Sum of each aisle"
   ]
  },
  {
   "cell_type": "code",
   "execution_count": 8,
   "metadata": {
    "scrolled": true
   },
   "outputs": [
    {
     "data": {
      "text/plain": [
       "aisle_soft drinks\n",
       "False    6738\n",
       "True      125\n",
       "Name: count, dtype: int64"
      ]
     },
     "execution_count": 8,
     "metadata": {},
     "output_type": "execute_result"
    }
   ],
   "source": [
    "user_data['aisle_soft drinks'].value_counts()"
   ]
  },
  {
   "cell_type": "markdown",
   "metadata": {},
   "source": [
    "### Group By each User Id"
   ]
  },
  {
   "cell_type": "code",
   "execution_count": 9,
   "metadata": {},
   "outputs": [],
   "source": [
    "# Splitting the data in thirds to use groupby then will rejoin them\n",
    "user_data1 = user_data[user_data['user_id'] <= 65000]\n",
    "user_data2 = user_data[(user_data['user_id'] <= 135000) & (user_data['user_id'] > 65000)]\n",
    "user_data3 = user_data[user_data['user_id'] > 135000]"
   ]
  },
  {
   "cell_type": "code",
   "execution_count": 10,
   "metadata": {},
   "outputs": [],
   "source": [
    "grouped_user1 = user_data1.groupby('user_id').sum()"
   ]
  },
  {
   "cell_type": "code",
   "execution_count": 11,
   "metadata": {
    "scrolled": true
   },
   "outputs": [],
   "source": [
    "grouped_user2 = user_data2.groupby('user_id').sum()"
   ]
  },
  {
   "cell_type": "code",
   "execution_count": 12,
   "metadata": {},
   "outputs": [],
   "source": [
    "grouped_user3 = user_data3.groupby('user_id').sum()"
   ]
  },
  {
   "cell_type": "code",
   "execution_count": 13,
   "metadata": {},
   "outputs": [],
   "source": [
    "# Go back to user_data and drop the aisle info before I group the other variables in different ways\n",
    "user_data1_noaisles = user_data1.iloc[:,:5]\n",
    "user_data2_noaisles = user_data2.iloc[:,:5]\n",
    "user_data3_noaisles = user_data3.iloc[:,:5]"
   ]
  },
  {
   "cell_type": "code",
   "execution_count": 14,
   "metadata": {},
   "outputs": [],
   "source": [
    "# Cool.  Found a way to group each varaiable differently.\n",
    "group1 = user_data1_noaisles.groupby('user_id').agg({'order_number': 'max', 'order_dow': lambda x:x.value_counts().index[0], \n",
    "                                            'order_hour_of_day': 'median', 'days_since_prior_order': 'mean'})\n",
    "group2 = user_data2_noaisles.groupby('user_id').agg({'order_number': 'max', 'order_dow': lambda x:x.value_counts().index[0], \n",
    "                                            'order_hour_of_day': 'median', 'days_since_prior_order': 'mean'})\n",
    "group3 = user_data3_noaisles.groupby('user_id').agg({'order_number': 'max', 'order_dow': lambda x:x.value_counts().index[0], \n",
    "                                            'order_hour_of_day': 'median', 'days_since_prior_order': 'mean'})"
   ]
  },
  {
   "cell_type": "code",
   "execution_count": 15,
   "metadata": {},
   "outputs": [],
   "source": [
    "# get number of orders for each user and add to grouped_user dfs\n",
    "grouped_user1['num_orders'] = group1.order_number\n",
    "grouped_user2['num_orders'] = group2.order_number\n",
    "grouped_user3['num_orders'] = group3.order_number"
   ]
  },
  {
   "cell_type": "code",
   "execution_count": 16,
   "metadata": {},
   "outputs": [],
   "source": [
    "grouped_user1['mean_days_since'] = group1.days_since_prior_order\n",
    "grouped_user2['mean_days_since'] = group2.days_since_prior_order\n",
    "grouped_user3['mean_days_since'] = group3.days_since_prior_order"
   ]
  },
  {
   "cell_type": "code",
   "execution_count": 17,
   "metadata": {},
   "outputs": [],
   "source": [
    "grouped_user1['mode_order_dow'] = group1.order_dow\n",
    "grouped_user2['mode_order_dow'] = group2.order_dow\n",
    "grouped_user3['mode_order_dow'] = group3.order_dow"
   ]
  },
  {
   "cell_type": "code",
   "execution_count": 18,
   "metadata": {},
   "outputs": [],
   "source": [
    "grouped_user1['median_order_hour'] = group1.order_hour_of_day\n",
    "grouped_user2['median_order_hour'] = group2.order_hour_of_day\n",
    "grouped_user3['median_order_hour'] = group3.order_hour_of_day"
   ]
  },
  {
   "cell_type": "code",
   "execution_count": 19,
   "metadata": {},
   "outputs": [],
   "source": [
    "grouped_user1.drop(columns=['order_number', 'order_dow', 'order_hour_of_day', 'days_since_prior_order'], inplace=True)\n",
    "grouped_user2.drop(columns=['order_number', 'order_dow', 'order_hour_of_day', 'days_since_prior_order'], inplace=True)\n",
    "grouped_user3.drop(columns=['order_number', 'order_dow', 'order_hour_of_day', 'days_since_prior_order'], inplace=True)"
   ]
  },
  {
   "cell_type": "code",
   "execution_count": 20,
   "metadata": {},
   "outputs": [],
   "source": [
    "grouped_users = pd.concat([grouped_user1, grouped_user2, grouped_user3], axis=0)"
   ]
  },
  {
   "cell_type": "code",
   "execution_count": 21,
   "metadata": {},
   "outputs": [
    {
     "data": {
      "text/html": [
       "<div>\n",
       "<style scoped>\n",
       "    .dataframe tbody tr th:only-of-type {\n",
       "        vertical-align: middle;\n",
       "    }\n",
       "\n",
       "    .dataframe tbody tr th {\n",
       "        vertical-align: top;\n",
       "    }\n",
       "\n",
       "    .dataframe thead th {\n",
       "        text-align: right;\n",
       "    }\n",
       "</style>\n",
       "<table border=\"1\" class=\"dataframe\">\n",
       "  <thead>\n",
       "    <tr style=\"text-align: right;\">\n",
       "      <th></th>\n",
       "      <th>aisle_air fresheners candles</th>\n",
       "      <th>aisle_asian foods</th>\n",
       "      <th>aisle_baby accessories</th>\n",
       "      <th>aisle_baby bath body care</th>\n",
       "      <th>aisle_baby food formula</th>\n",
       "      <th>aisle_bakery desserts</th>\n",
       "      <th>aisle_baking ingredients</th>\n",
       "      <th>aisle_baking supplies decor</th>\n",
       "      <th>aisle_beauty</th>\n",
       "      <th>aisle_beers coolers</th>\n",
       "      <th>...</th>\n",
       "      <th>aisle_trail mix snack mix</th>\n",
       "      <th>aisle_trash bags liners</th>\n",
       "      <th>aisle_vitamins supplements</th>\n",
       "      <th>aisle_water seltzer sparkling water</th>\n",
       "      <th>aisle_white wines</th>\n",
       "      <th>aisle_yogurt</th>\n",
       "      <th>num_orders</th>\n",
       "      <th>mean_days_since</th>\n",
       "      <th>mode_order_dow</th>\n",
       "      <th>median_order_hour</th>\n",
       "    </tr>\n",
       "    <tr>\n",
       "      <th>user_id</th>\n",
       "      <th></th>\n",
       "      <th></th>\n",
       "      <th></th>\n",
       "      <th></th>\n",
       "      <th></th>\n",
       "      <th></th>\n",
       "      <th></th>\n",
       "      <th></th>\n",
       "      <th></th>\n",
       "      <th></th>\n",
       "      <th></th>\n",
       "      <th></th>\n",
       "      <th></th>\n",
       "      <th></th>\n",
       "      <th></th>\n",
       "      <th></th>\n",
       "      <th></th>\n",
       "      <th></th>\n",
       "      <th></th>\n",
       "      <th></th>\n",
       "      <th></th>\n",
       "    </tr>\n",
       "  </thead>\n",
       "  <tbody>\n",
       "    <tr>\n",
       "      <th>7</th>\n",
       "      <td>0</td>\n",
       "      <td>0</td>\n",
       "      <td>0</td>\n",
       "      <td>0</td>\n",
       "      <td>0</td>\n",
       "      <td>0</td>\n",
       "      <td>0</td>\n",
       "      <td>0</td>\n",
       "      <td>0</td>\n",
       "      <td>0</td>\n",
       "      <td>...</td>\n",
       "      <td>0</td>\n",
       "      <td>0</td>\n",
       "      <td>0</td>\n",
       "      <td>0</td>\n",
       "      <td>0</td>\n",
       "      <td>0</td>\n",
       "      <td>17</td>\n",
       "      <td>28.0</td>\n",
       "      <td>0</td>\n",
       "      <td>10.0</td>\n",
       "    </tr>\n",
       "    <tr>\n",
       "      <th>23</th>\n",
       "      <td>0</td>\n",
       "      <td>0</td>\n",
       "      <td>0</td>\n",
       "      <td>0</td>\n",
       "      <td>0</td>\n",
       "      <td>0</td>\n",
       "      <td>0</td>\n",
       "      <td>0</td>\n",
       "      <td>0</td>\n",
       "      <td>0</td>\n",
       "      <td>...</td>\n",
       "      <td>0</td>\n",
       "      <td>0</td>\n",
       "      <td>0</td>\n",
       "      <td>1</td>\n",
       "      <td>0</td>\n",
       "      <td>1</td>\n",
       "      <td>2</td>\n",
       "      <td>9.0</td>\n",
       "      <td>0</td>\n",
       "      <td>10.0</td>\n",
       "    </tr>\n",
       "    <tr>\n",
       "      <th>27</th>\n",
       "      <td>0</td>\n",
       "      <td>0</td>\n",
       "      <td>0</td>\n",
       "      <td>0</td>\n",
       "      <td>0</td>\n",
       "      <td>0</td>\n",
       "      <td>0</td>\n",
       "      <td>0</td>\n",
       "      <td>0</td>\n",
       "      <td>0</td>\n",
       "      <td>...</td>\n",
       "      <td>0</td>\n",
       "      <td>0</td>\n",
       "      <td>0</td>\n",
       "      <td>0</td>\n",
       "      <td>0</td>\n",
       "      <td>0</td>\n",
       "      <td>63</td>\n",
       "      <td>1.0</td>\n",
       "      <td>3</td>\n",
       "      <td>10.0</td>\n",
       "    </tr>\n",
       "    <tr>\n",
       "      <th>36</th>\n",
       "      <td>0</td>\n",
       "      <td>0</td>\n",
       "      <td>0</td>\n",
       "      <td>0</td>\n",
       "      <td>0</td>\n",
       "      <td>0</td>\n",
       "      <td>0</td>\n",
       "      <td>0</td>\n",
       "      <td>0</td>\n",
       "      <td>0</td>\n",
       "      <td>...</td>\n",
       "      <td>0</td>\n",
       "      <td>0</td>\n",
       "      <td>0</td>\n",
       "      <td>0</td>\n",
       "      <td>0</td>\n",
       "      <td>0</td>\n",
       "      <td>10</td>\n",
       "      <td>1.0</td>\n",
       "      <td>1</td>\n",
       "      <td>18.0</td>\n",
       "    </tr>\n",
       "    <tr>\n",
       "      <th>42</th>\n",
       "      <td>0</td>\n",
       "      <td>0</td>\n",
       "      <td>0</td>\n",
       "      <td>0</td>\n",
       "      <td>0</td>\n",
       "      <td>0</td>\n",
       "      <td>0</td>\n",
       "      <td>0</td>\n",
       "      <td>0</td>\n",
       "      <td>0</td>\n",
       "      <td>...</td>\n",
       "      <td>0</td>\n",
       "      <td>0</td>\n",
       "      <td>0</td>\n",
       "      <td>0</td>\n",
       "      <td>0</td>\n",
       "      <td>0</td>\n",
       "      <td>3</td>\n",
       "      <td>7.0</td>\n",
       "      <td>1</td>\n",
       "      <td>19.0</td>\n",
       "    </tr>\n",
       "  </tbody>\n",
       "</table>\n",
       "<p>5 rows \u00d7 135 columns</p>\n",
       "</div>"
      ],
      "text/plain": [
       "         aisle_air fresheners candles  aisle_asian foods  \\\n",
       "user_id                                                    \n",
       "7                                   0                  0   \n",
       "23                                  0                  0   \n",
       "27                                  0                  0   \n",
       "36                                  0                  0   \n",
       "42                                  0                  0   \n",
       "\n",
       "         aisle_baby accessories  aisle_baby bath body care  \\\n",
       "user_id                                                      \n",
       "7                             0                          0   \n",
       "23                            0                          0   \n",
       "27                            0                          0   \n",
       "36                            0                          0   \n",
       "42                            0                          0   \n",
       "\n",
       "         aisle_baby food formula  aisle_bakery desserts  \\\n",
       "user_id                                                   \n",
       "7                              0                      0   \n",
       "23                             0                      0   \n",
       "27                             0                      0   \n",
       "36                             0                      0   \n",
       "42                             0                      0   \n",
       "\n",
       "         aisle_baking ingredients  aisle_baking supplies decor  aisle_beauty  \\\n",
       "user_id                                                                        \n",
       "7                               0                            0             0   \n",
       "23                              0                            0             0   \n",
       "27                              0                            0             0   \n",
       "36                              0                            0             0   \n",
       "42                              0                            0             0   \n",
       "\n",
       "         aisle_beers coolers  ...  aisle_trail mix snack mix  \\\n",
       "user_id                       ...                              \n",
       "7                          0  ...                          0   \n",
       "23                         0  ...                          0   \n",
       "27                         0  ...                          0   \n",
       "36                         0  ...                          0   \n",
       "42                         0  ...                          0   \n",
       "\n",
       "         aisle_trash bags liners  aisle_vitamins supplements  \\\n",
       "user_id                                                        \n",
       "7                              0                           0   \n",
       "23                             0                           0   \n",
       "27                             0                           0   \n",
       "36                             0                           0   \n",
       "42                             0                           0   \n",
       "\n",
       "         aisle_water seltzer sparkling water  aisle_white wines  aisle_yogurt  \\\n",
       "user_id                                                                         \n",
       "7                                          0                  0             0   \n",
       "23                                         1                  0             1   \n",
       "27                                         0                  0             0   \n",
       "36                                         0                  0             0   \n",
       "42                                         0                  0             0   \n",
       "\n",
       "         num_orders  mean_days_since  mode_order_dow  median_order_hour  \n",
       "user_id                                                                  \n",
       "7                17             28.0               0               10.0  \n",
       "23                2              9.0               0               10.0  \n",
       "27               63              1.0               3               10.0  \n",
       "36               10              1.0               1               18.0  \n",
       "42                3              7.0               1               19.0  \n",
       "\n",
       "[5 rows x 135 columns]"
      ]
     },
     "execution_count": 21,
     "metadata": {},
     "output_type": "execute_result"
    }
   ],
   "source": [
    "grouped_users.head()"
   ]
  },
  {
   "cell_type": "code",
   "execution_count": 22,
   "metadata": {},
   "outputs": [],
   "source": [
    "# This function came from a Medium article by Adam Ross Nelson to rearrange columns in a df\n",
    "def movecol(df, cols_to_move=[], ref_col='', place='After'):\n",
    "    \n",
    "    cols = df.columns.tolist()\n",
    "    if place == 'After':\n",
    "        seg1 = cols[:list(cols).index(ref_col) + 1]\n",
    "        seg2 = cols_to_move\n",
    "    if place == 'Before':\n",
    "        seg1 = cols[:list(cols).index(ref_col)]\n",
    "        seg2 = cols_to_move + [ref_col]\n",
    "    \n",
    "    seg1 = [i for i in seg1 if i not in seg2]\n",
    "    seg3 = [i for i in cols if i not in seg1 + seg2]\n",
    "    \n",
    "    return(df[seg1 + seg2 + seg3])"
   ]
  },
  {
   "cell_type": "code",
   "execution_count": 23,
   "metadata": {
    "scrolled": false
   },
   "outputs": [
    {
     "data": {
      "text/html": [
       "<div>\n",
       "<style scoped>\n",
       "    .dataframe tbody tr th:only-of-type {\n",
       "        vertical-align: middle;\n",
       "    }\n",
       "\n",
       "    .dataframe tbody tr th {\n",
       "        vertical-align: top;\n",
       "    }\n",
       "\n",
       "    .dataframe thead th {\n",
       "        text-align: right;\n",
       "    }\n",
       "</style>\n",
       "<table border=\"1\" class=\"dataframe\">\n",
       "  <thead>\n",
       "    <tr style=\"text-align: right;\">\n",
       "      <th></th>\n",
       "      <th>num_orders</th>\n",
       "      <th>mode_order_dow</th>\n",
       "      <th>median_order_hour</th>\n",
       "      <th>mean_days_since</th>\n",
       "      <th>aisle_air fresheners candles</th>\n",
       "      <th>aisle_asian foods</th>\n",
       "      <th>aisle_baby accessories</th>\n",
       "      <th>aisle_baby bath body care</th>\n",
       "      <th>aisle_baby food formula</th>\n",
       "      <th>aisle_bakery desserts</th>\n",
       "      <th>...</th>\n",
       "      <th>aisle_spreads</th>\n",
       "      <th>aisle_tea</th>\n",
       "      <th>aisle_tofu meat alternatives</th>\n",
       "      <th>aisle_tortillas flat bread</th>\n",
       "      <th>aisle_trail mix snack mix</th>\n",
       "      <th>aisle_trash bags liners</th>\n",
       "      <th>aisle_vitamins supplements</th>\n",
       "      <th>aisle_water seltzer sparkling water</th>\n",
       "      <th>aisle_white wines</th>\n",
       "      <th>aisle_yogurt</th>\n",
       "    </tr>\n",
       "    <tr>\n",
       "      <th>user_id</th>\n",
       "      <th></th>\n",
       "      <th></th>\n",
       "      <th></th>\n",
       "      <th></th>\n",
       "      <th></th>\n",
       "      <th></th>\n",
       "      <th></th>\n",
       "      <th></th>\n",
       "      <th></th>\n",
       "      <th></th>\n",
       "      <th></th>\n",
       "      <th></th>\n",
       "      <th></th>\n",
       "      <th></th>\n",
       "      <th></th>\n",
       "      <th></th>\n",
       "      <th></th>\n",
       "      <th></th>\n",
       "      <th></th>\n",
       "      <th></th>\n",
       "      <th></th>\n",
       "    </tr>\n",
       "  </thead>\n",
       "  <tbody>\n",
       "    <tr>\n",
       "      <th>7</th>\n",
       "      <td>17</td>\n",
       "      <td>0</td>\n",
       "      <td>10.0</td>\n",
       "      <td>28.0</td>\n",
       "      <td>0</td>\n",
       "      <td>0</td>\n",
       "      <td>0</td>\n",
       "      <td>0</td>\n",
       "      <td>0</td>\n",
       "      <td>0</td>\n",
       "      <td>...</td>\n",
       "      <td>0</td>\n",
       "      <td>0</td>\n",
       "      <td>0</td>\n",
       "      <td>0</td>\n",
       "      <td>0</td>\n",
       "      <td>0</td>\n",
       "      <td>0</td>\n",
       "      <td>0</td>\n",
       "      <td>0</td>\n",
       "      <td>0</td>\n",
       "    </tr>\n",
       "    <tr>\n",
       "      <th>23</th>\n",
       "      <td>2</td>\n",
       "      <td>0</td>\n",
       "      <td>10.0</td>\n",
       "      <td>9.0</td>\n",
       "      <td>0</td>\n",
       "      <td>0</td>\n",
       "      <td>0</td>\n",
       "      <td>0</td>\n",
       "      <td>0</td>\n",
       "      <td>0</td>\n",
       "      <td>...</td>\n",
       "      <td>0</td>\n",
       "      <td>0</td>\n",
       "      <td>0</td>\n",
       "      <td>0</td>\n",
       "      <td>0</td>\n",
       "      <td>0</td>\n",
       "      <td>0</td>\n",
       "      <td>1</td>\n",
       "      <td>0</td>\n",
       "      <td>1</td>\n",
       "    </tr>\n",
       "    <tr>\n",
       "      <th>27</th>\n",
       "      <td>63</td>\n",
       "      <td>3</td>\n",
       "      <td>10.0</td>\n",
       "      <td>1.0</td>\n",
       "      <td>0</td>\n",
       "      <td>0</td>\n",
       "      <td>0</td>\n",
       "      <td>0</td>\n",
       "      <td>0</td>\n",
       "      <td>0</td>\n",
       "      <td>...</td>\n",
       "      <td>0</td>\n",
       "      <td>0</td>\n",
       "      <td>0</td>\n",
       "      <td>0</td>\n",
       "      <td>0</td>\n",
       "      <td>0</td>\n",
       "      <td>0</td>\n",
       "      <td>0</td>\n",
       "      <td>0</td>\n",
       "      <td>0</td>\n",
       "    </tr>\n",
       "    <tr>\n",
       "      <th>36</th>\n",
       "      <td>10</td>\n",
       "      <td>1</td>\n",
       "      <td>18.0</td>\n",
       "      <td>1.0</td>\n",
       "      <td>0</td>\n",
       "      <td>0</td>\n",
       "      <td>0</td>\n",
       "      <td>0</td>\n",
       "      <td>0</td>\n",
       "      <td>0</td>\n",
       "      <td>...</td>\n",
       "      <td>0</td>\n",
       "      <td>0</td>\n",
       "      <td>0</td>\n",
       "      <td>0</td>\n",
       "      <td>0</td>\n",
       "      <td>0</td>\n",
       "      <td>0</td>\n",
       "      <td>0</td>\n",
       "      <td>0</td>\n",
       "      <td>0</td>\n",
       "    </tr>\n",
       "    <tr>\n",
       "      <th>42</th>\n",
       "      <td>3</td>\n",
       "      <td>1</td>\n",
       "      <td>19.0</td>\n",
       "      <td>7.0</td>\n",
       "      <td>0</td>\n",
       "      <td>0</td>\n",
       "      <td>0</td>\n",
       "      <td>0</td>\n",
       "      <td>0</td>\n",
       "      <td>0</td>\n",
       "      <td>...</td>\n",
       "      <td>0</td>\n",
       "      <td>0</td>\n",
       "      <td>0</td>\n",
       "      <td>0</td>\n",
       "      <td>0</td>\n",
       "      <td>0</td>\n",
       "      <td>0</td>\n",
       "      <td>0</td>\n",
       "      <td>0</td>\n",
       "      <td>0</td>\n",
       "    </tr>\n",
       "  </tbody>\n",
       "</table>\n",
       "<p>5 rows \u00d7 135 columns</p>\n",
       "</div>"
      ],
      "text/plain": [
       "         num_orders  mode_order_dow  median_order_hour  mean_days_since  \\\n",
       "user_id                                                                   \n",
       "7                17               0               10.0             28.0   \n",
       "23                2               0               10.0              9.0   \n",
       "27               63               3               10.0              1.0   \n",
       "36               10               1               18.0              1.0   \n",
       "42                3               1               19.0              7.0   \n",
       "\n",
       "         aisle_air fresheners candles  aisle_asian foods  \\\n",
       "user_id                                                    \n",
       "7                                   0                  0   \n",
       "23                                  0                  0   \n",
       "27                                  0                  0   \n",
       "36                                  0                  0   \n",
       "42                                  0                  0   \n",
       "\n",
       "         aisle_baby accessories  aisle_baby bath body care  \\\n",
       "user_id                                                      \n",
       "7                             0                          0   \n",
       "23                            0                          0   \n",
       "27                            0                          0   \n",
       "36                            0                          0   \n",
       "42                            0                          0   \n",
       "\n",
       "         aisle_baby food formula  aisle_bakery desserts  ...  aisle_spreads  \\\n",
       "user_id                                                  ...                  \n",
       "7                              0                      0  ...              0   \n",
       "23                             0                      0  ...              0   \n",
       "27                             0                      0  ...              0   \n",
       "36                             0                      0  ...              0   \n",
       "42                             0                      0  ...              0   \n",
       "\n",
       "         aisle_tea  aisle_tofu meat alternatives  aisle_tortillas flat bread  \\\n",
       "user_id                                                                        \n",
       "7                0                             0                           0   \n",
       "23               0                             0                           0   \n",
       "27               0                             0                           0   \n",
       "36               0                             0                           0   \n",
       "42               0                             0                           0   \n",
       "\n",
       "         aisle_trail mix snack mix  aisle_trash bags liners  \\\n",
       "user_id                                                       \n",
       "7                                0                        0   \n",
       "23                               0                        0   \n",
       "27                               0                        0   \n",
       "36                               0                        0   \n",
       "42                               0                        0   \n",
       "\n",
       "         aisle_vitamins supplements  aisle_water seltzer sparkling water  \\\n",
       "user_id                                                                    \n",
       "7                                 0                                    0   \n",
       "23                                0                                    1   \n",
       "27                                0                                    0   \n",
       "36                                0                                    0   \n",
       "42                                0                                    0   \n",
       "\n",
       "         aisle_white wines  aisle_yogurt  \n",
       "user_id                                   \n",
       "7                        0             0  \n",
       "23                       0             1  \n",
       "27                       0             0  \n",
       "36                       0             0  \n",
       "42                       0             0  \n",
       "\n",
       "[5 rows x 135 columns]"
      ]
     },
     "execution_count": 23,
     "metadata": {},
     "output_type": "execute_result"
    }
   ],
   "source": [
    "grouped_users = movecol(grouped_users, \n",
    "             cols_to_move=['num_orders', 'mode_order_dow', 'median_order_hour', 'mean_days_since'], \n",
    "             ref_col='aisle_air fresheners candles',\n",
    "             place='Before')\n",
    "grouped_users.head()"
   ]
  },
  {
   "cell_type": "code",
   "execution_count": 30,
   "metadata": {},
   "outputs": [],
   "source": [
    "pickle.dump(grouped_users, open(\"Pickle/grouped_users.p\", \"wb\"))\n",
    "grouped_users = pickle.load(open(\"Pickle/grouped_users.p\", \"rb\"))"
   ]
  },
  {
   "cell_type": "markdown",
   "metadata": {},
   "source": [
    "### Run KMeans clustering"
   ]
  },
  {
   "cell_type": "code",
   "execution_count": 31,
   "metadata": {},
   "outputs": [
    {
     "data": {
      "text/plain": [
       "(3373, 135)"
      ]
     },
     "execution_count": 31,
     "metadata": {},
     "output_type": "execute_result"
    }
   ],
   "source": [
    "from sklearn.preprocessing import StandardScaler\n",
    "scaler = StandardScaler()\n",
    "scaled_users = scaler.fit_transform(grouped_users) \n",
    "scaled_users.shape"
   ]
  },
  {
   "cell_type": "code",
   "execution_count": 33,
   "metadata": {},
   "outputs": [
    {
     "name": "stdout",
     "output_type": "stream",
     "text": [
      "[]\n"
     ]
    }
   ],
   "source": [
    "from sklearn.preprocessing import StandardScaler\n",
    "\n",
    "# Assuming df is your original DataFrame\n",
    "scaler = StandardScaler()\n",
    "scaled_users = scaler.fit_transform(grouped_users)\n",
    "\n",
    "# Convert back to DataFrame to keep column names\n",
    "scaled_users_df = pd.DataFrame(scaled_users, columns=grouped_users.columns)\n",
    "\n",
    "missing_columns = scaled_users_df.columns[grouped_users.isna().any()].tolist()\n",
    "print(missing_columns) "
   ]
  },
  {
   "cell_type": "code",
   "execution_count": 34,
   "metadata": {},
   "outputs": [],
   "source": [
    "grouped_users[\"mean_days_since\"] = grouped_users[\"mean_days_since\"].fillna(grouped_users[\"mean_days_since\"].mean())"
   ]
  },
  {
   "cell_type": "code",
   "execution_count": 35,
   "metadata": {},
   "outputs": [
    {
     "data": {
      "text/plain": [
       "0"
      ]
     },
     "execution_count": 35,
     "metadata": {},
     "output_type": "execute_result"
    }
   ],
   "source": [
    " \n",
    "scaled_users  \n",
    "import numpy as np\n",
    "np.isnan(scaled_users).sum()"
   ]
  },
  {
   "cell_type": "code",
   "execution_count": 37,
   "metadata": {},
   "outputs": [],
   "source": [
    "from sklearn.cluster import KMeans\n",
    "random_state = 12\n",
    "\n",
    "'''The classical EM-style algorithm is \u201cfull\u201d. The \u201celkan\u201d variation is more efficient on data with well-defined clusters,\n",
    "by using the triangle inequality. However it\u2019s more memory intensive due to the allocation of an extra array of shape \n",
    "(n_samples, n_clusters).'''\n",
    "\n",
    "# Is having 20 separate market segments helpful?  Can I figure out what make them different and target that?  \n",
    "\n",
    "k_means_13 = KMeans(n_clusters=13, random_state=random_state, algorithm='elkan').fit(scaled_users)\n",
    "k_means_14 = KMeans(n_clusters=14, random_state=random_state, algorithm='elkan').fit(scaled_users)\n",
    "k_means_15 = KMeans(n_clusters=15, random_state=random_state, algorithm='elkan').fit(scaled_users)\n",
    "k_means_16 = KMeans(n_clusters=16, random_state=random_state, algorithm='elkan').fit(scaled_users)\n",
    "k_means_17 = KMeans(n_clusters=17, random_state=random_state, algorithm='elkan').fit(scaled_users)\n",
    "k_means_18 = KMeans(n_clusters=18, random_state=random_state, algorithm='elkan').fit(scaled_users)\n",
    "k_means_20 = KMeans(n_clusters=20, random_state=random_state, algorithm='elkan').fit(scaled_users)\n"
   ]
  },
  {
   "cell_type": "code",
   "execution_count": 38,
   "metadata": {},
   "outputs": [],
   "source": [
    " pickle.dump(k_means_20, open(\"Pickle/k_means_20.p\", \"wb\"))"
   ]
  },
  {
   "cell_type": "code",
   "execution_count": 39,
   "metadata": {},
   "outputs": [],
   "source": [
    "k_means_20 = pickle.load(open(\"Pickle/k_means_20.p\", \"rb\"))"
   ]
  },
  {
   "cell_type": "code",
   "execution_count": 40,
   "metadata": {},
   "outputs": [],
   "source": [
    "k_list = [ k_means_13, \n",
    "          k_means_14, k_means_15, k_means_16, k_means_17, k_means_18, k_means_20]"
   ]
  },
  {
   "cell_type": "code",
   "execution_count": 163,
   "metadata": {},
   "outputs": [],
   "source": [
    "from sklearn.metrics import calinski_harabasz_score\n",
    "\n",
    "CH_score = []\n",
    "\n",
    "for model in k_list:\n",
    "    labels = model.labels_\n",
    "    CH_score.append(calinski_harabasz_score(grouped_users, labels)) "
   ]
  },
  {
   "cell_type": "code",
   "execution_count": 164,
   "metadata": {
    "scrolled": true
   },
   "outputs": [
    {
     "ename": "ValueError",
     "evalue": "x and y must have same first dimension, but have shapes (11,) and (7,)",
     "output_type": "error",
     "traceback": [
      "\u001b[1;31m---------------------------------------------------------------------------\u001b[0m",
      "\u001b[1;31mValueError\u001b[0m                                Traceback (most recent call last)",
      "Cell \u001b[1;32mIn[164], line 4\u001b[0m\n\u001b[0;32m      1\u001b[0m \u001b[38;5;66;03m# Need to decide if I keep going with more clusters\u001b[39;00m\n\u001b[0;32m      2\u001b[0m \u001b[38;5;66;03m# Previous k_means_20 on unscaled data had CH around 16000, now scaled it is at 8000\u001b[39;00m\n\u001b[1;32m----> 4\u001b[0m \u001b[43mplt\u001b[49m\u001b[38;5;241;43m.\u001b[39;49m\u001b[43mplot\u001b[49m\u001b[43m(\u001b[49m\u001b[43m[\u001b[49m\u001b[38;5;241;43m10\u001b[39;49m\u001b[43m,\u001b[49m\u001b[43m \u001b[49m\u001b[38;5;241;43m11\u001b[39;49m\u001b[43m,\u001b[49m\u001b[43m \u001b[49m\u001b[38;5;241;43m12\u001b[39;49m\u001b[43m,\u001b[49m\u001b[43m \u001b[49m\u001b[38;5;241;43m13\u001b[39;49m\u001b[43m,\u001b[49m\u001b[43m \u001b[49m\u001b[38;5;241;43m14\u001b[39;49m\u001b[43m,\u001b[49m\u001b[43m \u001b[49m\u001b[38;5;241;43m15\u001b[39;49m\u001b[43m,\u001b[49m\u001b[43m \u001b[49m\u001b[38;5;241;43m16\u001b[39;49m\u001b[43m,\u001b[49m\u001b[43m \u001b[49m\u001b[38;5;241;43m17\u001b[39;49m\u001b[43m,\u001b[49m\u001b[43m \u001b[49m\u001b[38;5;241;43m18\u001b[39;49m\u001b[43m,\u001b[49m\u001b[43m \u001b[49m\u001b[38;5;241;43m19\u001b[39;49m\u001b[43m,\u001b[49m\u001b[43m \u001b[49m\u001b[38;5;241;43m20\u001b[39;49m\u001b[43m]\u001b[49m\u001b[43m,\u001b[49m\u001b[43m \u001b[49m\u001b[43mCH_score\u001b[49m\u001b[43m)\u001b[49m\n\u001b[0;32m      5\u001b[0m plt\u001b[38;5;241m.\u001b[39mxticks([\u001b[38;5;241m10\u001b[39m,\u001b[38;5;241m11\u001b[39m,\u001b[38;5;241m12\u001b[39m,\u001b[38;5;241m13\u001b[39m,\u001b[38;5;241m14\u001b[39m,\u001b[38;5;241m15\u001b[39m,\u001b[38;5;241m16\u001b[39m,\u001b[38;5;241m17\u001b[39m,\u001b[38;5;241m18\u001b[39m,\u001b[38;5;241m19\u001b[39m,\u001b[38;5;241m20\u001b[39m])\n\u001b[0;32m      6\u001b[0m plt\u001b[38;5;241m.\u001b[39mtitle(\u001b[38;5;124m'\u001b[39m\u001b[38;5;124mCalinski Harabasz Scores for Different Values of K\u001b[39m\u001b[38;5;124m'\u001b[39m)\n",
      "File \u001b[1;32mc:\\Users\\Echlon Defence\\Lib\\site-packages\\matplotlib\\pyplot.py:3708\u001b[0m, in \u001b[0;36mplot\u001b[1;34m(scalex, scaley, data, *args, **kwargs)\u001b[0m\n\u001b[0;32m   3700\u001b[0m \u001b[38;5;129m@_copy_docstring_and_deprecators\u001b[39m(Axes\u001b[38;5;241m.\u001b[39mplot)\n\u001b[0;32m   3701\u001b[0m \u001b[38;5;28;01mdef\u001b[39;00m \u001b[38;5;21mplot\u001b[39m(\n\u001b[0;32m   3702\u001b[0m     \u001b[38;5;241m*\u001b[39margs: \u001b[38;5;28mfloat\u001b[39m \u001b[38;5;241m|\u001b[39m ArrayLike \u001b[38;5;241m|\u001b[39m \u001b[38;5;28mstr\u001b[39m,\n\u001b[1;32m   (...)\u001b[0m\n\u001b[0;32m   3706\u001b[0m     \u001b[38;5;241m*\u001b[39m\u001b[38;5;241m*\u001b[39mkwargs,\n\u001b[0;32m   3707\u001b[0m ) \u001b[38;5;241m-\u001b[39m\u001b[38;5;241m>\u001b[39m \u001b[38;5;28mlist\u001b[39m[Line2D]:\n\u001b[1;32m-> 3708\u001b[0m     \u001b[38;5;28;01mreturn\u001b[39;00m \u001b[43mgca\u001b[49m\u001b[43m(\u001b[49m\u001b[43m)\u001b[49m\u001b[38;5;241;43m.\u001b[39;49m\u001b[43mplot\u001b[49m\u001b[43m(\u001b[49m\n\u001b[0;32m   3709\u001b[0m \u001b[43m        \u001b[49m\u001b[38;5;241;43m*\u001b[39;49m\u001b[43margs\u001b[49m\u001b[43m,\u001b[49m\n\u001b[0;32m   3710\u001b[0m \u001b[43m        \u001b[49m\u001b[43mscalex\u001b[49m\u001b[38;5;241;43m=\u001b[39;49m\u001b[43mscalex\u001b[49m\u001b[43m,\u001b[49m\n\u001b[0;32m   3711\u001b[0m \u001b[43m        \u001b[49m\u001b[43mscaley\u001b[49m\u001b[38;5;241;43m=\u001b[39;49m\u001b[43mscaley\u001b[49m\u001b[43m,\u001b[49m\n\u001b[0;32m   3712\u001b[0m \u001b[43m        \u001b[49m\u001b[38;5;241;43m*\u001b[39;49m\u001b[38;5;241;43m*\u001b[39;49m\u001b[43m(\u001b[49m\u001b[43m{\u001b[49m\u001b[38;5;124;43m\"\u001b[39;49m\u001b[38;5;124;43mdata\u001b[39;49m\u001b[38;5;124;43m\"\u001b[39;49m\u001b[43m:\u001b[49m\u001b[43m \u001b[49m\u001b[43mdata\u001b[49m\u001b[43m}\u001b[49m\u001b[43m \u001b[49m\u001b[38;5;28;43;01mif\u001b[39;49;00m\u001b[43m \u001b[49m\u001b[43mdata\u001b[49m\u001b[43m \u001b[49m\u001b[38;5;129;43;01mis\u001b[39;49;00m\u001b[43m \u001b[49m\u001b[38;5;129;43;01mnot\u001b[39;49;00m\u001b[43m \u001b[49m\u001b[38;5;28;43;01mNone\u001b[39;49;00m\u001b[43m \u001b[49m\u001b[38;5;28;43;01melse\u001b[39;49;00m\u001b[43m \u001b[49m\u001b[43m{\u001b[49m\u001b[43m}\u001b[49m\u001b[43m)\u001b[49m\u001b[43m,\u001b[49m\n\u001b[0;32m   3713\u001b[0m \u001b[43m        \u001b[49m\u001b[38;5;241;43m*\u001b[39;49m\u001b[38;5;241;43m*\u001b[39;49m\u001b[43mkwargs\u001b[49m\u001b[43m,\u001b[49m\n\u001b[0;32m   3714\u001b[0m \u001b[43m    \u001b[49m\u001b[43m)\u001b[49m\n",
      "File \u001b[1;32mc:\\Users\\Echlon Defence\\Lib\\site-packages\\matplotlib\\axes\\_axes.py:1779\u001b[0m, in \u001b[0;36mAxes.plot\u001b[1;34m(self, scalex, scaley, data, *args, **kwargs)\u001b[0m\n\u001b[0;32m   1536\u001b[0m \u001b[38;5;250m\u001b[39m\u001b[38;5;124;03m\"\"\"\u001b[39;00m\n\u001b[0;32m   1537\u001b[0m \u001b[38;5;124;03mPlot y versus x as lines and/or markers.\u001b[39;00m\n\u001b[0;32m   1538\u001b[0m \n\u001b[1;32m   (...)\u001b[0m\n\u001b[0;32m   1776\u001b[0m \u001b[38;5;124;03m(``'green'``) or hex strings (``'#008000'``).\u001b[39;00m\n\u001b[0;32m   1777\u001b[0m \u001b[38;5;124;03m\"\"\"\u001b[39;00m\n\u001b[0;32m   1778\u001b[0m kwargs \u001b[38;5;241m=\u001b[39m cbook\u001b[38;5;241m.\u001b[39mnormalize_kwargs(kwargs, mlines\u001b[38;5;241m.\u001b[39mLine2D)\n\u001b[1;32m-> 1779\u001b[0m lines \u001b[38;5;241m=\u001b[39m [\u001b[38;5;241m*\u001b[39m\u001b[38;5;28mself\u001b[39m\u001b[38;5;241m.\u001b[39m_get_lines(\u001b[38;5;28mself\u001b[39m, \u001b[38;5;241m*\u001b[39margs, data\u001b[38;5;241m=\u001b[39mdata, \u001b[38;5;241m*\u001b[39m\u001b[38;5;241m*\u001b[39mkwargs)]\n\u001b[0;32m   1780\u001b[0m \u001b[38;5;28;01mfor\u001b[39;00m line \u001b[38;5;129;01min\u001b[39;00m lines:\n\u001b[0;32m   1781\u001b[0m     \u001b[38;5;28mself\u001b[39m\u001b[38;5;241m.\u001b[39madd_line(line)\n",
      "File \u001b[1;32mc:\\Users\\Echlon Defence\\Lib\\site-packages\\matplotlib\\axes\\_base.py:296\u001b[0m, in \u001b[0;36m_process_plot_var_args.__call__\u001b[1;34m(self, axes, data, *args, **kwargs)\u001b[0m\n\u001b[0;32m    294\u001b[0m     this \u001b[38;5;241m+\u001b[39m\u001b[38;5;241m=\u001b[39m args[\u001b[38;5;241m0\u001b[39m],\n\u001b[0;32m    295\u001b[0m     args \u001b[38;5;241m=\u001b[39m args[\u001b[38;5;241m1\u001b[39m:]\n\u001b[1;32m--> 296\u001b[0m \u001b[38;5;28;01myield from\u001b[39;00m \u001b[38;5;28;43mself\u001b[39;49m\u001b[38;5;241;43m.\u001b[39;49m\u001b[43m_plot_args\u001b[49m\u001b[43m(\u001b[49m\n\u001b[0;32m    297\u001b[0m \u001b[43m    \u001b[49m\u001b[43maxes\u001b[49m\u001b[43m,\u001b[49m\u001b[43m \u001b[49m\u001b[43mthis\u001b[49m\u001b[43m,\u001b[49m\u001b[43m \u001b[49m\u001b[43mkwargs\u001b[49m\u001b[43m,\u001b[49m\u001b[43m \u001b[49m\u001b[43mambiguous_fmt_datakey\u001b[49m\u001b[38;5;241;43m=\u001b[39;49m\u001b[43mambiguous_fmt_datakey\u001b[49m\u001b[43m)\u001b[49m\n",
      "File \u001b[1;32mc:\\Users\\Echlon Defence\\Lib\\site-packages\\matplotlib\\axes\\_base.py:486\u001b[0m, in \u001b[0;36m_process_plot_var_args._plot_args\u001b[1;34m(self, axes, tup, kwargs, return_kwargs, ambiguous_fmt_datakey)\u001b[0m\n\u001b[0;32m    483\u001b[0m     axes\u001b[38;5;241m.\u001b[39myaxis\u001b[38;5;241m.\u001b[39mupdate_units(y)\n\u001b[0;32m    485\u001b[0m \u001b[38;5;28;01mif\u001b[39;00m x\u001b[38;5;241m.\u001b[39mshape[\u001b[38;5;241m0\u001b[39m] \u001b[38;5;241m!=\u001b[39m y\u001b[38;5;241m.\u001b[39mshape[\u001b[38;5;241m0\u001b[39m]:\n\u001b[1;32m--> 486\u001b[0m     \u001b[38;5;28;01mraise\u001b[39;00m \u001b[38;5;167;01mValueError\u001b[39;00m(\u001b[38;5;124mf\u001b[39m\u001b[38;5;124m\"\u001b[39m\u001b[38;5;124mx and y must have same first dimension, but \u001b[39m\u001b[38;5;124m\"\u001b[39m\n\u001b[0;32m    487\u001b[0m                      \u001b[38;5;124mf\u001b[39m\u001b[38;5;124m\"\u001b[39m\u001b[38;5;124mhave shapes \u001b[39m\u001b[38;5;132;01m{\u001b[39;00mx\u001b[38;5;241m.\u001b[39mshape\u001b[38;5;132;01m}\u001b[39;00m\u001b[38;5;124m and \u001b[39m\u001b[38;5;132;01m{\u001b[39;00my\u001b[38;5;241m.\u001b[39mshape\u001b[38;5;132;01m}\u001b[39;00m\u001b[38;5;124m\"\u001b[39m)\n\u001b[0;32m    488\u001b[0m \u001b[38;5;28;01mif\u001b[39;00m x\u001b[38;5;241m.\u001b[39mndim \u001b[38;5;241m>\u001b[39m \u001b[38;5;241m2\u001b[39m \u001b[38;5;129;01mor\u001b[39;00m y\u001b[38;5;241m.\u001b[39mndim \u001b[38;5;241m>\u001b[39m \u001b[38;5;241m2\u001b[39m:\n\u001b[0;32m    489\u001b[0m     \u001b[38;5;28;01mraise\u001b[39;00m \u001b[38;5;167;01mValueError\u001b[39;00m(\u001b[38;5;124mf\u001b[39m\u001b[38;5;124m\"\u001b[39m\u001b[38;5;124mx and y can be no greater than 2D, but have \u001b[39m\u001b[38;5;124m\"\u001b[39m\n\u001b[0;32m    490\u001b[0m                      \u001b[38;5;124mf\u001b[39m\u001b[38;5;124m\"\u001b[39m\u001b[38;5;124mshapes \u001b[39m\u001b[38;5;132;01m{\u001b[39;00mx\u001b[38;5;241m.\u001b[39mshape\u001b[38;5;132;01m}\u001b[39;00m\u001b[38;5;124m and \u001b[39m\u001b[38;5;132;01m{\u001b[39;00my\u001b[38;5;241m.\u001b[39mshape\u001b[38;5;132;01m}\u001b[39;00m\u001b[38;5;124m\"\u001b[39m)\n",
      "\u001b[1;31mValueError\u001b[0m: x and y must have same first dimension, but have shapes (11,) and (7,)"
     ]
    },
    {
     "data": {
      "image/png": "[encoded data removed]",
      "text/plain": [
       "<Figure size 640x480 with 1 Axes>"
      ]
     },
     "metadata": {},
     "output_type": "display_data"
    }
   ],
   "source": [
    "# Need to decide if I keep going with more clusters\n",
    "# Previous k_means_20 on unscaled data had CH around 16000, now scaled it is at 8000\n",
    "\n",
    "plt.plot([10, 11, 12, 13, 14, 15, 16, 17, 18, 19, 20], CH_score)\n",
    "plt.xticks([10,11,12,13,14,15,16,17,18,19,20])\n",
    "plt.title('Calinski Harabasz Scores for Different Values of K')\n",
    "plt.ylabel('Variance Ratio')\n",
    "plt.xlabel('K=')\n",
    "plt.savefig('Images/ch_scaled_scores.png');"
   ]
  },
  {
   "cell_type": "code",
   "execution_count": 44,
   "metadata": {},
   "outputs": [],
   "source": [
    "# Looking at Within Cluster Sum of Squares\n",
    "\n",
    "wcss_score = []\n",
    "\n",
    "for model in k_list:\n",
    "    labels = model.labels_\n",
    "    wcss_score.append(model.inertia_)"
   ]
  },
  {
   "cell_type": "code",
   "execution_count": 45,
   "metadata": {},
   "outputs": [
    {
     "ename": "ValueError",
     "evalue": "x and y must have same first dimension, but have shapes (11,) and (7,)",
     "output_type": "error",
     "traceback": [
      "\u001b[1;31m---------------------------------------------------------------------------\u001b[0m",
      "\u001b[1;31mValueError\u001b[0m                                Traceback (most recent call last)",
      "Cell \u001b[1;32mIn[45], line 1\u001b[0m\n\u001b[1;32m----> 1\u001b[0m \u001b[43mplt\u001b[49m\u001b[38;5;241;43m.\u001b[39;49m\u001b[43mplot\u001b[49m\u001b[43m(\u001b[49m\u001b[43m[\u001b[49m\u001b[38;5;241;43m10\u001b[39;49m\u001b[43m,\u001b[49m\u001b[43m \u001b[49m\u001b[38;5;241;43m11\u001b[39;49m\u001b[43m,\u001b[49m\u001b[43m \u001b[49m\u001b[38;5;241;43m12\u001b[39;49m\u001b[43m,\u001b[49m\u001b[43m \u001b[49m\u001b[38;5;241;43m13\u001b[39;49m\u001b[43m,\u001b[49m\u001b[43m \u001b[49m\u001b[38;5;241;43m14\u001b[39;49m\u001b[43m,\u001b[49m\u001b[43m \u001b[49m\u001b[38;5;241;43m15\u001b[39;49m\u001b[43m,\u001b[49m\u001b[43m \u001b[49m\u001b[38;5;241;43m16\u001b[39;49m\u001b[43m,\u001b[49m\u001b[43m \u001b[49m\u001b[38;5;241;43m17\u001b[39;49m\u001b[43m,\u001b[49m\u001b[43m \u001b[49m\u001b[38;5;241;43m18\u001b[39;49m\u001b[43m,\u001b[49m\u001b[43m \u001b[49m\u001b[38;5;241;43m19\u001b[39;49m\u001b[43m,\u001b[49m\u001b[43m \u001b[49m\u001b[38;5;241;43m20\u001b[39;49m\u001b[43m]\u001b[49m\u001b[43m,\u001b[49m\u001b[43m \u001b[49m\u001b[43mwcss_score\u001b[49m\u001b[43m)\u001b[49m\n\u001b[0;32m      2\u001b[0m plt\u001b[38;5;241m.\u001b[39mxticks([\u001b[38;5;241m10\u001b[39m,\u001b[38;5;241m11\u001b[39m,\u001b[38;5;241m12\u001b[39m,\u001b[38;5;241m13\u001b[39m,\u001b[38;5;241m14\u001b[39m,\u001b[38;5;241m15\u001b[39m,\u001b[38;5;241m16\u001b[39m,\u001b[38;5;241m17\u001b[39m,\u001b[38;5;241m18\u001b[39m,\u001b[38;5;241m19\u001b[39m,\u001b[38;5;241m20\u001b[39m])\n\u001b[0;32m      3\u001b[0m plt\u001b[38;5;241m.\u001b[39mtitle(\u001b[38;5;124m'\u001b[39m\u001b[38;5;124mWithin Cluster Sum of Squares Scores for Different Values of K\u001b[39m\u001b[38;5;124m'\u001b[39m)\n",
      "File \u001b[1;32mc:\\Users\\Echlon Defence\\Lib\\site-packages\\matplotlib\\pyplot.py:3708\u001b[0m, in \u001b[0;36mplot\u001b[1;34m(scalex, scaley, data, *args, **kwargs)\u001b[0m\n\u001b[0;32m   3700\u001b[0m \u001b[38;5;129m@_copy_docstring_and_deprecators\u001b[39m(Axes\u001b[38;5;241m.\u001b[39mplot)\n\u001b[0;32m   3701\u001b[0m \u001b[38;5;28;01mdef\u001b[39;00m \u001b[38;5;21mplot\u001b[39m(\n\u001b[0;32m   3702\u001b[0m     \u001b[38;5;241m*\u001b[39margs: \u001b[38;5;28mfloat\u001b[39m \u001b[38;5;241m|\u001b[39m ArrayLike \u001b[38;5;241m|\u001b[39m \u001b[38;5;28mstr\u001b[39m,\n\u001b[1;32m   (...)\u001b[0m\n\u001b[0;32m   3706\u001b[0m     \u001b[38;5;241m*\u001b[39m\u001b[38;5;241m*\u001b[39mkwargs,\n\u001b[0;32m   3707\u001b[0m ) \u001b[38;5;241m-\u001b[39m\u001b[38;5;241m>\u001b[39m \u001b[38;5;28mlist\u001b[39m[Line2D]:\n\u001b[1;32m-> 3708\u001b[0m     \u001b[38;5;28;01mreturn\u001b[39;00m \u001b[43mgca\u001b[49m\u001b[43m(\u001b[49m\u001b[43m)\u001b[49m\u001b[38;5;241;43m.\u001b[39;49m\u001b[43mplot\u001b[49m\u001b[43m(\u001b[49m\n\u001b[0;32m   3709\u001b[0m \u001b[43m        \u001b[49m\u001b[38;5;241;43m*\u001b[39;49m\u001b[43margs\u001b[49m\u001b[43m,\u001b[49m\n\u001b[0;32m   3710\u001b[0m \u001b[43m        \u001b[49m\u001b[43mscalex\u001b[49m\u001b[38;5;241;43m=\u001b[39;49m\u001b[43mscalex\u001b[49m\u001b[43m,\u001b[49m\n\u001b[0;32m   3711\u001b[0m \u001b[43m        \u001b[49m\u001b[43mscaley\u001b[49m\u001b[38;5;241;43m=\u001b[39;49m\u001b[43mscaley\u001b[49m\u001b[43m,\u001b[49m\n\u001b[0;32m   3712\u001b[0m \u001b[43m        \u001b[49m\u001b[38;5;241;43m*\u001b[39;49m\u001b[38;5;241;43m*\u001b[39;49m\u001b[43m(\u001b[49m\u001b[43m{\u001b[49m\u001b[38;5;124;43m\"\u001b[39;49m\u001b[38;5;124;43mdata\u001b[39;49m\u001b[38;5;124;43m\"\u001b[39;49m\u001b[43m:\u001b[49m\u001b[43m \u001b[49m\u001b[43mdata\u001b[49m\u001b[43m}\u001b[49m\u001b[43m \u001b[49m\u001b[38;5;28;43;01mif\u001b[39;49;00m\u001b[43m \u001b[49m\u001b[43mdata\u001b[49m\u001b[43m \u001b[49m\u001b[38;5;129;43;01mis\u001b[39;49;00m\u001b[43m \u001b[49m\u001b[38;5;129;43;01mnot\u001b[39;49;00m\u001b[43m \u001b[49m\u001b[38;5;28;43;01mNone\u001b[39;49;00m\u001b[43m \u001b[49m\u001b[38;5;28;43;01melse\u001b[39;49;00m\u001b[43m \u001b[49m\u001b[43m{\u001b[49m\u001b[43m}\u001b[49m\u001b[43m)\u001b[49m\u001b[43m,\u001b[49m\n\u001b[0;32m   3713\u001b[0m \u001b[43m        \u001b[49m\u001b[38;5;241;43m*\u001b[39;49m\u001b[38;5;241;43m*\u001b[39;49m\u001b[43mkwargs\u001b[49m\u001b[43m,\u001b[49m\n\u001b[0;32m   3714\u001b[0m \u001b[43m    \u001b[49m\u001b[43m)\u001b[49m\n",
      "File \u001b[1;32mc:\\Users\\Echlon Defence\\Lib\\site-packages\\matplotlib\\axes\\_axes.py:1779\u001b[0m, in \u001b[0;36mAxes.plot\u001b[1;34m(self, scalex, scaley, data, *args, **kwargs)\u001b[0m\n\u001b[0;32m   1536\u001b[0m \u001b[38;5;250m\u001b[39m\u001b[38;5;124;03m\"\"\"\u001b[39;00m\n\u001b[0;32m   1537\u001b[0m \u001b[38;5;124;03mPlot y versus x as lines and/or markers.\u001b[39;00m\n\u001b[0;32m   1538\u001b[0m \n\u001b[1;32m   (...)\u001b[0m\n\u001b[0;32m   1776\u001b[0m \u001b[38;5;124;03m(``'green'``) or hex strings (``'#008000'``).\u001b[39;00m\n\u001b[0;32m   1777\u001b[0m \u001b[38;5;124;03m\"\"\"\u001b[39;00m\n\u001b[0;32m   1778\u001b[0m kwargs \u001b[38;5;241m=\u001b[39m cbook\u001b[38;5;241m.\u001b[39mnormalize_kwargs(kwargs, mlines\u001b[38;5;241m.\u001b[39mLine2D)\n\u001b[1;32m-> 1779\u001b[0m lines \u001b[38;5;241m=\u001b[39m [\u001b[38;5;241m*\u001b[39m\u001b[38;5;28mself\u001b[39m\u001b[38;5;241m.\u001b[39m_get_lines(\u001b[38;5;28mself\u001b[39m, \u001b[38;5;241m*\u001b[39margs, data\u001b[38;5;241m=\u001b[39mdata, \u001b[38;5;241m*\u001b[39m\u001b[38;5;241m*\u001b[39mkwargs)]\n\u001b[0;32m   1780\u001b[0m \u001b[38;5;28;01mfor\u001b[39;00m line \u001b[38;5;129;01min\u001b[39;00m lines:\n\u001b[0;32m   1781\u001b[0m     \u001b[38;5;28mself\u001b[39m\u001b[38;5;241m.\u001b[39madd_line(line)\n",
      "File \u001b[1;32mc:\\Users\\Echlon Defence\\Lib\\site-packages\\matplotlib\\axes\\_base.py:296\u001b[0m, in \u001b[0;36m_process_plot_var_args.__call__\u001b[1;34m(self, axes, data, *args, **kwargs)\u001b[0m\n\u001b[0;32m    294\u001b[0m     this \u001b[38;5;241m+\u001b[39m\u001b[38;5;241m=\u001b[39m args[\u001b[38;5;241m0\u001b[39m],\n\u001b[0;32m    295\u001b[0m     args \u001b[38;5;241m=\u001b[39m args[\u001b[38;5;241m1\u001b[39m:]\n\u001b[1;32m--> 296\u001b[0m \u001b[38;5;28;01myield from\u001b[39;00m \u001b[38;5;28;43mself\u001b[39;49m\u001b[38;5;241;43m.\u001b[39;49m\u001b[43m_plot_args\u001b[49m\u001b[43m(\u001b[49m\n\u001b[0;32m    297\u001b[0m \u001b[43m    \u001b[49m\u001b[43maxes\u001b[49m\u001b[43m,\u001b[49m\u001b[43m \u001b[49m\u001b[43mthis\u001b[49m\u001b[43m,\u001b[49m\u001b[43m \u001b[49m\u001b[43mkwargs\u001b[49m\u001b[43m,\u001b[49m\u001b[43m \u001b[49m\u001b[43mambiguous_fmt_datakey\u001b[49m\u001b[38;5;241;43m=\u001b[39;49m\u001b[43mambiguous_fmt_datakey\u001b[49m\u001b[43m)\u001b[49m\n",
      "File \u001b[1;32mc:\\Users\\Echlon Defence\\Lib\\site-packages\\matplotlib\\axes\\_base.py:486\u001b[0m, in \u001b[0;36m_process_plot_var_args._plot_args\u001b[1;34m(self, axes, tup, kwargs, return_kwargs, ambiguous_fmt_datakey)\u001b[0m\n\u001b[0;32m    483\u001b[0m     axes\u001b[38;5;241m.\u001b[39myaxis\u001b[38;5;241m.\u001b[39mupdate_units(y)\n\u001b[0;32m    485\u001b[0m \u001b[38;5;28;01mif\u001b[39;00m x\u001b[38;5;241m.\u001b[39mshape[\u001b[38;5;241m0\u001b[39m] \u001b[38;5;241m!=\u001b[39m y\u001b[38;5;241m.\u001b[39mshape[\u001b[38;5;241m0\u001b[39m]:\n\u001b[1;32m--> 486\u001b[0m     \u001b[38;5;28;01mraise\u001b[39;00m \u001b[38;5;167;01mValueError\u001b[39;00m(\u001b[38;5;124mf\u001b[39m\u001b[38;5;124m\"\u001b[39m\u001b[38;5;124mx and y must have same first dimension, but \u001b[39m\u001b[38;5;124m\"\u001b[39m\n\u001b[0;32m    487\u001b[0m                      \u001b[38;5;124mf\u001b[39m\u001b[38;5;124m\"\u001b[39m\u001b[38;5;124mhave shapes \u001b[39m\u001b[38;5;132;01m{\u001b[39;00mx\u001b[38;5;241m.\u001b[39mshape\u001b[38;5;132;01m}\u001b[39;00m\u001b[38;5;124m and \u001b[39m\u001b[38;5;132;01m{\u001b[39;00my\u001b[38;5;241m.\u001b[39mshape\u001b[38;5;132;01m}\u001b[39;00m\u001b[38;5;124m\"\u001b[39m)\n\u001b[0;32m    488\u001b[0m \u001b[38;5;28;01mif\u001b[39;00m x\u001b[38;5;241m.\u001b[39mndim \u001b[38;5;241m>\u001b[39m \u001b[38;5;241m2\u001b[39m \u001b[38;5;129;01mor\u001b[39;00m y\u001b[38;5;241m.\u001b[39mndim \u001b[38;5;241m>\u001b[39m \u001b[38;5;241m2\u001b[39m:\n\u001b[0;32m    489\u001b[0m     \u001b[38;5;28;01mraise\u001b[39;00m \u001b[38;5;167;01mValueError\u001b[39;00m(\u001b[38;5;124mf\u001b[39m\u001b[38;5;124m\"\u001b[39m\u001b[38;5;124mx and y can be no greater than 2D, but have \u001b[39m\u001b[38;5;124m\"\u001b[39m\n\u001b[0;32m    490\u001b[0m                      \u001b[38;5;124mf\u001b[39m\u001b[38;5;124m\"\u001b[39m\u001b[38;5;124mshapes \u001b[39m\u001b[38;5;132;01m{\u001b[39;00mx\u001b[38;5;241m.\u001b[39mshape\u001b[38;5;132;01m}\u001b[39;00m\u001b[38;5;124m and \u001b[39m\u001b[38;5;132;01m{\u001b[39;00my\u001b[38;5;241m.\u001b[39mshape\u001b[38;5;132;01m}\u001b[39;00m\u001b[38;5;124m\"\u001b[39m)\n",
      "\u001b[1;31mValueError\u001b[0m: x and y must have same first dimension, but have shapes (11,) and (7,)"
     ]
    },
    {
     "data": {
      "image/png": "[encoded data removed]",
      "text/plain": [
       "<Figure size 640x480 with 1 Axes>"
      ]
     },
     "metadata": {},
     "output_type": "display_data"
    }
   ],
   "source": [
    "plt.plot([10, 11, 12, 13, 14, 15, 16, 17, 18, 19, 20], wcss_score)\n",
    "plt.xticks([10,11,12,13,14,15,16,17,18,19,20])\n",
    "plt.title('Within Cluster Sum of Squares Scores for Different Values of K')\n",
    "plt.ylabel('WCSS')\n",
    "plt.xlabel('K=')\n",
    "plt.savefig('Images/wcss_scores.png');"
   ]
  },
  {
   "cell_type": "code",
   "execution_count": 46,
   "metadata": {},
   "outputs": [
    {
     "data": {
      "text/plain": [
       "-0.4419676061911229"
      ]
     },
     "execution_count": 46,
     "metadata": {},
     "output_type": "execute_result"
    }
   ],
   "source": [
    "# Silhouette score 1 is good, -1 is bad, near 0 means overlapping custers\n",
    "\n",
    "from sklearn import metrics\n",
    "metrics.silhouette_score(grouped_users, k_means_20.labels_, sample_size = 30000, random_state = random_state)"
   ]
  },
  {
   "cell_type": "code",
   "execution_count": 47,
   "metadata": {},
   "outputs": [
    {
     "data": {
      "text/plain": [
       "-0.25920846025691974"
      ]
     },
     "execution_count": 47,
     "metadata": {},
     "output_type": "execute_result"
    }
   ],
   "source": [
    "metrics.silhouette_score(grouped_users, k_means_14.labels_, sample_size = 30000, random_state = random_state)"
   ]
  },
  {
   "cell_type": "code",
   "execution_count": 48,
   "metadata": {},
   "outputs": [
    {
     "data": {
      "text/plain": [
       "array([0, 5, 6, ..., 7, 0, 6])"
      ]
     },
     "execution_count": 48,
     "metadata": {},
     "output_type": "execute_result"
    }
   ],
   "source": [
    "# OK let's focus on k_means_20 and have a look at our clusters\n",
    "\n",
    "k_means_20.labels_"
   ]
  },
  {
   "cell_type": "code",
   "execution_count": 49,
   "metadata": {},
   "outputs": [],
   "source": [
    "# Add cluster assignment to the grouped_users dataframe\n",
    "grouped_users['cluster'] = k_means_20.labels_"
   ]
  },
  {
   "cell_type": "code",
   "execution_count": 50,
   "metadata": {},
   "outputs": [],
   "source": [
    "pickle.dump(grouped_users, open('Pickle/clustered_users.p', 'wb')) # creating grouped users with cluster info"
   ]
  },
  {
   "cell_type": "markdown",
   "metadata": {},
   "source": [
    "### Analyze clusters"
   ]
  },
  {
   "cell_type": "code",
   "execution_count": 51,
   "metadata": {
    "scrolled": false
   },
   "outputs": [
    {
     "data": {
      "text/plain": [
       "cluster\n",
       "0     1924\n",
       "6      712\n",
       "5      304\n",
       "4      105\n",
       "7      100\n",
       "3       61\n",
       "15      47\n",
       "1       45\n",
       "11      28\n",
       "2       14\n",
       "10       9\n",
       "18       7\n",
       "13       3\n",
       "16       3\n",
       "8        3\n",
       "12       2\n",
       "19       2\n",
       "17       2\n",
       "14       1\n",
       "9        1\n",
       "Name: count, dtype: int64"
      ]
     },
     "execution_count": 51,
     "metadata": {},
     "output_type": "execute_result"
    }
   ],
   "source": [
    "# There are top 3 big clusters and lots of smaller.  May be hard to determine what the big clusters have in common.\n",
    "grouped_users.cluster.value_counts()"
   ]
  },
  {
   "cell_type": "code",
   "execution_count": 166,
   "metadata": {},
   "outputs": [],
   "source": [
    "# Now take the grouped users and group them by cluster\n",
    "\n",
    "# For each user, I took the mode of their order_dow.  Now I am taking the median value for the cluster.\n",
    "\n",
    "cluster_data = grouped_users.groupby('cluster').agg({'num_orders': 'median', \n",
    "                                                      'mode_order_dow': lambda x:x.value_counts().index[0], \n",
    "                                                     'median_order_hour': 'median', 'mean_days_since': 'mean'})\n",
    "cluster_data = grouped_users.groupby('cluster').median()"
   ]
  },
  {
   "cell_type": "code",
   "execution_count": 167,
   "metadata": {},
   "outputs": [
    {
     "data": {
      "text/html": [
       "<div>\n",
       "<style scoped>\n",
       "    .dataframe tbody tr th:only-of-type {\n",
       "        vertical-align: middle;\n",
       "    }\n",
       "\n",
       "    .dataframe tbody tr th {\n",
       "        vertical-align: top;\n",
       "    }\n",
       "\n",
       "    .dataframe thead th {\n",
       "        text-align: right;\n",
       "    }\n",
       "</style>\n",
       "<table border=\"1\" class=\"dataframe\">\n",
       "  <thead>\n",
       "    <tr style=\"text-align: right;\">\n",
       "      <th></th>\n",
       "      <th>num_orders</th>\n",
       "      <th>num_products</th>\n",
       "      <th>user_count</th>\n",
       "      <th>mode_order_dow</th>\n",
       "      <th>median_order_hour</th>\n",
       "      <th>mean_days_since</th>\n",
       "      <th>aisle_air fresheners candles</th>\n",
       "      <th>aisle_asian foods</th>\n",
       "      <th>aisle_baby accessories</th>\n",
       "      <th>aisle_baby bath body care</th>\n",
       "      <th>...</th>\n",
       "      <th>aisle_spreads</th>\n",
       "      <th>aisle_tea</th>\n",
       "      <th>aisle_tofu meat alternatives</th>\n",
       "      <th>aisle_tortillas flat bread</th>\n",
       "      <th>aisle_trail mix snack mix</th>\n",
       "      <th>aisle_trash bags liners</th>\n",
       "      <th>aisle_vitamins supplements</th>\n",
       "      <th>aisle_water seltzer sparkling water</th>\n",
       "      <th>aisle_white wines</th>\n",
       "      <th>aisle_yogurt</th>\n",
       "    </tr>\n",
       "    <tr>\n",
       "      <th>cluster</th>\n",
       "      <th></th>\n",
       "      <th></th>\n",
       "      <th></th>\n",
       "      <th></th>\n",
       "      <th></th>\n",
       "      <th></th>\n",
       "      <th></th>\n",
       "      <th></th>\n",
       "      <th></th>\n",
       "      <th></th>\n",
       "      <th></th>\n",
       "      <th></th>\n",
       "      <th></th>\n",
       "      <th></th>\n",
       "      <th></th>\n",
       "      <th></th>\n",
       "      <th></th>\n",
       "      <th></th>\n",
       "      <th></th>\n",
       "      <th></th>\n",
       "      <th></th>\n",
       "    </tr>\n",
       "  </thead>\n",
       "  <tbody>\n",
       "    <tr>\n",
       "      <th>0</th>\n",
       "      <td>8.0</td>\n",
       "      <td>1.0</td>\n",
       "      <td>1.0</td>\n",
       "      <td>2.0</td>\n",
       "      <td>14.0</td>\n",
       "      <td>13.833333</td>\n",
       "      <td>0.0</td>\n",
       "      <td>0.0</td>\n",
       "      <td>0.0</td>\n",
       "      <td>0.0</td>\n",
       "      <td>...</td>\n",
       "      <td>0.0</td>\n",
       "      <td>0.0</td>\n",
       "      <td>0.0</td>\n",
       "      <td>0.0</td>\n",
       "      <td>0.0</td>\n",
       "      <td>0.0</td>\n",
       "      <td>0.0</td>\n",
       "      <td>0.0</td>\n",
       "      <td>0.0</td>\n",
       "      <td>0.0</td>\n",
       "    </tr>\n",
       "    <tr>\n",
       "      <th>1</th>\n",
       "      <td>17.0</td>\n",
       "      <td>3.0</td>\n",
       "      <td>1.0</td>\n",
       "      <td>2.0</td>\n",
       "      <td>14.0</td>\n",
       "      <td>8.000000</td>\n",
       "      <td>0.0</td>\n",
       "      <td>0.0</td>\n",
       "      <td>0.0</td>\n",
       "      <td>0.0</td>\n",
       "      <td>...</td>\n",
       "      <td>0.0</td>\n",
       "      <td>0.0</td>\n",
       "      <td>0.0</td>\n",
       "      <td>0.0</td>\n",
       "      <td>0.0</td>\n",
       "      <td>0.0</td>\n",
       "      <td>0.0</td>\n",
       "      <td>0.0</td>\n",
       "      <td>0.0</td>\n",
       "      <td>0.0</td>\n",
       "    </tr>\n",
       "    <tr>\n",
       "      <th>2</th>\n",
       "      <td>10.0</td>\n",
       "      <td>2.0</td>\n",
       "      <td>1.0</td>\n",
       "      <td>2.0</td>\n",
       "      <td>15.0</td>\n",
       "      <td>9.500000</td>\n",
       "      <td>0.0</td>\n",
       "      <td>0.0</td>\n",
       "      <td>0.0</td>\n",
       "      <td>0.0</td>\n",
       "      <td>...</td>\n",
       "      <td>0.0</td>\n",
       "      <td>0.0</td>\n",
       "      <td>0.0</td>\n",
       "      <td>0.0</td>\n",
       "      <td>0.0</td>\n",
       "      <td>0.0</td>\n",
       "      <td>0.0</td>\n",
       "      <td>0.0</td>\n",
       "      <td>0.0</td>\n",
       "      <td>0.0</td>\n",
       "    </tr>\n",
       "    <tr>\n",
       "      <th>3</th>\n",
       "      <td>12.0</td>\n",
       "      <td>2.0</td>\n",
       "      <td>1.0</td>\n",
       "      <td>2.0</td>\n",
       "      <td>13.0</td>\n",
       "      <td>9.333333</td>\n",
       "      <td>0.0</td>\n",
       "      <td>0.0</td>\n",
       "      <td>0.0</td>\n",
       "      <td>0.0</td>\n",
       "      <td>...</td>\n",
       "      <td>0.0</td>\n",
       "      <td>0.0</td>\n",
       "      <td>0.0</td>\n",
       "      <td>0.0</td>\n",
       "      <td>0.0</td>\n",
       "      <td>0.0</td>\n",
       "      <td>0.0</td>\n",
       "      <td>0.0</td>\n",
       "      <td>0.0</td>\n",
       "      <td>0.0</td>\n",
       "    </tr>\n",
       "    <tr>\n",
       "      <th>4</th>\n",
       "      <td>12.0</td>\n",
       "      <td>2.0</td>\n",
       "      <td>1.0</td>\n",
       "      <td>2.0</td>\n",
       "      <td>12.0</td>\n",
       "      <td>11.000000</td>\n",
       "      <td>0.0</td>\n",
       "      <td>0.0</td>\n",
       "      <td>0.0</td>\n",
       "      <td>0.0</td>\n",
       "      <td>...</td>\n",
       "      <td>0.0</td>\n",
       "      <td>0.0</td>\n",
       "      <td>0.0</td>\n",
       "      <td>0.0</td>\n",
       "      <td>0.0</td>\n",
       "      <td>0.0</td>\n",
       "      <td>0.0</td>\n",
       "      <td>0.0</td>\n",
       "      <td>0.0</td>\n",
       "      <td>0.0</td>\n",
       "    </tr>\n",
       "    <tr>\n",
       "      <th>5</th>\n",
       "      <td>11.0</td>\n",
       "      <td>2.0</td>\n",
       "      <td>1.0</td>\n",
       "      <td>3.0</td>\n",
       "      <td>13.0</td>\n",
       "      <td>10.000000</td>\n",
       "      <td>0.0</td>\n",
       "      <td>0.0</td>\n",
       "      <td>0.0</td>\n",
       "      <td>0.0</td>\n",
       "      <td>...</td>\n",
       "      <td>0.0</td>\n",
       "      <td>0.0</td>\n",
       "      <td>0.0</td>\n",
       "      <td>0.0</td>\n",
       "      <td>0.0</td>\n",
       "      <td>0.0</td>\n",
       "      <td>0.0</td>\n",
       "      <td>0.0</td>\n",
       "      <td>0.0</td>\n",
       "      <td>0.0</td>\n",
       "    </tr>\n",
       "    <tr>\n",
       "      <th>6</th>\n",
       "      <td>31.5</td>\n",
       "      <td>2.0</td>\n",
       "      <td>1.0</td>\n",
       "      <td>3.0</td>\n",
       "      <td>13.0</td>\n",
       "      <td>5.845238</td>\n",
       "      <td>0.0</td>\n",
       "      <td>0.0</td>\n",
       "      <td>0.0</td>\n",
       "      <td>0.0</td>\n",
       "      <td>...</td>\n",
       "      <td>0.0</td>\n",
       "      <td>0.0</td>\n",
       "      <td>0.0</td>\n",
       "      <td>0.0</td>\n",
       "      <td>0.0</td>\n",
       "      <td>0.0</td>\n",
       "      <td>0.0</td>\n",
       "      <td>0.0</td>\n",
       "      <td>0.0</td>\n",
       "      <td>0.0</td>\n",
       "    </tr>\n",
       "    <tr>\n",
       "      <th>7</th>\n",
       "      <td>12.0</td>\n",
       "      <td>3.0</td>\n",
       "      <td>1.0</td>\n",
       "      <td>3.0</td>\n",
       "      <td>14.0</td>\n",
       "      <td>11.000000</td>\n",
       "      <td>0.0</td>\n",
       "      <td>0.0</td>\n",
       "      <td>0.0</td>\n",
       "      <td>0.0</td>\n",
       "      <td>...</td>\n",
       "      <td>0.0</td>\n",
       "      <td>0.0</td>\n",
       "      <td>0.0</td>\n",
       "      <td>0.0</td>\n",
       "      <td>0.0</td>\n",
       "      <td>0.0</td>\n",
       "      <td>0.0</td>\n",
       "      <td>0.0</td>\n",
       "      <td>0.0</td>\n",
       "      <td>0.0</td>\n",
       "    </tr>\n",
       "    <tr>\n",
       "      <th>8</th>\n",
       "      <td>6.0</td>\n",
       "      <td>4.0</td>\n",
       "      <td>1.0</td>\n",
       "      <td>5.0</td>\n",
       "      <td>13.0</td>\n",
       "      <td>17.000000</td>\n",
       "      <td>0.0</td>\n",
       "      <td>0.0</td>\n",
       "      <td>0.0</td>\n",
       "      <td>0.0</td>\n",
       "      <td>...</td>\n",
       "      <td>0.0</td>\n",
       "      <td>0.0</td>\n",
       "      <td>0.0</td>\n",
       "      <td>0.0</td>\n",
       "      <td>0.0</td>\n",
       "      <td>0.0</td>\n",
       "      <td>0.0</td>\n",
       "      <td>0.0</td>\n",
       "      <td>0.0</td>\n",
       "      <td>0.0</td>\n",
       "    </tr>\n",
       "    <tr>\n",
       "      <th>9</th>\n",
       "      <td>5.0</td>\n",
       "      <td>4.0</td>\n",
       "      <td>1.0</td>\n",
       "      <td>0.0</td>\n",
       "      <td>15.0</td>\n",
       "      <td>30.000000</td>\n",
       "      <td>0.0</td>\n",
       "      <td>0.0</td>\n",
       "      <td>0.0</td>\n",
       "      <td>0.0</td>\n",
       "      <td>...</td>\n",
       "      <td>0.0</td>\n",
       "      <td>0.0</td>\n",
       "      <td>0.0</td>\n",
       "      <td>0.0</td>\n",
       "      <td>0.0</td>\n",
       "      <td>0.0</td>\n",
       "      <td>0.0</td>\n",
       "      <td>0.0</td>\n",
       "      <td>0.0</td>\n",
       "      <td>0.0</td>\n",
       "    </tr>\n",
       "    <tr>\n",
       "      <th>10</th>\n",
       "      <td>17.0</td>\n",
       "      <td>2.0</td>\n",
       "      <td>1.0</td>\n",
       "      <td>2.0</td>\n",
       "      <td>10.0</td>\n",
       "      <td>8.000000</td>\n",
       "      <td>0.0</td>\n",
       "      <td>0.0</td>\n",
       "      <td>0.0</td>\n",
       "      <td>0.0</td>\n",
       "      <td>...</td>\n",
       "      <td>0.0</td>\n",
       "      <td>0.0</td>\n",
       "      <td>0.0</td>\n",
       "      <td>0.0</td>\n",
       "      <td>0.0</td>\n",
       "      <td>0.0</td>\n",
       "      <td>0.0</td>\n",
       "      <td>0.0</td>\n",
       "      <td>0.0</td>\n",
       "      <td>0.0</td>\n",
       "    </tr>\n",
       "    <tr>\n",
       "      <th>11</th>\n",
       "      <td>10.0</td>\n",
       "      <td>2.0</td>\n",
       "      <td>1.0</td>\n",
       "      <td>3.0</td>\n",
       "      <td>14.0</td>\n",
       "      <td>8.085714</td>\n",
       "      <td>0.0</td>\n",
       "      <td>0.0</td>\n",
       "      <td>0.0</td>\n",
       "      <td>0.0</td>\n",
       "      <td>...</td>\n",
       "      <td>0.0</td>\n",
       "      <td>0.0</td>\n",
       "      <td>0.0</td>\n",
       "      <td>0.0</td>\n",
       "      <td>0.0</td>\n",
       "      <td>0.0</td>\n",
       "      <td>0.0</td>\n",
       "      <td>0.0</td>\n",
       "      <td>0.0</td>\n",
       "      <td>0.0</td>\n",
       "    </tr>\n",
       "    <tr>\n",
       "      <th>12</th>\n",
       "      <td>10.0</td>\n",
       "      <td>2.5</td>\n",
       "      <td>1.0</td>\n",
       "      <td>5.0</td>\n",
       "      <td>14.5</td>\n",
       "      <td>9.280454</td>\n",
       "      <td>0.0</td>\n",
       "      <td>0.0</td>\n",
       "      <td>0.0</td>\n",
       "      <td>0.0</td>\n",
       "      <td>...</td>\n",
       "      <td>0.0</td>\n",
       "      <td>0.0</td>\n",
       "      <td>0.0</td>\n",
       "      <td>0.0</td>\n",
       "      <td>0.0</td>\n",
       "      <td>0.0</td>\n",
       "      <td>0.0</td>\n",
       "      <td>0.5</td>\n",
       "      <td>0.0</td>\n",
       "      <td>0.0</td>\n",
       "    </tr>\n",
       "    <tr>\n",
       "      <th>13</th>\n",
       "      <td>21.0</td>\n",
       "      <td>1.0</td>\n",
       "      <td>1.0</td>\n",
       "      <td>1.0</td>\n",
       "      <td>8.0</td>\n",
       "      <td>8.000000</td>\n",
       "      <td>0.0</td>\n",
       "      <td>0.0</td>\n",
       "      <td>0.0</td>\n",
       "      <td>0.0</td>\n",
       "      <td>...</td>\n",
       "      <td>0.0</td>\n",
       "      <td>0.0</td>\n",
       "      <td>0.0</td>\n",
       "      <td>0.0</td>\n",
       "      <td>0.0</td>\n",
       "      <td>0.0</td>\n",
       "      <td>0.0</td>\n",
       "      <td>0.0</td>\n",
       "      <td>0.0</td>\n",
       "      <td>0.0</td>\n",
       "    </tr>\n",
       "    <tr>\n",
       "      <th>14</th>\n",
       "      <td>41.0</td>\n",
       "      <td>11.0</td>\n",
       "      <td>1.0</td>\n",
       "      <td>6.0</td>\n",
       "      <td>14.0</td>\n",
       "      <td>13.636364</td>\n",
       "      <td>0.0</td>\n",
       "      <td>0.0</td>\n",
       "      <td>0.0</td>\n",
       "      <td>0.0</td>\n",
       "      <td>...</td>\n",
       "      <td>0.0</td>\n",
       "      <td>0.0</td>\n",
       "      <td>0.0</td>\n",
       "      <td>0.0</td>\n",
       "      <td>0.0</td>\n",
       "      <td>0.0</td>\n",
       "      <td>0.0</td>\n",
       "      <td>0.0</td>\n",
       "      <td>0.0</td>\n",
       "      <td>0.0</td>\n",
       "    </tr>\n",
       "    <tr>\n",
       "      <th>15</th>\n",
       "      <td>16.0</td>\n",
       "      <td>2.0</td>\n",
       "      <td>1.0</td>\n",
       "      <td>2.0</td>\n",
       "      <td>14.0</td>\n",
       "      <td>10.000000</td>\n",
       "      <td>0.0</td>\n",
       "      <td>0.0</td>\n",
       "      <td>0.0</td>\n",
       "      <td>0.0</td>\n",
       "      <td>...</td>\n",
       "      <td>0.0</td>\n",
       "      <td>0.0</td>\n",
       "      <td>0.0</td>\n",
       "      <td>0.0</td>\n",
       "      <td>0.0</td>\n",
       "      <td>0.0</td>\n",
       "      <td>0.0</td>\n",
       "      <td>0.0</td>\n",
       "      <td>0.0</td>\n",
       "      <td>0.0</td>\n",
       "    </tr>\n",
       "    <tr>\n",
       "      <th>16</th>\n",
       "      <td>7.0</td>\n",
       "      <td>3.0</td>\n",
       "      <td>1.0</td>\n",
       "      <td>4.0</td>\n",
       "      <td>12.0</td>\n",
       "      <td>6.000000</td>\n",
       "      <td>0.0</td>\n",
       "      <td>0.0</td>\n",
       "      <td>0.0</td>\n",
       "      <td>0.0</td>\n",
       "      <td>...</td>\n",
       "      <td>0.0</td>\n",
       "      <td>0.0</td>\n",
       "      <td>0.0</td>\n",
       "      <td>0.0</td>\n",
       "      <td>0.0</td>\n",
       "      <td>0.0</td>\n",
       "      <td>0.0</td>\n",
       "      <td>0.0</td>\n",
       "      <td>0.0</td>\n",
       "      <td>0.0</td>\n",
       "    </tr>\n",
       "    <tr>\n",
       "      <th>17</th>\n",
       "      <td>6.5</td>\n",
       "      <td>3.0</td>\n",
       "      <td>1.0</td>\n",
       "      <td>4.5</td>\n",
       "      <td>11.5</td>\n",
       "      <td>20.333333</td>\n",
       "      <td>0.0</td>\n",
       "      <td>0.0</td>\n",
       "      <td>0.0</td>\n",
       "      <td>0.0</td>\n",
       "      <td>...</td>\n",
       "      <td>0.0</td>\n",
       "      <td>0.0</td>\n",
       "      <td>0.0</td>\n",
       "      <td>0.0</td>\n",
       "      <td>0.0</td>\n",
       "      <td>0.0</td>\n",
       "      <td>0.0</td>\n",
       "      <td>0.0</td>\n",
       "      <td>0.0</td>\n",
       "      <td>0.0</td>\n",
       "    </tr>\n",
       "    <tr>\n",
       "      <th>18</th>\n",
       "      <td>9.0</td>\n",
       "      <td>2.0</td>\n",
       "      <td>1.0</td>\n",
       "      <td>3.0</td>\n",
       "      <td>12.0</td>\n",
       "      <td>5.000000</td>\n",
       "      <td>0.0</td>\n",
       "      <td>0.0</td>\n",
       "      <td>0.0</td>\n",
       "      <td>0.0</td>\n",
       "      <td>...</td>\n",
       "      <td>0.0</td>\n",
       "      <td>0.0</td>\n",
       "      <td>0.0</td>\n",
       "      <td>0.0</td>\n",
       "      <td>0.0</td>\n",
       "      <td>0.0</td>\n",
       "      <td>0.0</td>\n",
       "      <td>0.0</td>\n",
       "      <td>0.0</td>\n",
       "      <td>0.0</td>\n",
       "    </tr>\n",
       "    <tr>\n",
       "      <th>19</th>\n",
       "      <td>13.0</td>\n",
       "      <td>2.5</td>\n",
       "      <td>1.0</td>\n",
       "      <td>3.0</td>\n",
       "      <td>14.5</td>\n",
       "      <td>9.375000</td>\n",
       "      <td>0.0</td>\n",
       "      <td>0.5</td>\n",
       "      <td>0.0</td>\n",
       "      <td>0.0</td>\n",
       "      <td>...</td>\n",
       "      <td>0.0</td>\n",
       "      <td>0.0</td>\n",
       "      <td>0.0</td>\n",
       "      <td>0.0</td>\n",
       "      <td>0.0</td>\n",
       "      <td>0.0</td>\n",
       "      <td>0.0</td>\n",
       "      <td>0.0</td>\n",
       "      <td>0.0</td>\n",
       "      <td>0.0</td>\n",
       "    </tr>\n",
       "  </tbody>\n",
       "</table>\n",
       "<p>20 rows \u00d7 137 columns</p>\n",
       "</div>"
      ],
      "text/plain": [
       "         num_orders  num_products  user_count  mode_order_dow  \\\n",
       "cluster                                                         \n",
       "0               8.0           1.0         1.0             2.0   \n",
       "1              17.0           3.0         1.0             2.0   \n",
       "2              10.0           2.0         1.0             2.0   \n",
       "3              12.0           2.0         1.0             2.0   \n",
       "4              12.0           2.0         1.0             2.0   \n",
       "5              11.0           2.0         1.0             3.0   \n",
       "6              31.5           2.0         1.0             3.0   \n",
       "7              12.0           3.0         1.0             3.0   \n",
       "8               6.0           4.0         1.0             5.0   \n",
       "9               5.0           4.0         1.0             0.0   \n",
       "10             17.0           2.0         1.0             2.0   \n",
       "11             10.0           2.0         1.0             3.0   \n",
       "12             10.0           2.5         1.0             5.0   \n",
       "13             21.0           1.0         1.0             1.0   \n",
       "14             41.0          11.0         1.0             6.0   \n",
       "15             16.0           2.0         1.0             2.0   \n",
       "16              7.0           3.0         1.0             4.0   \n",
       "17              6.5           3.0         1.0             4.5   \n",
       "18              9.0           2.0         1.0             3.0   \n",
       "19             13.0           2.5         1.0             3.0   \n",
       "\n",
       "         median_order_hour  mean_days_since  aisle_air fresheners candles  \\\n",
       "cluster                                                                     \n",
       "0                     14.0        13.833333                           0.0   \n",
       "1                     14.0         8.000000                           0.0   \n",
       "2                     15.0         9.500000                           0.0   \n",
       "3                     13.0         9.333333                           0.0   \n",
       "4                     12.0        11.000000                           0.0   \n",
       "5                     13.0        10.000000                           0.0   \n",
       "6                     13.0         5.845238                           0.0   \n",
       "7                     14.0        11.000000                           0.0   \n",
       "8                     13.0        17.000000                           0.0   \n",
       "9                     15.0        30.000000                           0.0   \n",
       "10                    10.0         8.000000                           0.0   \n",
       "11                    14.0         8.085714                           0.0   \n",
       "12                    14.5         9.280454                           0.0   \n",
       "13                     8.0         8.000000                           0.0   \n",
       "14                    14.0        13.636364                           0.0   \n",
       "15                    14.0        10.000000                           0.0   \n",
       "16                    12.0         6.000000                           0.0   \n",
       "17                    11.5        20.333333                           0.0   \n",
       "18                    12.0         5.000000                           0.0   \n",
       "19                    14.5         9.375000                           0.0   \n",
       "\n",
       "         aisle_asian foods  aisle_baby accessories  aisle_baby bath body care  \\\n",
       "cluster                                                                         \n",
       "0                      0.0                     0.0                        0.0   \n",
       "1                      0.0                     0.0                        0.0   \n",
       "2                      0.0                     0.0                        0.0   \n",
       "3                      0.0                     0.0                        0.0   \n",
       "4                      0.0                     0.0                        0.0   \n",
       "5                      0.0                     0.0                        0.0   \n",
       "6                      0.0                     0.0                        0.0   \n",
       "7                      0.0                     0.0                        0.0   \n",
       "8                      0.0                     0.0                        0.0   \n",
       "9                      0.0                     0.0                        0.0   \n",
       "10                     0.0                     0.0                        0.0   \n",
       "11                     0.0                     0.0                        0.0   \n",
       "12                     0.0                     0.0                        0.0   \n",
       "13                     0.0                     0.0                        0.0   \n",
       "14                     0.0                     0.0                        0.0   \n",
       "15                     0.0                     0.0                        0.0   \n",
       "16                     0.0                     0.0                        0.0   \n",
       "17                     0.0                     0.0                        0.0   \n",
       "18                     0.0                     0.0                        0.0   \n",
       "19                     0.5                     0.0                        0.0   \n",
       "\n",
       "         ...  aisle_spreads  aisle_tea  aisle_tofu meat alternatives  \\\n",
       "cluster  ...                                                           \n",
       "0        ...            0.0        0.0                           0.0   \n",
       "1        ...            0.0        0.0                           0.0   \n",
       "2        ...            0.0        0.0                           0.0   \n",
       "3        ...            0.0        0.0                           0.0   \n",
       "4        ...            0.0        0.0                           0.0   \n",
       "5        ...            0.0        0.0                           0.0   \n",
       "6        ...            0.0        0.0                           0.0   \n",
       "7        ...            0.0        0.0                           0.0   \n",
       "8        ...            0.0        0.0                           0.0   \n",
       "9        ...            0.0        0.0                           0.0   \n",
       "10       ...            0.0        0.0                           0.0   \n",
       "11       ...            0.0        0.0                           0.0   \n",
       "12       ...            0.0        0.0                           0.0   \n",
       "13       ...            0.0        0.0                           0.0   \n",
       "14       ...            0.0        0.0                           0.0   \n",
       "15       ...            0.0        0.0                           0.0   \n",
       "16       ...            0.0        0.0                           0.0   \n",
       "17       ...            0.0        0.0                           0.0   \n",
       "18       ...            0.0        0.0                           0.0   \n",
       "19       ...            0.0        0.0                           0.0   \n",
       "\n",
       "         aisle_tortillas flat bread  aisle_trail mix snack mix  \\\n",
       "cluster                                                          \n",
       "0                               0.0                        0.0   \n",
       "1                               0.0                        0.0   \n",
       "2                               0.0                        0.0   \n",
       "3                               0.0                        0.0   \n",
       "4                               0.0                        0.0   \n",
       "5                               0.0                        0.0   \n",
       "6                               0.0                        0.0   \n",
       "7                               0.0                        0.0   \n",
       "8                               0.0                        0.0   \n",
       "9                               0.0                        0.0   \n",
       "10                              0.0                        0.0   \n",
       "11                              0.0                        0.0   \n",
       "12                              0.0                        0.0   \n",
       "13                              0.0                        0.0   \n",
       "14                              0.0                        0.0   \n",
       "15                              0.0                        0.0   \n",
       "16                              0.0                        0.0   \n",
       "17                              0.0                        0.0   \n",
       "18                              0.0                        0.0   \n",
       "19                              0.0                        0.0   \n",
       "\n",
       "         aisle_trash bags liners  aisle_vitamins supplements  \\\n",
       "cluster                                                        \n",
       "0                            0.0                         0.0   \n",
       "1                            0.0                         0.0   \n",
       "2                            0.0                         0.0   \n",
       "3                            0.0                         0.0   \n",
       "4                            0.0                         0.0   \n",
       "5                            0.0                         0.0   \n",
       "6                            0.0                         0.0   \n",
       "7                            0.0                         0.0   \n",
       "8                            0.0                         0.0   \n",
       "9                            0.0                         0.0   \n",
       "10                           0.0                         0.0   \n",
       "11                           0.0                         0.0   \n",
       "12                           0.0                         0.0   \n",
       "13                           0.0                         0.0   \n",
       "14                           0.0                         0.0   \n",
       "15                           0.0                         0.0   \n",
       "16                           0.0                         0.0   \n",
       "17                           0.0                         0.0   \n",
       "18                           0.0                         0.0   \n",
       "19                           0.0                         0.0   \n",
       "\n",
       "         aisle_water seltzer sparkling water  aisle_white wines  aisle_yogurt  \n",
       "cluster                                                                        \n",
       "0                                        0.0                0.0           0.0  \n",
       "1                                        0.0                0.0           0.0  \n",
       "2                                        0.0                0.0           0.0  \n",
       "3                                        0.0                0.0           0.0  \n",
       "4                                        0.0                0.0           0.0  \n",
       "5                                        0.0                0.0           0.0  \n",
       "6                                        0.0                0.0           0.0  \n",
       "7                                        0.0                0.0           0.0  \n",
       "8                                        0.0                0.0           0.0  \n",
       "9                                        0.0                0.0           0.0  \n",
       "10                                       0.0                0.0           0.0  \n",
       "11                                       0.0                0.0           0.0  \n",
       "12                                       0.5                0.0           0.0  \n",
       "13                                       0.0                0.0           0.0  \n",
       "14                                       0.0                0.0           0.0  \n",
       "15                                       0.0                0.0           0.0  \n",
       "16                                       0.0                0.0           0.0  \n",
       "17                                       0.0                0.0           0.0  \n",
       "18                                       0.0                0.0           0.0  \n",
       "19                                       0.0                0.0           0.0  \n",
       "\n",
       "[20 rows x 137 columns]"
      ]
     },
     "execution_count": 167,
     "metadata": {},
     "output_type": "execute_result"
    }
   ],
   "source": [
    "cluster_data # This is the median info for each cluster\n",
    "\n",
    "# I can see cluster 7 has a lot of baby products"
   ]
  },
  {
   "cell_type": "code",
   "execution_count": 168,
   "metadata": {},
   "outputs": [
    {
     "data": {
      "text/html": [
       "<div>\n",
       "<style scoped>\n",
       "    .dataframe tbody tr th:only-of-type {\n",
       "        vertical-align: middle;\n",
       "    }\n",
       "\n",
       "    .dataframe tbody tr th {\n",
       "        vertical-align: top;\n",
       "    }\n",
       "\n",
       "    .dataframe thead th {\n",
       "        text-align: right;\n",
       "    }\n",
       "</style>\n",
       "<table border=\"1\" class=\"dataframe\">\n",
       "  <thead>\n",
       "    <tr style=\"text-align: right;\">\n",
       "      <th></th>\n",
       "      <th>num_orders</th>\n",
       "      <th>num_products</th>\n",
       "      <th>user_count</th>\n",
       "      <th>cluster</th>\n",
       "      <th>mode_order_dow</th>\n",
       "      <th>median_order_hour</th>\n",
       "      <th>mean_days_since</th>\n",
       "      <th>aisle_air fresheners candles</th>\n",
       "      <th>aisle_asian foods</th>\n",
       "      <th>aisle_baby accessories</th>\n",
       "      <th>...</th>\n",
       "      <th>aisle_spreads</th>\n",
       "      <th>aisle_tea</th>\n",
       "      <th>aisle_tofu meat alternatives</th>\n",
       "      <th>aisle_tortillas flat bread</th>\n",
       "      <th>aisle_trail mix snack mix</th>\n",
       "      <th>aisle_trash bags liners</th>\n",
       "      <th>aisle_vitamins supplements</th>\n",
       "      <th>aisle_water seltzer sparkling water</th>\n",
       "      <th>aisle_white wines</th>\n",
       "      <th>aisle_yogurt</th>\n",
       "    </tr>\n",
       "    <tr>\n",
       "      <th>user_id</th>\n",
       "      <th></th>\n",
       "      <th></th>\n",
       "      <th></th>\n",
       "      <th></th>\n",
       "      <th></th>\n",
       "      <th></th>\n",
       "      <th></th>\n",
       "      <th></th>\n",
       "      <th></th>\n",
       "      <th></th>\n",
       "      <th></th>\n",
       "      <th></th>\n",
       "      <th></th>\n",
       "      <th></th>\n",
       "      <th></th>\n",
       "      <th></th>\n",
       "      <th></th>\n",
       "      <th></th>\n",
       "      <th></th>\n",
       "      <th></th>\n",
       "      <th></th>\n",
       "    </tr>\n",
       "  </thead>\n",
       "  <tbody>\n",
       "    <tr>\n",
       "      <th>159</th>\n",
       "      <td>3</td>\n",
       "      <td>5</td>\n",
       "      <td>1.0</td>\n",
       "      <td>7</td>\n",
       "      <td>4</td>\n",
       "      <td>9.0</td>\n",
       "      <td>30.000000</td>\n",
       "      <td>0</td>\n",
       "      <td>0</td>\n",
       "      <td>0</td>\n",
       "      <td>...</td>\n",
       "      <td>0</td>\n",
       "      <td>0</td>\n",
       "      <td>0</td>\n",
       "      <td>0</td>\n",
       "      <td>0</td>\n",
       "      <td>0</td>\n",
       "      <td>0</td>\n",
       "      <td>1</td>\n",
       "      <td>0</td>\n",
       "      <td>0</td>\n",
       "    </tr>\n",
       "    <tr>\n",
       "      <th>396</th>\n",
       "      <td>19</td>\n",
       "      <td>6</td>\n",
       "      <td>1.0</td>\n",
       "      <td>7</td>\n",
       "      <td>0</td>\n",
       "      <td>13.0</td>\n",
       "      <td>9.166667</td>\n",
       "      <td>0</td>\n",
       "      <td>0</td>\n",
       "      <td>0</td>\n",
       "      <td>...</td>\n",
       "      <td>0</td>\n",
       "      <td>0</td>\n",
       "      <td>0</td>\n",
       "      <td>0</td>\n",
       "      <td>0</td>\n",
       "      <td>0</td>\n",
       "      <td>0</td>\n",
       "      <td>0</td>\n",
       "      <td>0</td>\n",
       "      <td>0</td>\n",
       "    </tr>\n",
       "    <tr>\n",
       "      <th>481</th>\n",
       "      <td>19</td>\n",
       "      <td>1</td>\n",
       "      <td>1.0</td>\n",
       "      <td>7</td>\n",
       "      <td>0</td>\n",
       "      <td>14.0</td>\n",
       "      <td>7.000000</td>\n",
       "      <td>0</td>\n",
       "      <td>0</td>\n",
       "      <td>0</td>\n",
       "      <td>...</td>\n",
       "      <td>0</td>\n",
       "      <td>0</td>\n",
       "      <td>0</td>\n",
       "      <td>0</td>\n",
       "      <td>0</td>\n",
       "      <td>0</td>\n",
       "      <td>0</td>\n",
       "      <td>0</td>\n",
       "      <td>0</td>\n",
       "      <td>0</td>\n",
       "    </tr>\n",
       "    <tr>\n",
       "      <th>604</th>\n",
       "      <td>28</td>\n",
       "      <td>4</td>\n",
       "      <td>1.0</td>\n",
       "      <td>7</td>\n",
       "      <td>0</td>\n",
       "      <td>12.0</td>\n",
       "      <td>22.750000</td>\n",
       "      <td>0</td>\n",
       "      <td>0</td>\n",
       "      <td>0</td>\n",
       "      <td>...</td>\n",
       "      <td>0</td>\n",
       "      <td>0</td>\n",
       "      <td>0</td>\n",
       "      <td>0</td>\n",
       "      <td>0</td>\n",
       "      <td>0</td>\n",
       "      <td>0</td>\n",
       "      <td>0</td>\n",
       "      <td>0</td>\n",
       "      <td>0</td>\n",
       "    </tr>\n",
       "    <tr>\n",
       "      <th>762</th>\n",
       "      <td>30</td>\n",
       "      <td>3</td>\n",
       "      <td>1.0</td>\n",
       "      <td>7</td>\n",
       "      <td>2</td>\n",
       "      <td>18.0</td>\n",
       "      <td>7.333333</td>\n",
       "      <td>0</td>\n",
       "      <td>0</td>\n",
       "      <td>0</td>\n",
       "      <td>...</td>\n",
       "      <td>0</td>\n",
       "      <td>0</td>\n",
       "      <td>1</td>\n",
       "      <td>0</td>\n",
       "      <td>0</td>\n",
       "      <td>0</td>\n",
       "      <td>0</td>\n",
       "      <td>0</td>\n",
       "      <td>0</td>\n",
       "      <td>0</td>\n",
       "    </tr>\n",
       "    <tr>\n",
       "      <th>...</th>\n",
       "      <td>...</td>\n",
       "      <td>...</td>\n",
       "      <td>...</td>\n",
       "      <td>...</td>\n",
       "      <td>...</td>\n",
       "      <td>...</td>\n",
       "      <td>...</td>\n",
       "      <td>...</td>\n",
       "      <td>...</td>\n",
       "      <td>...</td>\n",
       "      <td>...</td>\n",
       "      <td>...</td>\n",
       "      <td>...</td>\n",
       "      <td>...</td>\n",
       "      <td>...</td>\n",
       "      <td>...</td>\n",
       "      <td>...</td>\n",
       "      <td>...</td>\n",
       "      <td>...</td>\n",
       "      <td>...</td>\n",
       "      <td>...</td>\n",
       "    </tr>\n",
       "    <tr>\n",
       "      <th>19911</th>\n",
       "      <td>9</td>\n",
       "      <td>8</td>\n",
       "      <td>1.0</td>\n",
       "      <td>7</td>\n",
       "      <td>5</td>\n",
       "      <td>9.0</td>\n",
       "      <td>13.375000</td>\n",
       "      <td>0</td>\n",
       "      <td>0</td>\n",
       "      <td>0</td>\n",
       "      <td>...</td>\n",
       "      <td>0</td>\n",
       "      <td>0</td>\n",
       "      <td>0</td>\n",
       "      <td>0</td>\n",
       "      <td>0</td>\n",
       "      <td>0</td>\n",
       "      <td>0</td>\n",
       "      <td>2</td>\n",
       "      <td>0</td>\n",
       "      <td>0</td>\n",
       "    </tr>\n",
       "    <tr>\n",
       "      <th>20085</th>\n",
       "      <td>5</td>\n",
       "      <td>4</td>\n",
       "      <td>1.0</td>\n",
       "      <td>7</td>\n",
       "      <td>4</td>\n",
       "      <td>15.0</td>\n",
       "      <td>4.000000</td>\n",
       "      <td>0</td>\n",
       "      <td>0</td>\n",
       "      <td>0</td>\n",
       "      <td>...</td>\n",
       "      <td>0</td>\n",
       "      <td>0</td>\n",
       "      <td>0</td>\n",
       "      <td>0</td>\n",
       "      <td>0</td>\n",
       "      <td>0</td>\n",
       "      <td>0</td>\n",
       "      <td>0</td>\n",
       "      <td>0</td>\n",
       "      <td>0</td>\n",
       "    </tr>\n",
       "    <tr>\n",
       "      <th>20454</th>\n",
       "      <td>26</td>\n",
       "      <td>3</td>\n",
       "      <td>1.0</td>\n",
       "      <td>7</td>\n",
       "      <td>1</td>\n",
       "      <td>16.0</td>\n",
       "      <td>1.000000</td>\n",
       "      <td>0</td>\n",
       "      <td>0</td>\n",
       "      <td>0</td>\n",
       "      <td>...</td>\n",
       "      <td>0</td>\n",
       "      <td>0</td>\n",
       "      <td>0</td>\n",
       "      <td>0</td>\n",
       "      <td>0</td>\n",
       "      <td>0</td>\n",
       "      <td>0</td>\n",
       "      <td>0</td>\n",
       "      <td>0</td>\n",
       "      <td>0</td>\n",
       "    </tr>\n",
       "    <tr>\n",
       "      <th>20499</th>\n",
       "      <td>4</td>\n",
       "      <td>3</td>\n",
       "      <td>1.0</td>\n",
       "      <td>7</td>\n",
       "      <td>3</td>\n",
       "      <td>14.0</td>\n",
       "      <td>21.000000</td>\n",
       "      <td>0</td>\n",
       "      <td>0</td>\n",
       "      <td>0</td>\n",
       "      <td>...</td>\n",
       "      <td>0</td>\n",
       "      <td>0</td>\n",
       "      <td>0</td>\n",
       "      <td>0</td>\n",
       "      <td>0</td>\n",
       "      <td>0</td>\n",
       "      <td>0</td>\n",
       "      <td>0</td>\n",
       "      <td>0</td>\n",
       "      <td>0</td>\n",
       "    </tr>\n",
       "    <tr>\n",
       "      <th>20591</th>\n",
       "      <td>22</td>\n",
       "      <td>6</td>\n",
       "      <td>1.0</td>\n",
       "      <td>7</td>\n",
       "      <td>6</td>\n",
       "      <td>7.0</td>\n",
       "      <td>7.000000</td>\n",
       "      <td>0</td>\n",
       "      <td>0</td>\n",
       "      <td>0</td>\n",
       "      <td>...</td>\n",
       "      <td>0</td>\n",
       "      <td>0</td>\n",
       "      <td>0</td>\n",
       "      <td>0</td>\n",
       "      <td>0</td>\n",
       "      <td>0</td>\n",
       "      <td>0</td>\n",
       "      <td>0</td>\n",
       "      <td>0</td>\n",
       "      <td>0</td>\n",
       "    </tr>\n",
       "  </tbody>\n",
       "</table>\n",
       "<p>100 rows \u00d7 138 columns</p>\n",
       "</div>"
      ],
      "text/plain": [
       "         num_orders  num_products  user_count  cluster  mode_order_dow  \\\n",
       "user_id                                                                  \n",
       "159               3             5         1.0        7               4   \n",
       "396              19             6         1.0        7               0   \n",
       "481              19             1         1.0        7               0   \n",
       "604              28             4         1.0        7               0   \n",
       "762              30             3         1.0        7               2   \n",
       "...             ...           ...         ...      ...             ...   \n",
       "19911             9             8         1.0        7               5   \n",
       "20085             5             4         1.0        7               4   \n",
       "20454            26             3         1.0        7               1   \n",
       "20499             4             3         1.0        7               3   \n",
       "20591            22             6         1.0        7               6   \n",
       "\n",
       "         median_order_hour  mean_days_since  aisle_air fresheners candles  \\\n",
       "user_id                                                                     \n",
       "159                    9.0        30.000000                             0   \n",
       "396                   13.0         9.166667                             0   \n",
       "481                   14.0         7.000000                             0   \n",
       "604                   12.0        22.750000                             0   \n",
       "762                   18.0         7.333333                             0   \n",
       "...                    ...              ...                           ...   \n",
       "19911                  9.0        13.375000                             0   \n",
       "20085                 15.0         4.000000                             0   \n",
       "20454                 16.0         1.000000                             0   \n",
       "20499                 14.0        21.000000                             0   \n",
       "20591                  7.0         7.000000                             0   \n",
       "\n",
       "         aisle_asian foods  aisle_baby accessories  ...  aisle_spreads  \\\n",
       "user_id                                             ...                  \n",
       "159                      0                       0  ...              0   \n",
       "396                      0                       0  ...              0   \n",
       "481                      0                       0  ...              0   \n",
       "604                      0                       0  ...              0   \n",
       "762                      0                       0  ...              0   \n",
       "...                    ...                     ...  ...            ...   \n",
       "19911                    0                       0  ...              0   \n",
       "20085                    0                       0  ...              0   \n",
       "20454                    0                       0  ...              0   \n",
       "20499                    0                       0  ...              0   \n",
       "20591                    0                       0  ...              0   \n",
       "\n",
       "         aisle_tea  aisle_tofu meat alternatives  aisle_tortillas flat bread  \\\n",
       "user_id                                                                        \n",
       "159              0                             0                           0   \n",
       "396              0                             0                           0   \n",
       "481              0                             0                           0   \n",
       "604              0                             0                           0   \n",
       "762              0                             1                           0   \n",
       "...            ...                           ...                         ...   \n",
       "19911            0                             0                           0   \n",
       "20085            0                             0                           0   \n",
       "20454            0                             0                           0   \n",
       "20499            0                             0                           0   \n",
       "20591            0                             0                           0   \n",
       "\n",
       "         aisle_trail mix snack mix  aisle_trash bags liners  \\\n",
       "user_id                                                       \n",
       "159                              0                        0   \n",
       "396                              0                        0   \n",
       "481                              0                        0   \n",
       "604                              0                        0   \n",
       "762                              0                        0   \n",
       "...                            ...                      ...   \n",
       "19911                            0                        0   \n",
       "20085                            0                        0   \n",
       "20454                            0                        0   \n",
       "20499                            0                        0   \n",
       "20591                            0                        0   \n",
       "\n",
       "         aisle_vitamins supplements  aisle_water seltzer sparkling water  \\\n",
       "user_id                                                                    \n",
       "159                               0                                    1   \n",
       "396                               0                                    0   \n",
       "481                               0                                    0   \n",
       "604                               0                                    0   \n",
       "762                               0                                    0   \n",
       "...                             ...                                  ...   \n",
       "19911                             0                                    2   \n",
       "20085                             0                                    0   \n",
       "20454                             0                                    0   \n",
       "20499                             0                                    0   \n",
       "20591                             0                                    0   \n",
       "\n",
       "         aisle_white wines  aisle_yogurt  \n",
       "user_id                                   \n",
       "159                      0             0  \n",
       "396                      0             0  \n",
       "481                      0             0  \n",
       "604                      0             0  \n",
       "762                      0             0  \n",
       "...                    ...           ...  \n",
       "19911                    0             0  \n",
       "20085                    0             0  \n",
       "20454                    0             0  \n",
       "20499                    0             0  \n",
       "20591                    0             0  \n",
       "\n",
       "[100 rows x 138 columns]"
      ]
     },
     "execution_count": 168,
     "metadata": {},
     "output_type": "execute_result"
    }
   ],
   "source": [
    "# These are the users that make up cluster 7, and yes they have a lot of baby products\n",
    "\n",
    "grouped_users[grouped_users['cluster'] == 7]"
   ]
  },
  {
   "cell_type": "code",
   "execution_count": 169,
   "metadata": {
    "scrolled": true
   },
   "outputs": [
    {
     "data": {
      "text/plain": [
       "num_orders              12.0\n",
       "num_products             3.0\n",
       "user_count               1.0\n",
       "mode_order_dow           3.0\n",
       "median_order_hour       14.0\n",
       "mean_days_since         11.0\n",
       "aisle_frozen produce     1.0\n",
       "Name: 7, dtype: float64"
      ]
     },
     "execution_count": 169,
     "metadata": {},
     "output_type": "execute_result"
    }
   ],
   "source": [
    "# These are all of cluster 7's values that aren't zero... still 62 of them\n",
    "\n",
    "cluster_data.iloc[7,(cluster_data.loc[7].values > 0)]"
   ]
  },
  {
   "cell_type": "markdown",
   "metadata": {},
   "source": [
    "### Use TSNE to convert cluster data to 3D"
   ]
  },
  {
   "cell_type": "code",
   "execution_count": 170,
   "metadata": {},
   "outputs": [],
   "source": [
    "# Convert to three dimensional for graphing\n",
    "from sklearn.manifold import TSNE\n",
    "\n",
    "# Adjust perplexity to a value less than the number of samples in your dataset\n",
    "cluster_embedded = TSNE(n_components=3, perplexity=10).fit_transform(cluster_data)"
   ]
  },
  {
   "cell_type": "code",
   "execution_count": 171,
   "metadata": {},
   "outputs": [
    {
     "data": {
      "text/html": [
       "<div>\n",
       "<style scoped>\n",
       "    .dataframe tbody tr th:only-of-type {\n",
       "        vertical-align: middle;\n",
       "    }\n",
       "\n",
       "    .dataframe tbody tr th {\n",
       "        vertical-align: top;\n",
       "    }\n",
       "\n",
       "    .dataframe thead th {\n",
       "        text-align: right;\n",
       "    }\n",
       "</style>\n",
       "<table border=\"1\" class=\"dataframe\">\n",
       "  <thead>\n",
       "    <tr style=\"text-align: right;\">\n",
       "      <th></th>\n",
       "      <th>cluster</th>\n",
       "      <th>1</th>\n",
       "      <th>2</th>\n",
       "      <th>3</th>\n",
       "    </tr>\n",
       "  </thead>\n",
       "  <tbody>\n",
       "    <tr>\n",
       "      <th>0</th>\n",
       "      <td>0</td>\n",
       "      <td>-201.477570</td>\n",
       "      <td>-46.383827</td>\n",
       "      <td>-51.198242</td>\n",
       "    </tr>\n",
       "    <tr>\n",
       "      <th>1</th>\n",
       "      <td>1</td>\n",
       "      <td>140.748413</td>\n",
       "      <td>54.311916</td>\n",
       "      <td>-62.807190</td>\n",
       "    </tr>\n",
       "    <tr>\n",
       "      <th>2</th>\n",
       "      <td>2</td>\n",
       "      <td>97.698608</td>\n",
       "      <td>-126.976158</td>\n",
       "      <td>-98.490761</td>\n",
       "    </tr>\n",
       "    <tr>\n",
       "      <th>3</th>\n",
       "      <td>3</td>\n",
       "      <td>63.816963</td>\n",
       "      <td>96.845039</td>\n",
       "      <td>57.773258</td>\n",
       "    </tr>\n",
       "    <tr>\n",
       "      <th>4</th>\n",
       "      <td>4</td>\n",
       "      <td>-47.943844</td>\n",
       "      <td>104.117798</td>\n",
       "      <td>14.339929</td>\n",
       "    </tr>\n",
       "    <tr>\n",
       "      <th>5</th>\n",
       "      <td>5</td>\n",
       "      <td>28.515022</td>\n",
       "      <td>-14.361185</td>\n",
       "      <td>40.971249</td>\n",
       "    </tr>\n",
       "    <tr>\n",
       "      <th>6</th>\n",
       "      <td>6</td>\n",
       "      <td>101.777008</td>\n",
       "      <td>14.011542</td>\n",
       "      <td>-186.504288</td>\n",
       "    </tr>\n",
       "    <tr>\n",
       "      <th>7</th>\n",
       "      <td>7</td>\n",
       "      <td>-92.835678</td>\n",
       "      <td>-87.144066</td>\n",
       "      <td>-144.346405</td>\n",
       "    </tr>\n",
       "    <tr>\n",
       "      <th>8</th>\n",
       "      <td>8</td>\n",
       "      <td>204.371368</td>\n",
       "      <td>121.541374</td>\n",
       "      <td>50.983631</td>\n",
       "    </tr>\n",
       "    <tr>\n",
       "      <th>9</th>\n",
       "      <td>9</td>\n",
       "      <td>16.714643</td>\n",
       "      <td>-180.899979</td>\n",
       "      <td>7.038330</td>\n",
       "    </tr>\n",
       "    <tr>\n",
       "      <th>10</th>\n",
       "      <td>10</td>\n",
       "      <td>412.217590</td>\n",
       "      <td>-194.715424</td>\n",
       "      <td>-34.689735</td>\n",
       "    </tr>\n",
       "    <tr>\n",
       "      <th>11</th>\n",
       "      <td>11</td>\n",
       "      <td>-101.483994</td>\n",
       "      <td>26.882179</td>\n",
       "      <td>104.665909</td>\n",
       "    </tr>\n",
       "    <tr>\n",
       "      <th>12</th>\n",
       "      <td>12</td>\n",
       "      <td>-47.977871</td>\n",
       "      <td>-87.985336</td>\n",
       "      <td>109.480011</td>\n",
       "    </tr>\n",
       "    <tr>\n",
       "      <th>13</th>\n",
       "      <td>13</td>\n",
       "      <td>-446.212280</td>\n",
       "      <td>214.079819</td>\n",
       "      <td>-12.759037</td>\n",
       "    </tr>\n",
       "    <tr>\n",
       "      <th>14</th>\n",
       "      <td>14</td>\n",
       "      <td>36.302670</td>\n",
       "      <td>209.803574</td>\n",
       "      <td>-49.697330</td>\n",
       "    </tr>\n",
       "    <tr>\n",
       "      <th>15</th>\n",
       "      <td>15</td>\n",
       "      <td>158.996216</td>\n",
       "      <td>-37.077721</td>\n",
       "      <td>16.468597</td>\n",
       "    </tr>\n",
       "    <tr>\n",
       "      <th>16</th>\n",
       "      <td>16</td>\n",
       "      <td>3.014370</td>\n",
       "      <td>-38.684654</td>\n",
       "      <td>-78.295929</td>\n",
       "    </tr>\n",
       "    <tr>\n",
       "      <th>17</th>\n",
       "      <td>17</td>\n",
       "      <td>-39.824554</td>\n",
       "      <td>94.590607</td>\n",
       "      <td>-139.104385</td>\n",
       "    </tr>\n",
       "    <tr>\n",
       "      <th>18</th>\n",
       "      <td>18</td>\n",
       "      <td>-86.599243</td>\n",
       "      <td>-25.075989</td>\n",
       "      <td>-10.957663</td>\n",
       "    </tr>\n",
       "    <tr>\n",
       "      <th>19</th>\n",
       "      <td>19</td>\n",
       "      <td>34.397102</td>\n",
       "      <td>29.216387</td>\n",
       "      <td>156.329605</td>\n",
       "    </tr>\n",
       "  </tbody>\n",
       "</table>\n",
       "</div>"
      ],
      "text/plain": [
       "    cluster           1           2           3\n",
       "0         0 -201.477570  -46.383827  -51.198242\n",
       "1         1  140.748413   54.311916  -62.807190\n",
       "2         2   97.698608 -126.976158  -98.490761\n",
       "3         3   63.816963   96.845039   57.773258\n",
       "4         4  -47.943844  104.117798   14.339929\n",
       "5         5   28.515022  -14.361185   40.971249\n",
       "6         6  101.777008   14.011542 -186.504288\n",
       "7         7  -92.835678  -87.144066 -144.346405\n",
       "8         8  204.371368  121.541374   50.983631\n",
       "9         9   16.714643 -180.899979    7.038330\n",
       "10       10  412.217590 -194.715424  -34.689735\n",
       "11       11 -101.483994   26.882179  104.665909\n",
       "12       12  -47.977871  -87.985336  109.480011\n",
       "13       13 -446.212280  214.079819  -12.759037\n",
       "14       14   36.302670  209.803574  -49.697330\n",
       "15       15  158.996216  -37.077721   16.468597\n",
       "16       16    3.014370  -38.684654  -78.295929\n",
       "17       17  -39.824554   94.590607 -139.104385\n",
       "18       18  -86.599243  -25.075989  -10.957663\n",
       "19       19   34.397102   29.216387  156.329605"
      ]
     },
     "execution_count": 171,
     "metadata": {},
     "output_type": "execute_result"
    }
   ],
   "source": [
    "# Create dataframe to plot\n",
    "cluster_embedded_df = pd.DataFrame(cluster_embedded, index = cluster_data.index, columns = ['1','2','3'])\n",
    "cluster_embedded_df.reset_index(inplace=True)\n",
    "cluster_embedded_df"
   ]
  },
  {
   "cell_type": "code",
   "execution_count": 172,
   "metadata": {},
   "outputs": [
    {
     "data": {
      "image/png": "[encoded data removed]",
      "text/plain": [
       "<Figure size 600x600 with 1 Axes>"
      ]
     },
     "metadata": {},
     "output_type": "display_data"
    }
   ],
   "source": [
    "import re, seaborn as sns\n",
    "import numpy as np\n",
    "from matplotlib import pyplot as plt\n",
    "from mpl_toolkits.mplot3d import Axes3D\n",
    "from matplotlib.colors import ListedColormap\n",
    "\n",
    "# axes instance\n",
    "fig = plt.figure(figsize=(6,6))\n",
    "ax = Axes3D(fig)\n",
    "\n",
    "# get colormap from seaborn\n",
    "cmap = ListedColormap(sns.color_palette(\"husl\", 256).as_hex())\n",
    "\n",
    "# plot\n",
    "sc = ax.scatter(cluster_embedded_df['1'], cluster_embedded_df['2'], cluster_embedded_df['3'], \n",
    "                s=40, c=cluster_embedded_df['cluster'], marker='o', cmap=cmap, alpha=1)\n",
    "ax.set_xlabel('X Label')\n",
    "ax.set_ylabel('Y Label')\n",
    "ax.set_zlabel('Z Label')\n",
    "\n",
    "# legend\n",
    "plt.legend(*sc.legend_elements(num=20), bbox_to_anchor=(1.05, 1), loc=2)\n",
    "\n",
    "# save\n",
    "plt.savefig(\"Images/scatter_hue.png\", bbox_inches='tight')"
   ]
  },
  {
   "cell_type": "code",
   "execution_count": 173,
   "metadata": {},
   "outputs": [
    {
     "data": {
      "application/vnd.plotly.v1+json": {
       "config": {
        "plotlyServerURL": "https://plot.ly"
       },
       "data": [
        {
         "hovertemplate": "1=%{x}<br>2=%{y}<br>3=%{z}<br>cluster=%{marker.color}<extra></extra>",
         "legendgroup": "",
         "marker": {
          "color": [
           0,
           1,
           2,
           3,
           4,
           5,
           6,
           7,
           8,
           9,
           10,
           11,
           12,
           13,
           14,
           15,
           16,
           17,
           18,
           19
          ],
          "coloraxis": "coloraxis",
          "symbol": "circle"
         },
         "mode": "markers",
         "name": "",
         "scene": "scene",
         "showlegend": false,
         "type": "scatter3d",
         "x": [
          -201.47756958007812,
          140.7484130859375,
          97.6986083984375,
          63.81696319580078,
          -47.943843841552734,
          28.51502227783203,
          101.77700805664062,
          -92.83567810058594,
          204.37136840820312,
          16.714643478393555,
          412.21759033203125,
          -101.48399353027344,
          -47.97787094116211,
          -446.2122802734375,
          36.302669525146484,
          158.9962158203125,
          3.0143702030181885,
          -39.824554443359375,
          -86.5992431640625,
          34.39710235595703
         ],
         "y": [
          -46.383827209472656,
          54.31191635131836,
          -126.97615814208984,
          96.84503936767578,
          104.1177978515625,
          -14.361185073852539,
          14.011542320251465,
          -87.1440658569336,
          121.54137420654297,
          -180.8999786376953,
          -194.71542358398438,
          26.882179260253906,
          -87.98533630371094,
          214.07981872558594,
          209.80357360839844,
          -37.077720642089844,
          -38.684654235839844,
          94.59060668945312,
          -25.07598876953125,
          29.216386795043945
         ],
         "z": [
          -51.1982421875,
          -62.80718994140625,
          -98.49076080322266,
          57.773258209228516,
          14.33992862701416,
          40.971248626708984,
          -186.50428771972656,
          -144.34640502929688,
          50.9836311340332,
          7.038330078125,
          -34.689735412597656,
          104.66590881347656,
          109.48001098632812,
          -12.759037017822266,
          -49.697330474853516,
          16.468597412109375,
          -78.29592895507812,
          -139.10438537597656,
          -10.957662582397461,
          156.32960510253906
         ]
        }
       ],
       "layout": {
        "coloraxis": {
         "colorbar": {
          "title": {
           "text": "cluster"
          }
         },
         "colorscale": [
          [
           0,
           "#0d0887"
          ],
          [
           0.1111111111111111,
           "#46039f"
          ],
          [
           0.2222222222222222,
           "#7201a8"
          ],
          [
           0.3333333333333333,
           "#9c179e"
          ],
          [
           0.4444444444444444,
           "#bd3786"
          ],
          [
           0.5555555555555556,
           "#d8576b"
          ],
          [
           0.6666666666666666,
           "#ed7953"
          ],
          [
           0.7777777777777778,
           "#fb9f3a"
          ],
          [
           0.8888888888888888,
           "#fdca26"
          ],
          [
           1,
           "#f0f921"
          ]
         ]
        },
        "legend": {
         "tracegroupgap": 0
        },
        "margin": {
         "t": 60
        },
        "scene": {
         "domain": {
          "x": [
           0,
           1
          ],
          "y": [
           0,
           1
          ]
         },
         "xaxis": {
          "title": {
           "text": "1"
          }
         },
         "yaxis": {
          "title": {
           "text": "2"
          }
         },
         "zaxis": {
          "title": {
           "text": "3"
          }
         }
        },
        "template": {
         "data": {
          "bar": [
           {
            "error_x": {
             "color": "#2a3f5f"
            },
            "error_y": {
             "color": "#2a3f5f"
            },
            "marker": {
             "line": {
              "color": "#E5ECF6",
              "width": 0.5
             },
             "pattern": {
              "fillmode": "overlay",
              "size": 10,
              "solidity": 0.2
             }
            },
            "type": "bar"
           }
          ],
          "barpolar": [
           {
            "marker": {
             "line": {
              "color": "#E5ECF6",
              "width": 0.5
             },
             "pattern": {
              "fillmode": "overlay",
              "size": 10,
              "solidity": 0.2
             }
            },
            "type": "barpolar"
           }
          ],
          "carpet": [
           {
            "aaxis": {
             "endlinecolor": "#2a3f5f",
             "gridcolor": "white",
             "linecolor": "white",
             "minorgridcolor": "white",
             "startlinecolor": "#2a3f5f"
            },
            "baxis": {
             "endlinecolor": "#2a3f5f",
             "gridcolor": "white",
             "linecolor": "white",
             "minorgridcolor": "white",
             "startlinecolor": "#2a3f5f"
            },
            "type": "carpet"
           }
          ],
          "choropleth": [
           {
            "colorbar": {
             "outlinewidth": 0,
             "ticks": ""
            },
            "type": "choropleth"
           }
          ],
          "contour": [
           {
            "colorbar": {
             "outlinewidth": 0,
             "ticks": ""
            },
            "colorscale": [
             [
              0,
              "#0d0887"
             ],
             [
              0.1111111111111111,
              "#46039f"
             ],
             [
              0.2222222222222222,
              "#7201a8"
             ],
             [
              0.3333333333333333,
              "#9c179e"
             ],
             [
              0.4444444444444444,
              "#bd3786"
             ],
             [
              0.5555555555555556,
              "#d8576b"
             ],
             [
              0.6666666666666666,
              "#ed7953"
             ],
             [
              0.7777777777777778,
              "#fb9f3a"
             ],
             [
              0.8888888888888888,
              "#fdca26"
             ],
             [
              1,
              "#f0f921"
             ]
            ],
            "type": "contour"
           }
          ],
          "contourcarpet": [
           {
            "colorbar": {
             "outlinewidth": 0,
             "ticks": ""
            },
            "type": "contourcarpet"
           }
          ],
          "heatmap": [
           {
            "colorbar": {
             "outlinewidth": 0,
             "ticks": ""
            },
            "colorscale": [
             [
              0,
              "#0d0887"
             ],
             [
              0.1111111111111111,
              "#46039f"
             ],
             [
              0.2222222222222222,
              "#7201a8"
             ],
             [
              0.3333333333333333,
              "#9c179e"
             ],
             [
              0.4444444444444444,
              "#bd3786"
             ],
             [
              0.5555555555555556,
              "#d8576b"
             ],
             [
              0.6666666666666666,
              "#ed7953"
             ],
             [
              0.7777777777777778,
              "#fb9f3a"
             ],
             [
              0.8888888888888888,
              "#fdca26"
             ],
             [
              1,
              "#f0f921"
             ]
            ],
            "type": "heatmap"
           }
          ],
          "heatmapgl": [
           {
            "colorbar": {
             "outlinewidth": 0,
             "ticks": ""
            },
            "colorscale": [
             [
              0,
              "#0d0887"
             ],
             [
              0.1111111111111111,
              "#46039f"
             ],
             [
              0.2222222222222222,
              "#7201a8"
             ],
             [
              0.3333333333333333,
              "#9c179e"
             ],
             [
              0.4444444444444444,
              "#bd3786"
             ],
             [
              0.5555555555555556,
              "#d8576b"
             ],
             [
              0.6666666666666666,
              "#ed7953"
             ],
             [
              0.7777777777777778,
              "#fb9f3a"
             ],
             [
              0.8888888888888888,
              "#fdca26"
             ],
             [
              1,
              "#f0f921"
             ]
            ],
            "type": "heatmapgl"
           }
          ],
          "histogram": [
           {
            "marker": {
             "pattern": {
              "fillmode": "overlay",
              "size": 10,
              "solidity": 0.2
             }
            },
            "type": "histogram"
           }
          ],
          "histogram2d": [
           {
            "colorbar": {
             "outlinewidth": 0,
             "ticks": ""
            },
            "colorscale": [
             [
              0,
              "#0d0887"
             ],
             [
              0.1111111111111111,
              "#46039f"
             ],
             [
              0.2222222222222222,
              "#7201a8"
             ],
             [
              0.3333333333333333,
              "#9c179e"
             ],
             [
              0.4444444444444444,
              "#bd3786"
             ],
             [
              0.5555555555555556,
              "#d8576b"
             ],
             [
              0.6666666666666666,
              "#ed7953"
             ],
             [
              0.7777777777777778,
              "#fb9f3a"
             ],
             [
              0.8888888888888888,
              "#fdca26"
             ],
             [
              1,
              "#f0f921"
             ]
            ],
            "type": "histogram2d"
           }
          ],
          "histogram2dcontour": [
           {
            "colorbar": {
             "outlinewidth": 0,
             "ticks": ""
            },
            "colorscale": [
             [
              0,
              "#0d0887"
             ],
             [
              0.1111111111111111,
              "#46039f"
             ],
             [
              0.2222222222222222,
              "#7201a8"
             ],
             [
              0.3333333333333333,
              "#9c179e"
             ],
             [
              0.4444444444444444,
              "#bd3786"
             ],
             [
              0.5555555555555556,
              "#d8576b"
             ],
             [
              0.6666666666666666,
              "#ed7953"
             ],
             [
              0.7777777777777778,
              "#fb9f3a"
             ],
             [
              0.8888888888888888,
              "#fdca26"
             ],
             [
              1,
              "#f0f921"
             ]
            ],
            "type": "histogram2dcontour"
           }
          ],
          "mesh3d": [
           {
            "colorbar": {
             "outlinewidth": 0,
             "ticks": ""
            },
            "type": "mesh3d"
           }
          ],
          "parcoords": [
           {
            "line": {
             "colorbar": {
              "outlinewidth": 0,
              "ticks": ""
             }
            },
            "type": "parcoords"
           }
          ],
          "pie": [
           {
            "automargin": true,
            "type": "pie"
           }
          ],
          "scatter": [
           {
            "fillpattern": {
             "fillmode": "overlay",
             "size": 10,
             "solidity": 0.2
            },
            "type": "scatter"
           }
          ],
          "scatter3d": [
           {
            "line": {
             "colorbar": {
              "outlinewidth": 0,
              "ticks": ""
             }
            },
            "marker": {
             "colorbar": {
              "outlinewidth": 0,
              "ticks": ""
             }
            },
            "type": "scatter3d"
           }
          ],
          "scattercarpet": [
           {
            "marker": {
             "colorbar": {
              "outlinewidth": 0,
              "ticks": ""
             }
            },
            "type": "scattercarpet"
           }
          ],
          "scattergeo": [
           {
            "marker": {
             "colorbar": {
              "outlinewidth": 0,
              "ticks": ""
             }
            },
            "type": "scattergeo"
           }
          ],
          "scattergl": [
           {
            "marker": {
             "colorbar": {
              "outlinewidth": 0,
              "ticks": ""
             }
            },
            "type": "scattergl"
           }
          ],
          "scattermapbox": [
           {
            "marker": {
             "colorbar": {
              "outlinewidth": 0,
              "ticks": ""
             }
            },
            "type": "scattermapbox"
           }
          ],
          "scatterpolar": [
           {
            "marker": {
             "colorbar": {
              "outlinewidth": 0,
              "ticks": ""
             }
            },
            "type": "scatterpolar"
           }
          ],
          "scatterpolargl": [
           {
            "marker": {
             "colorbar": {
              "outlinewidth": 0,
              "ticks": ""
             }
            },
            "type": "scatterpolargl"
           }
          ],
          "scatterternary": [
           {
            "marker": {
             "colorbar": {
              "outlinewidth": 0,
              "ticks": ""
             }
            },
            "type": "scatterternary"
           }
          ],
          "surface": [
           {
            "colorbar": {
             "outlinewidth": 0,
             "ticks": ""
            },
            "colorscale": [
             [
              0,
              "#0d0887"
             ],
             [
              0.1111111111111111,
              "#46039f"
             ],
             [
              0.2222222222222222,
              "#7201a8"
             ],
             [
              0.3333333333333333,
              "#9c179e"
             ],
             [
              0.4444444444444444,
              "#bd3786"
             ],
             [
              0.5555555555555556,
              "#d8576b"
             ],
             [
              0.6666666666666666,
              "#ed7953"
             ],
             [
              0.7777777777777778,
              "#fb9f3a"
             ],
             [
              0.8888888888888888,
              "#fdca26"
             ],
             [
              1,
              "#f0f921"
             ]
            ],
            "type": "surface"
           }
          ],
          "table": [
           {
            "cells": {
             "fill": {
              "color": "#EBF0F8"
             },
             "line": {
              "color": "white"
             }
            },
            "header": {
             "fill": {
              "color": "#C8D4E3"
             },
             "line": {
              "color": "white"
             }
            },
            "type": "table"
           }
          ]
         },
         "layout": {
          "annotationdefaults": {
           "arrowcolor": "#2a3f5f",
           "arrowhead": 0,
           "arrowwidth": 1
          },
          "autotypenumbers": "strict",
          "coloraxis": {
           "colorbar": {
            "outlinewidth": 0,
            "ticks": ""
           }
          },
          "colorscale": {
           "diverging": [
            [
             0,
             "#8e0152"
            ],
            [
             0.1,
             "#c51b7d"
            ],
            [
             0.2,
             "#de77ae"
            ],
            [
             0.3,
             "#f1b6da"
            ],
            [
             0.4,
             "#fde0ef"
            ],
            [
             0.5,
             "#f7f7f7"
            ],
            [
             0.6,
             "#e6f5d0"
            ],
            [
             0.7,
             "#b8e186"
            ],
            [
             0.8,
             "#7fbc41"
            ],
            [
             0.9,
             "#4d9221"
            ],
            [
             1,
             "#276419"
            ]
           ],
           "sequential": [
            [
             0,
             "#0d0887"
            ],
            [
             0.1111111111111111,
             "#46039f"
            ],
            [
             0.2222222222222222,
             "#7201a8"
            ],
            [
             0.3333333333333333,
             "#9c179e"
            ],
            [
             0.4444444444444444,
             "#bd3786"
            ],
            [
             0.5555555555555556,
             "#d8576b"
            ],
            [
             0.6666666666666666,
             "#ed7953"
            ],
            [
             0.7777777777777778,
             "#fb9f3a"
            ],
            [
             0.8888888888888888,
             "#fdca26"
            ],
            [
             1,
             "#f0f921"
            ]
           ],
           "sequentialminus": [
            [
             0,
             "#0d0887"
            ],
            [
             0.1111111111111111,
             "#46039f"
            ],
            [
             0.2222222222222222,
             "#7201a8"
            ],
            [
             0.3333333333333333,
             "#9c179e"
            ],
            [
             0.4444444444444444,
             "#bd3786"
            ],
            [
             0.5555555555555556,
             "#d8576b"
            ],
            [
             0.6666666666666666,
             "#ed7953"
            ],
            [
             0.7777777777777778,
             "#fb9f3a"
            ],
            [
             0.8888888888888888,
             "#fdca26"
            ],
            [
             1,
             "#f0f921"
            ]
           ]
          },
          "colorway": [
           "#636efa",
           "#EF553B",
           "#00cc96",
           "#ab63fa",
           "#FFA15A",
           "#19d3f3",
           "#FF6692",
           "#B6E880",
           "#FF97FF",
           "#FECB52"
          ],
          "font": {
           "color": "#2a3f5f"
          },
          "geo": {
           "bgcolor": "white",
           "lakecolor": "white",
           "landcolor": "#E5ECF6",
           "showlakes": true,
           "showland": true,
           "subunitcolor": "white"
          },
          "hoverlabel": {
           "align": "left"
          },
          "hovermode": "closest",
          "mapbox": {
           "style": "light"
          },
          "paper_bgcolor": "white",
          "plot_bgcolor": "#E5ECF6",
          "polar": {
           "angularaxis": {
            "gridcolor": "white",
            "linecolor": "white",
            "ticks": ""
           },
           "bgcolor": "#E5ECF6",
           "radialaxis": {
            "gridcolor": "white",
            "linecolor": "white",
            "ticks": ""
           }
          },
          "scene": {
           "xaxis": {
            "backgroundcolor": "#E5ECF6",
            "gridcolor": "white",
            "gridwidth": 2,
            "linecolor": "white",
            "showbackground": true,
            "ticks": "",
            "zerolinecolor": "white"
           },
           "yaxis": {
            "backgroundcolor": "#E5ECF6",
            "gridcolor": "white",
            "gridwidth": 2,
            "linecolor": "white",
            "showbackground": true,
            "ticks": "",
            "zerolinecolor": "white"
           },
           "zaxis": {
            "backgroundcolor": "#E5ECF6",
            "gridcolor": "white",
            "gridwidth": 2,
            "linecolor": "white",
            "showbackground": true,
            "ticks": "",
            "zerolinecolor": "white"
           }
          },
          "shapedefaults": {
           "line": {
            "color": "#2a3f5f"
           }
          },
          "ternary": {
           "aaxis": {
            "gridcolor": "white",
            "linecolor": "white",
            "ticks": ""
           },
           "baxis": {
            "gridcolor": "white",
            "linecolor": "white",
            "ticks": ""
           },
           "bgcolor": "#E5ECF6",
           "caxis": {
            "gridcolor": "white",
            "linecolor": "white",
            "ticks": ""
           }
          },
          "title": {
           "x": 0.05
          },
          "xaxis": {
           "automargin": true,
           "gridcolor": "white",
           "linecolor": "white",
           "ticks": "",
           "title": {
            "standoff": 15
           },
           "zerolinecolor": "white",
           "zerolinewidth": 2
          },
          "yaxis": {
           "automargin": true,
           "gridcolor": "white",
           "linecolor": "white",
           "ticks": "",
           "title": {
            "standoff": 15
           },
           "zerolinecolor": "white",
           "zerolinewidth": 2
          }
         }
        }
       }
      }
     },
     "metadata": {},
     "output_type": "display_data"
    }
   ],
   "source": [
    "# This shows clusters 5, 11, 12, 14, and 17 as being very separate from the rest\n",
    "\n",
    "import plotly.express as px\n",
    "\n",
    "fig = px.scatter_3d(cluster_embedded_df, x='1', y='2', z='3', color='cluster')\n",
    "fig.show() "
   ]
  },
  {
   "cell_type": "code",
   "execution_count": 174,
   "metadata": {},
   "outputs": [],
   "source": [
    "# Can I plot all of the users with their cluster color?\n",
    "# This took about 2 hours and 20 minutes to run.\n",
    "\n",
    "user_embedded = TSNE(n_components=3).fit_transform(grouped_users.drop(columns='cluster'))"
   ]
  },
  {
   "cell_type": "code",
   "execution_count": 175,
   "metadata": {},
   "outputs": [],
   "source": [
    "pickle.dump(user_embedded, open(\"Pickle/user_embedded.p\", \"wb\"))"
   ]
  },
  {
   "cell_type": "code",
   "execution_count": 176,
   "metadata": {},
   "outputs": [],
   "source": [
    "user_embedded = pickle.load(open(\"Pickle/user_embedded.p\", \"rb\"))"
   ]
  },
  {
   "cell_type": "code",
   "execution_count": 177,
   "metadata": {
    "scrolled": true
   },
   "outputs": [
    {
     "data": {
      "text/plain": [
       "array([[  0.3040039 ,   9.690479  ,   3.1696064 ],\n",
       "       [ -8.98401   , -12.313886  ,   2.1930332 ],\n",
       "       [ 23.600279  ,   5.2160764 ,   2.6689672 ],\n",
       "       ...,\n",
       "       [  7.509661  ,  -3.57656   ,   5.714711  ],\n",
       "       [ -7.748848  ,  -1.4957668 ,   3.4075704 ],\n",
       "       [  6.101034  ,   2.9570198 ,   0.56539965]], dtype=float32)"
      ]
     },
     "execution_count": 177,
     "metadata": {},
     "output_type": "execute_result"
    }
   ],
   "source": [
    "user_embedded"
   ]
  },
  {
   "cell_type": "code",
   "execution_count": 178,
   "metadata": {},
   "outputs": [
    {
     "data": {
      "text/html": [
       "<div>\n",
       "<style scoped>\n",
       "    .dataframe tbody tr th:only-of-type {\n",
       "        vertical-align: middle;\n",
       "    }\n",
       "\n",
       "    .dataframe tbody tr th {\n",
       "        vertical-align: top;\n",
       "    }\n",
       "\n",
       "    .dataframe thead th {\n",
       "        text-align: right;\n",
       "    }\n",
       "</style>\n",
       "<table border=\"1\" class=\"dataframe\">\n",
       "  <thead>\n",
       "    <tr style=\"text-align: right;\">\n",
       "      <th></th>\n",
       "      <th>user_id</th>\n",
       "      <th>1</th>\n",
       "      <th>2</th>\n",
       "      <th>3</th>\n",
       "      <th>cluster</th>\n",
       "    </tr>\n",
       "  </thead>\n",
       "  <tbody>\n",
       "    <tr>\n",
       "      <th>0</th>\n",
       "      <td>7</td>\n",
       "      <td>0.304004</td>\n",
       "      <td>9.690479</td>\n",
       "      <td>3.169606</td>\n",
       "      <td>0</td>\n",
       "    </tr>\n",
       "    <tr>\n",
       "      <th>1</th>\n",
       "      <td>23</td>\n",
       "      <td>-8.984010</td>\n",
       "      <td>-12.313886</td>\n",
       "      <td>2.193033</td>\n",
       "      <td>5</td>\n",
       "    </tr>\n",
       "    <tr>\n",
       "      <th>2</th>\n",
       "      <td>27</td>\n",
       "      <td>23.600279</td>\n",
       "      <td>5.216076</td>\n",
       "      <td>2.668967</td>\n",
       "      <td>6</td>\n",
       "    </tr>\n",
       "    <tr>\n",
       "      <th>3</th>\n",
       "      <td>36</td>\n",
       "      <td>0.521567</td>\n",
       "      <td>-12.961699</td>\n",
       "      <td>-3.204311</td>\n",
       "      <td>1</td>\n",
       "    </tr>\n",
       "    <tr>\n",
       "      <th>4</th>\n",
       "      <td>42</td>\n",
       "      <td>-5.608203</td>\n",
       "      <td>-10.031871</td>\n",
       "      <td>-6.437064</td>\n",
       "      <td>0</td>\n",
       "    </tr>\n",
       "  </tbody>\n",
       "</table>\n",
       "</div>"
      ],
      "text/plain": [
       "   user_id          1          2         3  cluster\n",
       "0        7   0.304004   9.690479  3.169606        0\n",
       "1       23  -8.984010 -12.313886  2.193033        5\n",
       "2       27  23.600279   5.216076  2.668967        6\n",
       "3       36   0.521567 -12.961699 -3.204311        1\n",
       "4       42  -5.608203 -10.031871 -6.437064        0"
      ]
     },
     "execution_count": 178,
     "metadata": {},
     "output_type": "execute_result"
    }
   ],
   "source": [
    "# Create dataframe to plot\n",
    "user_embedded_df = pd.DataFrame(user_embedded, index = grouped_users.index, columns = ['1','2','3'])\n",
    "user_embedded_df.reset_index(inplace=True)\n",
    "user_embedded_df['cluster'] = k_means_20.labels_\n",
    "user_embedded_df.head()"
   ]
  },
  {
   "cell_type": "code",
   "execution_count": 179,
   "metadata": {},
   "outputs": [
    {
     "data": {
      "application/vnd.plotly.v1+json": {
       "config": {
        "plotlyServerURL": "https://plot.ly"
       },
       "data": [
        {
         "hovertemplate": "1=%{x}<br>2=%{y}<br>3=%{z}<br>cluster=%{marker.color}<extra></extra>",
         "legendgroup": "",
         "marker": {
          "color": [
           3,
           0,
           6,
           0,
           3,
           5,
           0,
           0,
           0,
           0,
           0,
           4,
           5,
           6,
           0,
           6,
           0,
           5,
           0,
           6,
           6,
           5,
           6,
           5,
           0,
           0,
           0,
           0,
           1,
           6,
           0,
           0,
           0,
           0,
           0,
           0,
           0,
           0,
           0,
           0,
           13,
           5,
           6,
           0,
           0,
           3,
           0,
           0,
           0,
           6,
           5,
           0,
           4,
           0,
           0,
           0,
           6,
           7,
           0,
           0,
           0,
           0,
           0,
           15,
           0,
           6,
           5,
           5,
           0,
           4,
           0,
           6,
           6,
           0,
           5,
           0,
           6,
           6,
           6,
           0,
           6,
           0,
           0,
           0,
           0,
           3,
           0,
           0,
           6,
           17,
           0,
           0,
           0,
           5,
           0,
           0,
           0,
           0,
           0,
           15,
           7,
           0,
           6,
           6,
           6,
           6,
           0,
           0,
           6,
           5,
           0,
           0,
           6,
           0,
           6,
           0,
           6,
           0,
           0,
           0,
           0,
           0,
           0,
           0,
           15,
           0,
           6,
           15,
           6,
           6,
           0,
           0,
           0,
           0,
           0,
           0,
           6,
           4,
           6,
           0,
           5,
           0,
           0,
           6,
           0,
           0,
           0,
           6,
           0,
           0,
           0,
           0,
           5,
           0,
           5,
           5,
           6,
           11,
           0,
           0,
           0,
           0,
           6,
           6,
           0,
           0,
           6,
           6,
           6,
           4,
           0,
           0,
           0,
           0,
           15,
           0,
           4,
           0,
           0,
           5,
           6,
           0,
           0,
           2,
           6,
           5,
           0,
           0,
           0,
           6,
           5,
           5,
           0,
           0,
           0,
           7,
           0,
           0,
           0,
           0
          ],
          "coloraxis": "coloraxis",
          "symbol": "circle"
         },
         "mode": "markers",
         "name": "",
         "scene": "scene",
         "showlegend": false,
         "type": "scatter3d",
         "x": [
          3.202315092086792,
          -5.754806995391846,
          13.069753646850586,
          -3.0078015327453613,
          15.320771217346191,
          15.20833969116211,
          -8.35737133026123,
          -9.472793579101562,
          -1.0169165134429932,
          -13.399699211120605,
          -5.979149341583252,
          -8.361283302307129,
          -7.676606178283691,
          -2.1339967250823975,
          -6.456666946411133,
          2.5725724697113037,
          8.878132820129395,
          8.181334495544434,
          -2.278343915939331,
          24.685527801513672,
          20.245220184326172,
          -8.951465606689453,
          8.304608345031738,
          10.413243293762207,
          -3.384099245071411,
          -9.220527648925781,
          1.1683975458145142,
          -8.066654205322266,
          21.0750675201416,
          5.065787315368652,
          -6.100315570831299,
          1.379776120185852,
          -6.002730369567871,
          -6.1018781661987305,
          0.30400389432907104,
          -5.346202373504639,
          8.176055908203125,
          -8.804489135742188,
          5.219832897186279,
          -2.722968578338623,
          0.9731470942497253,
          -6.100618839263916,
          8.657747268676758,
          -8.895703315734863,
          -6.954209804534912,
          20.731016159057617,
          11.72242546081543,
          5.488410949707031,
          10.348062515258789,
          13.571605682373047,
          14.270486831665039,
          -4.786601543426514,
          3.8542540073394775,
          -9.33718204498291,
          -13.4568510055542,
          -2.8509716987609863,
          10.477743148803711,
          -13.522093772888184,
          -8.75485610961914,
          -10.719024658203125,
          -6.346575736999512,
          -6.969501495361328,
          -1.4518306255340576,
          0.350869745016098,
          -0.8042250275611877,
          2.2834997177124023,
          -5.546757698059082,
          26.489749908447266,
          6.060577869415283,
          4.039992332458496,
          -7.462649822235107,
          13.088826179504395,
          16.051572799682617,
          -9.205756187438965,
          -3.3537850379943848,
          2.218114137649536,
          18.146127700805664,
          12.987725257873535,
          5.511502265930176,
          2.0913619995117188,
          21.85476303100586,
          4.686070442199707,
          1.9000879526138306,
          -7.204258441925049,
          -3.9463002681732178,
          -5.1856184005737305,
          -13.233211517333984,
          -10.236335754394531,
          -9.405945777893066,
          -4.210565567016602,
          0.47635409235954285,
          2.265796422958374,
          -2.5032684803009033,
          -9.086662292480469,
          -8.711790084838867,
          -4.7318243980407715,
          7.052121162414551,
          -7.031619548797607,
          -13.616535186767578,
          -8.755301475524902,
          18.097152709960938,
          9.245491981506348,
          24.63764190673828,
          -5.733895301818848,
          -6.005661964416504,
          3.1660969257354736,
          -3.3295609951019287,
          11.24131965637207,
          6.909171104431152,
          -9.837502479553223,
          -9.256487846374512,
          -6.635925769805908,
          10.782700538635254,
          1.447047233581543,
          11.116891860961914,
          -5.2435760498046875,
          12.595742225646973,
          -3.031529664993286,
          -4.8258233070373535,
          -5.946916580200195,
          1.1583733558654785,
          -12.560809135437012,
          -13.272881507873535,
          -3.02734637260437,
          10.408555030822754,
          -2.178086519241333,
          -4.034453868865967,
          -13.720252990722656,
          2.837144374847412,
          13.134101867675781,
          -7.682930946350098,
          -3.2594757080078125,
          -5.57499361038208,
          -5.9142842292785645,
          -5.453152656555176,
          3.1809277534484863,
          20.68956184387207,
          6.017883777618408,
          -10.047964096069336,
          -4.250279903411865,
          1.0170860290527344,
          1.427380084991455,
          -4.961214065551758,
          5.460167407989502,
          -4.163343906402588,
          -5.512475490570068,
          -1.795390248298645,
          10.77031135559082,
          -8.405840873718262,
          3.0008797645568848,
          -3.2628018856048584,
          -5.853402614593506,
          -6.348742961883545,
          7.108608722686768,
          -8.268779754638672,
          18.849891662597656,
          16.81757354736328,
          -11.129796028137207,
          -5.228796482086182,
          -8.352822303771973,
          0.8297702074050903,
          4.715957164764404,
          27.36614418029785,
          1.82343327999115,
          3.197477340698242,
          4.864326477050781,
          23.662565231323242,
          -3.9942963123321533,
          11.28248405456543,
          -6.813413143157959,
          -4.204026222229004,
          -0.7214306592941284,
          -9.099488258361816,
          -3.8946897983551025,
          8.568085670471191,
          -2.3732733726501465,
          -4.973823070526123,
          -9.705358505249023,
          -3.3644368648529053,
          -1.0810635089874268,
          12.959427833557129,
          10.432364463806152,
          -8.413273811340332,
          -7.529757499694824,
          2.4778244495391846,
          2.422017812728882,
          -5.519410133361816,
          -5.056447505950928,
          -1.94570791721344,
          13.527323722839355,
          -1.2121641635894775,
          -6.988240718841553,
          -4.6583147048950195,
          -6.742886066436768,
          -12.883516311645508,
          4.883213996887207,
          8.441890716552734,
          -3.7505688667297363,
          -2.1040525436401367,
          1.7197118997573853
         ],
         "y": [
          -5.244438648223877,
          -2.015988349914551,
          -0.2559681534767151,
          -10.10975456237793,
          5.353867053985596,
          5.323446750640869,
          -12.676189422607422,
          -1.3075615167617798,
          -2.255089521408081,
          -6.488686561584473,
          -2.96134877204895,
          -10.779017448425293,
          2.1592252254486084,
          -12.40212631225586,
          18.3917179107666,
          0.8531113266944885,
          4.549900054931641,
          0.5820317268371582,
          8.067261695861816,
          4.112316131591797,
          6.763805389404297,
          -1.2838973999023438,
          -1.406744360923767,
          -4.107868671417236,
          -14.885903358459473,
          1.6760938167572021,
          13.297076225280762,
          -10.306323051452637,
          7.7349324226379395,
          2.146195411682129,
          -0.873970091342926,
          -12.179615020751953,
          -5.043666839599609,
          -10.064910888671875,
          9.690479278564453,
          -9.84888744354248,
          -5.1402740478515625,
          1.2708337306976318,
          -6.2444376945495605,
          -9.115591049194336,
          0.7156688570976257,
          14.962563514709473,
          -4.571217060089111,
          2.2511231899261475,
          4.0973358154296875,
          7.798541069030762,
          -0.057975828647613525,
          -1.8740553855895996,
          3.826606035232544,
          5.386740684509277,
          3.9420320987701416,
          12.604637145996094,
          -5.303248405456543,
          12.323248863220215,
          -6.414612293243408,
          -3.679997682571411,
          -1.9323898553848267,
          -6.4394307136535645,
          -7.455437660217285,
          -0.8729978799819946,
          18.58172035217285,
          1.372620940208435,
          -13.433673858642578,
          9.349438667297363,
          -1.7919427156448364,
          -7.613747596740723,
          -13.548784255981445,
          3.6703734397888184,
          -4.831480026245117,
          -5.599278926849365,
          -13.154749870300293,
          3.7250242233276367,
          7.3374223709106445,
          3.8226590156555176,
          11.251953125,
          -10.33328914642334,
          8.668375015258789,
          7.771266460418701,
          -7.909092426300049,
          9.751798629760742,
          6.533360481262207,
          2.4045040607452393,
          -2.122551918029785,
          18.738731384277344,
          11.349157333374023,
          -9.280892372131348,
          -6.464071273803711,
          -1.3408739566802979,
          -6.353805065155029,
          14.206585884094238,
          10.105053901672363,
          -8.587141990661621,
          13.4760160446167,
          7.785815238952637,
          -11.849017143249512,
          -9.971719741821289,
          -6.540248870849609,
          13.08410358428955,
          -3.074129343032837,
          4.175666332244873,
          7.566812038421631,
          -3.6910624504089355,
          4.044040679931641,
          -15.609298706054688,
          -4.771285057067871,
          -2.08939266204834,
          -5.9828925132751465,
          -2.29280948638916,
          3.646228313446045,
          6.389762878417969,
          -9.223258018493652,
          10.97038459777832,
          -0.3929012417793274,
          -1.7052792310714722,
          -3.3324577808380127,
          -12.678445816040039,
          1.6741926670074463,
          10.719127655029297,
          16.313762664794922,
          -8.393275260925293,
          -12.05400562286377,
          -2.6737141609191895,
          -4.531463623046875,
          -10.320916175842285,
          -0.30013084411621094,
          16.76314353942871,
          -12.73475456237793,
          -7.298754692077637,
          -11.929718017578125,
          -1.03606379032135,
          14.728163719177246,
          16.49281883239746,
          -13.070144653320312,
          -3.0020065307617188,
          -12.471355438232422,
          -9.706576347351074,
          7.734353065490723,
          2.5651702880859375,
          -5.972551345825195,
          14.126042366027832,
          -8.294456481933594,
          -11.890381813049316,
          12.395346641540527,
          -8.029350280761719,
          -9.484684944152832,
          -9.826044082641602,
          -2.008268117904663,
          -4.6232380867004395,
          0.9482405185699463,
          -4.205046653747559,
          -15.984907150268555,
          -13.584541320800781,
          -10.616947174072266,
          6.889756679534912,
          10.720104217529297,
          8.124704360961914,
          8.669859886169434,
          -6.1974310874938965,
          -9.352361679077148,
          14.229165077209473,
          13.365511894226074,
          -2.48946213722229,
          -0.017069922760128975,
          -8.981307029724121,
          7.643879413604736,
          2.8746445178985596,
          5.800511837005615,
          -16.427379608154297,
          4.741659164428711,
          -12.204200744628906,
          -14.82925796508789,
          -10.709453582763672,
          12.27238941192627,
          12.939177513122559,
          -3.6797444820404053,
          11.930685043334961,
          -9.488105773925781,
          12.71554946899414,
          16.810239791870117,
          2.7719407081604004,
          -0.5485854148864746,
          -5.567619323730469,
          7.71902322769165,
          -0.6097775101661682,
          -2.0226247310638428,
          -6.428216934204102,
          -1.978126049041748,
          12.205463409423828,
          -8.836621284484863,
          2.1425914764404297,
          -9.176465034484863,
          12.993836402893066,
          12.712162017822266,
          -9.192842483520508,
          -4.2359795570373535,
          -2.261310338973999,
          -3.746598720550537,
          -14.637933731079102,
          -8.775035858154297,
          7.349977016448975
         ],
         "z": [
          1.8022273778915405,
          -3.5805721282958984,
          -3.851975917816162,
          3.6271536350250244,
          -4.995164394378662,
          -4.874261856079102,
          1.3585710525512695,
          3.3365092277526855,
          -2.0546650886535645,
          -3.3034157752990723,
          4.134795188903809,
          -0.7160496115684509,
          -0.30766505002975464,
          1.4150919914245605,
          -1.8100805282592773,
          0.23857983946800232,
          1.4444175958633423,
          -4.203464508056641,
          -0.4547961950302124,
          2.528068780899048,
          0.8183534741401672,
          2.3641719818115234,
          -0.6677513122558594,
          4.688311576843262,
          -1.276363492012024,
          -0.7759753465652466,
          -0.42287129163742065,
          0.52732914686203,
          -1.6620060205459595,
          0.3301866352558136,
          3.453028440475464,
          5.834983825683594,
          -0.1317284256219864,
          2.509500741958618,
          3.1696064472198486,
          -6.5047125816345215,
          1.577095866203308,
          -5.246538162231445,
          2.3222861289978027,
          4.540174961090088,
          5.164609909057617,
          0.6270321011543274,
          -5.1339030265808105,
          -2.8818066120147705,
          0.955877959728241,
          0.11993298679590225,
          -4.4333648681640625,
          1.442218542098999,
          1.5279734134674072,
          -4.211669921875,
          -3.0682692527770996,
          -1.256587028503418,
          3.0851733684539795,
          4.339885711669922,
          -2.158090591430664,
          1.0812090635299683,
          -1.6439391374588013,
          -0.718431830406189,
          4.853465557098389,
          -0.762866199016571,
          -2.575549364089966,
          -0.9612317085266113,
          0.8467748165130615,
          -1.3486076593399048,
          -2.385284662246704,
          -3.164874315261841,
          -4.704799175262451,
          0.8886352181434631,
          -1.9071706533432007,
          2.9570810794830322,
          -4.836676597595215,
          1.0389000177383423,
          2.0362157821655273,
          0.5435277223587036,
          -0.6669926643371582,
          -5.176604270935059,
          1.9453459978103638,
          -0.9283618330955505,
          -2.9548499584198,
          1.656029224395752,
          3.4062998294830322,
          -0.25342971086502075,
          1.1303517818450928,
          2.242523670196533,
          3.5537638664245605,
          5.644428253173828,
          1.9652559757232666,
          2.6877448558807373,
          3.9994421005249023,
          -4.395701885223389,
          2.4393606185913086,
          -2.0359086990356445,
          -5.313925743103027,
          -4.913177490234375,
          -5.622617244720459,
          0.8045868277549744,
          -1.1907132863998413,
          4.057462215423584,
          1.8669596910476685,
          -1.6933122873306274,
          -0.27596527338027954,
          -0.6897651553153992,
          2.6520462036132812,
          1.416543960571289,
          -0.550868034362793,
          0.27677977085113525,
          -2.1823225021362305,
          2.4931111335754395,
          0.6601651310920715,
          -0.9383783936500549,
          0.44859185814857483,
          1.9345248937606812,
          -3.7130110263824463,
          -0.26170673966407776,
          4.823623180389404,
          5.580957412719727,
          2.045523166656494,
          4.013473033905029,
          -3.902947425842285,
          3.62941312789917,
          3.8179409503936768,
          3.6878325939178467,
          3.842410087585449,
          3.9647178649902344,
          -3.6714344024658203,
          -2.0245156288146973,
          -6.717597007751465,
          -3.7222836017608643,
          0.6253147125244141,
          -0.35415390133857727,
          -0.3783422112464905,
          -2.968356132507324,
          -6.399345874786377,
          4.2896223068237305,
          3.4261844158172607,
          -4.909831523895264,
          -1.1698675155639648,
          -0.4626466631889343,
          3.5194876194000244,
          -0.06644080579280853,
          4.505805015563965,
          6.096639156341553,
          3.0092668533325195,
          -3.905231237411499,
          -6.244518756866455,
          -6.151800155639648,
          2.915668487548828,
          0.17829830944538116,
          -5.165123462677002,
          -3.6899380683898926,
          -5.101363182067871,
          -0.453349232673645,
          -6.210227966308594,
          -0.029239529743790627,
          3.3559749126434326,
          1.9003231525421143,
          1.3380515575408936,
          1.4273685216903687,
          -3.1880600452423096,
          -3.074847459793091,
          -3.405252456665039,
          1.556349515914917,
          0.7822926044464111,
          5.183433532714844,
          -0.027933716773986816,
          -0.5506543517112732,
          0.04453599080443382,
          -3.9902172088623047,
          -2.196744441986084,
          4.620646953582764,
          1.3778108358383179,
          -2.663710832595825,
          -0.7635405659675598,
          2.5692644119262695,
          -2.2681305408477783,
          -4.209142208099365,
          2.600857734680176,
          -1.8687307834625244,
          -3.7847821712493896,
          1.2760282754898071,
          -4.245355129241943,
          4.068909168243408,
          -4.506522178649902,
          3.756157875061035,
          -1.8725242614746094,
          0.555871844291687,
          -3.7992875576019287,
          3.596160411834717,
          5.137325286865234,
          0.38079166412353516,
          -6.725495338439941,
          4.035804271697998,
          2.415320873260498,
          -1.1258747577667236,
          -5.067541122436523,
          -0.26707860827445984,
          4.012184143066406,
          -1.0862411260604858,
          4.676785469055176,
          1.5465384721755981
         ]
        }
       ],
       "layout": {
        "coloraxis": {
         "colorbar": {
          "title": {
           "text": "cluster"
          }
         },
         "colorscale": [
          [
           0,
           "#0d0887"
          ],
          [
           0.1111111111111111,
           "#46039f"
          ],
          [
           0.2222222222222222,
           "#7201a8"
          ],
          [
           0.3333333333333333,
           "#9c179e"
          ],
          [
           0.4444444444444444,
           "#bd3786"
          ],
          [
           0.5555555555555556,
           "#d8576b"
          ],
          [
           0.6666666666666666,
           "#ed7953"
          ],
          [
           0.7777777777777778,
           "#fb9f3a"
          ],
          [
           0.8888888888888888,
           "#fdca26"
          ],
          [
           1,
           "#f0f921"
          ]
         ]
        },
        "legend": {
         "tracegroupgap": 0
        },
        "margin": {
         "t": 60
        },
        "scene": {
         "domain": {
          "x": [
           0,
           1
          ],
          "y": [
           0,
           1
          ]
         },
         "xaxis": {
          "title": {
           "text": "1"
          }
         },
         "yaxis": {
          "title": {
           "text": "2"
          }
         },
         "zaxis": {
          "title": {
           "text": "3"
          }
         }
        },
        "template": {
         "data": {
          "bar": [
           {
            "error_x": {
             "color": "#2a3f5f"
            },
            "error_y": {
             "color": "#2a3f5f"
            },
            "marker": {
             "line": {
              "color": "#E5ECF6",
              "width": 0.5
             },
             "pattern": {
              "fillmode": "overlay",
              "size": 10,
              "solidity": 0.2
             }
            },
            "type": "bar"
           }
          ],
          "barpolar": [
           {
            "marker": {
             "line": {
              "color": "#E5ECF6",
              "width": 0.5
             },
             "pattern": {
              "fillmode": "overlay",
              "size": 10,
              "solidity": 0.2
             }
            },
            "type": "barpolar"
           }
          ],
          "carpet": [
           {
            "aaxis": {
             "endlinecolor": "#2a3f5f",
             "gridcolor": "white",
             "linecolor": "white",
             "minorgridcolor": "white",
             "startlinecolor": "#2a3f5f"
            },
            "baxis": {
             "endlinecolor": "#2a3f5f",
             "gridcolor": "white",
             "linecolor": "white",
             "minorgridcolor": "white",
             "startlinecolor": "#2a3f5f"
            },
            "type": "carpet"
           }
          ],
          "choropleth": [
           {
            "colorbar": {
             "outlinewidth": 0,
             "ticks": ""
            },
            "type": "choropleth"
           }
          ],
          "contour": [
           {
            "colorbar": {
             "outlinewidth": 0,
             "ticks": ""
            },
            "colorscale": [
             [
              0,
              "#0d0887"
             ],
             [
              0.1111111111111111,
              "#46039f"
             ],
             [
              0.2222222222222222,
              "#7201a8"
             ],
             [
              0.3333333333333333,
              "#9c179e"
             ],
             [
              0.4444444444444444,
              "#bd3786"
             ],
             [
              0.5555555555555556,
              "#d8576b"
             ],
             [
              0.6666666666666666,
              "#ed7953"
             ],
             [
              0.7777777777777778,
              "#fb9f3a"
             ],
             [
              0.8888888888888888,
              "#fdca26"
             ],
             [
              1,
              "#f0f921"
             ]
            ],
            "type": "contour"
           }
          ],
          "contourcarpet": [
           {
            "colorbar": {
             "outlinewidth": 0,
             "ticks": ""
            },
            "type": "contourcarpet"
           }
          ],
          "heatmap": [
           {
            "colorbar": {
             "outlinewidth": 0,
             "ticks": ""
            },
            "colorscale": [
             [
              0,
              "#0d0887"
             ],
             [
              0.1111111111111111,
              "#46039f"
             ],
             [
              0.2222222222222222,
              "#7201a8"
             ],
             [
              0.3333333333333333,
              "#9c179e"
             ],
             [
              0.4444444444444444,
              "#bd3786"
             ],
             [
              0.5555555555555556,
              "#d8576b"
             ],
             [
              0.6666666666666666,
              "#ed7953"
             ],
             [
              0.7777777777777778,
              "#fb9f3a"
             ],
             [
              0.8888888888888888,
              "#fdca26"
             ],
             [
              1,
              "#f0f921"
             ]
            ],
            "type": "heatmap"
           }
          ],
          "heatmapgl": [
           {
            "colorbar": {
             "outlinewidth": 0,
             "ticks": ""
            },
            "colorscale": [
             [
              0,
              "#0d0887"
             ],
             [
              0.1111111111111111,
              "#46039f"
             ],
             [
              0.2222222222222222,
              "#7201a8"
             ],
             [
              0.3333333333333333,
              "#9c179e"
             ],
             [
              0.4444444444444444,
              "#bd3786"
             ],
             [
              0.5555555555555556,
              "#d8576b"
             ],
             [
              0.6666666666666666,
              "#ed7953"
             ],
             [
              0.7777777777777778,
              "#fb9f3a"
             ],
             [
              0.8888888888888888,
              "#fdca26"
             ],
             [
              1,
              "#f0f921"
             ]
            ],
            "type": "heatmapgl"
           }
          ],
          "histogram": [
           {
            "marker": {
             "pattern": {
              "fillmode": "overlay",
              "size": 10,
              "solidity": 0.2
             }
            },
            "type": "histogram"
           }
          ],
          "histogram2d": [
           {
            "colorbar": {
             "outlinewidth": 0,
             "ticks": ""
            },
            "colorscale": [
             [
              0,
              "#0d0887"
             ],
             [
              0.1111111111111111,
              "#46039f"
             ],
             [
              0.2222222222222222,
              "#7201a8"
             ],
             [
              0.3333333333333333,
              "#9c179e"
             ],
             [
              0.4444444444444444,
              "#bd3786"
             ],
             [
              0.5555555555555556,
              "#d8576b"
             ],
             [
              0.6666666666666666,
              "#ed7953"
             ],
             [
              0.7777777777777778,
              "#fb9f3a"
             ],
             [
              0.8888888888888888,
              "#fdca26"
             ],
             [
              1,
              "#f0f921"
             ]
            ],
            "type": "histogram2d"
           }
          ],
          "histogram2dcontour": [
           {
            "colorbar": {
             "outlinewidth": 0,
             "ticks": ""
            },
            "colorscale": [
             [
              0,
              "#0d0887"
             ],
             [
              0.1111111111111111,
              "#46039f"
             ],
             [
              0.2222222222222222,
              "#7201a8"
             ],
             [
              0.3333333333333333,
              "#9c179e"
             ],
             [
              0.4444444444444444,
              "#bd3786"
             ],
             [
              0.5555555555555556,
              "#d8576b"
             ],
             [
              0.6666666666666666,
              "#ed7953"
             ],
             [
              0.7777777777777778,
              "#fb9f3a"
             ],
             [
              0.8888888888888888,
              "#fdca26"
             ],
             [
              1,
              "#f0f921"
             ]
            ],
            "type": "histogram2dcontour"
           }
          ],
          "mesh3d": [
           {
            "colorbar": {
             "outlinewidth": 0,
             "ticks": ""
            },
            "type": "mesh3d"
           }
          ],
          "parcoords": [
           {
            "line": {
             "colorbar": {
              "outlinewidth": 0,
              "ticks": ""
             }
            },
            "type": "parcoords"
           }
          ],
          "pie": [
           {
            "automargin": true,
            "type": "pie"
           }
          ],
          "scatter": [
           {
            "fillpattern": {
             "fillmode": "overlay",
             "size": 10,
             "solidity": 0.2
            },
            "type": "scatter"
           }
          ],
          "scatter3d": [
           {
            "line": {
             "colorbar": {
              "outlinewidth": 0,
              "ticks": ""
             }
            },
            "marker": {
             "colorbar": {
              "outlinewidth": 0,
              "ticks": ""
             }
            },
            "type": "scatter3d"
           }
          ],
          "scattercarpet": [
           {
            "marker": {
             "colorbar": {
              "outlinewidth": 0,
              "ticks": ""
             }
            },
            "type": "scattercarpet"
           }
          ],
          "scattergeo": [
           {
            "marker": {
             "colorbar": {
              "outlinewidth": 0,
              "ticks": ""
             }
            },
            "type": "scattergeo"
           }
          ],
          "scattergl": [
           {
            "marker": {
             "colorbar": {
              "outlinewidth": 0,
              "ticks": ""
             }
            },
            "type": "scattergl"
           }
          ],
          "scattermapbox": [
           {
            "marker": {
             "colorbar": {
              "outlinewidth": 0,
              "ticks": ""
             }
            },
            "type": "scattermapbox"
           }
          ],
          "scatterpolar": [
           {
            "marker": {
             "colorbar": {
              "outlinewidth": 0,
              "ticks": ""
             }
            },
            "type": "scatterpolar"
           }
          ],
          "scatterpolargl": [
           {
            "marker": {
             "colorbar": {
              "outlinewidth": 0,
              "ticks": ""
             }
            },
            "type": "scatterpolargl"
           }
          ],
          "scatterternary": [
           {
            "marker": {
             "colorbar": {
              "outlinewidth": 0,
              "ticks": ""
             }
            },
            "type": "scatterternary"
           }
          ],
          "surface": [
           {
            "colorbar": {
             "outlinewidth": 0,
             "ticks": ""
            },
            "colorscale": [
             [
              0,
              "#0d0887"
             ],
             [
              0.1111111111111111,
              "#46039f"
             ],
             [
              0.2222222222222222,
              "#7201a8"
             ],
             [
              0.3333333333333333,
              "#9c179e"
             ],
             [
              0.4444444444444444,
              "#bd3786"
             ],
             [
              0.5555555555555556,
              "#d8576b"
             ],
             [
              0.6666666666666666,
              "#ed7953"
             ],
             [
              0.7777777777777778,
              "#fb9f3a"
             ],
             [
              0.8888888888888888,
              "#fdca26"
             ],
             [
              1,
              "#f0f921"
             ]
            ],
            "type": "surface"
           }
          ],
          "table": [
           {
            "cells": {
             "fill": {
              "color": "#EBF0F8"
             },
             "line": {
              "color": "white"
             }
            },
            "header": {
             "fill": {
              "color": "#C8D4E3"
             },
             "line": {
              "color": "white"
             }
            },
            "type": "table"
           }
          ]
         },
         "layout": {
          "annotationdefaults": {
           "arrowcolor": "#2a3f5f",
           "arrowhead": 0,
           "arrowwidth": 1
          },
          "autotypenumbers": "strict",
          "coloraxis": {
           "colorbar": {
            "outlinewidth": 0,
            "ticks": ""
           }
          },
          "colorscale": {
           "diverging": [
            [
             0,
             "#8e0152"
            ],
            [
             0.1,
             "#c51b7d"
            ],
            [
             0.2,
             "#de77ae"
            ],
            [
             0.3,
             "#f1b6da"
            ],
            [
             0.4,
             "#fde0ef"
            ],
            [
             0.5,
             "#f7f7f7"
            ],
            [
             0.6,
             "#e6f5d0"
            ],
            [
             0.7,
             "#b8e186"
            ],
            [
             0.8,
             "#7fbc41"
            ],
            [
             0.9,
             "#4d9221"
            ],
            [
             1,
             "#276419"
            ]
           ],
           "sequential": [
            [
             0,
             "#0d0887"
            ],
            [
             0.1111111111111111,
             "#46039f"
            ],
            [
             0.2222222222222222,
             "#7201a8"
            ],
            [
             0.3333333333333333,
             "#9c179e"
            ],
            [
             0.4444444444444444,
             "#bd3786"
            ],
            [
             0.5555555555555556,
             "#d8576b"
            ],
            [
             0.6666666666666666,
             "#ed7953"
            ],
            [
             0.7777777777777778,
             "#fb9f3a"
            ],
            [
             0.8888888888888888,
             "#fdca26"
            ],
            [
             1,
             "#f0f921"
            ]
           ],
           "sequentialminus": [
            [
             0,
             "#0d0887"
            ],
            [
             0.1111111111111111,
             "#46039f"
            ],
            [
             0.2222222222222222,
             "#7201a8"
            ],
            [
             0.3333333333333333,
             "#9c179e"
            ],
            [
             0.4444444444444444,
             "#bd3786"
            ],
            [
             0.5555555555555556,
             "#d8576b"
            ],
            [
             0.6666666666666666,
             "#ed7953"
            ],
            [
             0.7777777777777778,
             "#fb9f3a"
            ],
            [
             0.8888888888888888,
             "#fdca26"
            ],
            [
             1,
             "#f0f921"
            ]
           ]
          },
          "colorway": [
           "#636efa",
           "#EF553B",
           "#00cc96",
           "#ab63fa",
           "#FFA15A",
           "#19d3f3",
           "#FF6692",
           "#B6E880",
           "#FF97FF",
           "#FECB52"
          ],
          "font": {
           "color": "#2a3f5f"
          },
          "geo": {
           "bgcolor": "white",
           "lakecolor": "white",
           "landcolor": "#E5ECF6",
           "showlakes": true,
           "showland": true,
           "subunitcolor": "white"
          },
          "hoverlabel": {
           "align": "left"
          },
          "hovermode": "closest",
          "mapbox": {
           "style": "light"
          },
          "paper_bgcolor": "white",
          "plot_bgcolor": "#E5ECF6",
          "polar": {
           "angularaxis": {
            "gridcolor": "white",
            "linecolor": "white",
            "ticks": ""
           },
           "bgcolor": "#E5ECF6",
           "radialaxis": {
            "gridcolor": "white",
            "linecolor": "white",
            "ticks": ""
           }
          },
          "scene": {
           "xaxis": {
            "backgroundcolor": "#E5ECF6",
            "gridcolor": "white",
            "gridwidth": 2,
            "linecolor": "white",
            "showbackground": true,
            "ticks": "",
            "zerolinecolor": "white"
           },
           "yaxis": {
            "backgroundcolor": "#E5ECF6",
            "gridcolor": "white",
            "gridwidth": 2,
            "linecolor": "white",
            "showbackground": true,
            "ticks": "",
            "zerolinecolor": "white"
           },
           "zaxis": {
            "backgroundcolor": "#E5ECF6",
            "gridcolor": "white",
            "gridwidth": 2,
            "linecolor": "white",
            "showbackground": true,
            "ticks": "",
            "zerolinecolor": "white"
           }
          },
          "shapedefaults": {
           "line": {
            "color": "#2a3f5f"
           }
          },
          "ternary": {
           "aaxis": {
            "gridcolor": "white",
            "linecolor": "white",
            "ticks": ""
           },
           "baxis": {
            "gridcolor": "white",
            "linecolor": "white",
            "ticks": ""
           },
           "bgcolor": "#E5ECF6",
           "caxis": {
            "gridcolor": "white",
            "linecolor": "white",
            "ticks": ""
           }
          },
          "title": {
           "x": 0.05
          },
          "xaxis": {
           "automargin": true,
           "gridcolor": "white",
           "linecolor": "white",
           "ticks": "",
           "title": {
            "standoff": 15
           },
           "zerolinecolor": "white",
           "zerolinewidth": 2
          },
          "yaxis": {
           "automargin": true,
           "gridcolor": "white",
           "linecolor": "white",
           "ticks": "",
           "title": {
            "standoff": 15
           },
           "zerolinecolor": "white",
           "zerolinewidth": 2
          }
         }
        }
       }
      }
     },
     "metadata": {},
     "output_type": "display_data"
    }
   ],
   "source": [
    "# just a sample of 200 users, all of them are just a big blob\n",
    "fig = px.scatter_3d(user_embedded_df.sample(200), x='1', y='2', z='3', color='cluster')\n",
    "fig.show()"
   ]
  },
  {
   "cell_type": "markdown",
   "metadata": {},
   "source": [
    "### Cluster Breakdown by Aisle"
   ]
  },
  {
   "cell_type": "code",
   "execution_count": 180,
   "metadata": {},
   "outputs": [],
   "source": [
    "# Create a way to compare clusters.  Find if they have max or min values for any features.\n",
    "\n",
    "cluster_metrics = {}\n",
    "for cluster in cluster_data.index:\n",
    "    cluster_list = [grouped_users.cluster.value_counts()[cluster]]\n",
    "    for col in cluster_data.columns:\n",
    "        if (cluster_data.loc[:,col].max() > 0) & (cluster_data.loc[:,col].idxmax() == cluster):\n",
    "            cluster_list.append(('max ' + col, cluster_data.loc[cluster,col]))\n",
    "        if (cluster_data.loc[:,col].min() > 0) & (cluster_data.loc[:,col].idxmin() == cluster):\n",
    "                cluster_list.append(('min ' + col, cluster_data.loc[cluster,col]))\n",
    "    cluster_metrics[cluster] = cluster_list"
   ]
  },
  {
   "cell_type": "code",
   "execution_count": 181,
   "metadata": {
    "scrolled": true
   },
   "outputs": [
    {
     "name": "stdout",
     "output_type": "stream",
     "text": [
      "[304, ('max aisle_soy lactosefree', 1.0)]\n",
      "[28, ('max aisle_bulk dried fruits vegetables', 1.0)]\n",
      "[2, ('max aisle_chips pretzels', 0.5), ('max aisle_ice cream toppings', 1.0), ('max aisle_laundry', 0.5), ('max aisle_water seltzer sparkling water', 0.5)]\n",
      "[1, ('max num_orders', 41.0), ('max num_products', 11.0), ('max mode_order_dow', 6.0), ('max aisle_dish detergents', 2.0), ('max aisle_latino foods', 1.0), ('max aisle_packaged cheese', 1.0), ('max aisle_paper goods', 3.0), ('max aisle_refrigerated pudding desserts', 4.0)]\n",
      "[2, ('max aisle_beauty', 1.0), ('max aisle_refrigerated', 0.5), ('max aisle_soap', 1.0)]\n"
     ]
    }
   ],
   "source": [
    "# Clusters 5, 11, 12, 14, and 17 looked very separate from the rest on the graph.\n",
    "\n",
    "print(cluster_metrics[5]) # Lots of personal care / pharmacy type products\n",
    "print(cluster_metrics[11]) # Soap and skin care\n",
    "print(cluster_metrics[12]) # Very large cluster, with fewest number of orders and highest days between orders\n",
    "print(cluster_metrics[14]) # Tons of veggies, herb, and spices\n",
    "print(cluster_metrics[17]) # Bulk dried fruits and veggies"
   ]
  },
  {
   "cell_type": "code",
   "execution_count": 182,
   "metadata": {
    "scrolled": false
   },
   "outputs": [
    {
     "name": "stdout",
     "output_type": "stream",
     "text": [
      "[100, ('max aisle_frozen produce', 1.0)]\n",
      "[3, ('max aisle_spirits', 1.0)]\n",
      "[1, ('min num_orders', 5.0), ('max mean_days_since', 30.0), ('max aisle_fresh vegetables', 1.0), ('max aisle_lunch meat', 1.0), ('max aisle_nuts seeds dried fruit', 1.0), ('max aisle_seafood counter', 1.0)]\n",
      "[3, ('min median_order_hour', 8.0), ('max aisle_first aid', 1.0)]\n",
      "[47, ('max aisle_oils vinegars', 1.0)]\n",
      "[3, ('max aisle_frozen meat seafood', 1.0)]\n"
     ]
    }
   ],
   "source": [
    "#Other interesting clusters\n",
    "\n",
    "print(cluster_metrics[7]) # Baby products\n",
    "print(cluster_metrics[8]) # Lots of orders, shortest days between, big buyers\n",
    "print(cluster_metrics[9]) # Alcohol purchasers\n",
    "print(cluster_metrics[13]) # Household, laundry, cleaning products\n",
    "print(cluster_metrics[15]) # Chocolate, gum and soft drinks, least veggies\n",
    "print(cluster_metrics[16]) # Vegan and tofu"
   ]
  },
  {
   "cell_type": "code",
   "execution_count": 183,
   "metadata": {
    "scrolled": false
   },
   "outputs": [
    {
     "data": {
      "image/png": "[encoded data removed]",
      "text/plain": [
       "<Figure size 1500x1000 with 2 Axes>"
      ]
     },
     "metadata": {},
     "output_type": "display_data"
    }
   ],
   "source": [
    "# Make a heatmap of clusters and aisles\n",
    "# Scale the data first to make it more meaningful\n",
    "from sklearn.preprocessing import MinMaxScaler\n",
    "scaler=MinMaxScaler()\n",
    "graph_data = scaler.fit_transform(cluster_data)\n",
    "graph_df=pd.DataFrame(graph_data, columns = cluster_data.columns)\n",
    "fig = plt.figure(figsize=(15,10))\n",
    "heat_map = sns.heatmap(graph_df, cmap=\"YlGnBu\")\n",
    "plt.savefig('Images/cluster_heatmap.png')"
   ]
  },
  {
   "cell_type": "code",
   "execution_count": 184,
   "metadata": {},
   "outputs": [],
   "source": [
    "# Can I write a function to predict what cluster someone will belong in?\n",
    "# They would have to give me a shopping list... no even then some clusters may be based on order frequency rather than item.\n",
    "# Or rather, if they give me an item, can I ouput \"Others who bought this item also bought...\"\n",
    "# That we will get from the recommendation system below I think"
   ]
  },
  {
   "cell_type": "markdown",
   "metadata": {},
   "source": [
    "### Cluster Buying Power"
   ]
  },
  {
   "cell_type": "code",
   "execution_count": 185,
   "metadata": {},
   "outputs": [],
   "source": [
    "# Add up all of the products for each person\n",
    "\n",
    "grouped_users['num_products'] = grouped_users[grouped_users.columns[4:-1]].sum(axis=1)"
   ]
  },
  {
   "cell_type": "code",
   "execution_count": 186,
   "metadata": {},
   "outputs": [],
   "source": [
    "# This will be used to count how many users are in each cluster when I do the groupby\n",
    "grouped_users['user_count'] = list(np.ones(len(grouped_users)))"
   ]
  },
  {
   "cell_type": "code",
   "execution_count": 187,
   "metadata": {},
   "outputs": [
    {
     "data": {
      "text/html": [
       "<div>\n",
       "<style scoped>\n",
       "    .dataframe tbody tr th:only-of-type {\n",
       "        vertical-align: middle;\n",
       "    }\n",
       "\n",
       "    .dataframe tbody tr th {\n",
       "        vertical-align: top;\n",
       "    }\n",
       "\n",
       "    .dataframe thead th {\n",
       "        text-align: right;\n",
       "    }\n",
       "</style>\n",
       "<table border=\"1\" class=\"dataframe\">\n",
       "  <thead>\n",
       "    <tr style=\"text-align: right;\">\n",
       "      <th></th>\n",
       "      <th>num_orders</th>\n",
       "      <th>num_products</th>\n",
       "      <th>user_count</th>\n",
       "      <th>cluster</th>\n",
       "      <th>mode_order_dow</th>\n",
       "      <th>median_order_hour</th>\n",
       "      <th>mean_days_since</th>\n",
       "      <th>aisle_air fresheners candles</th>\n",
       "      <th>aisle_asian foods</th>\n",
       "      <th>aisle_baby accessories</th>\n",
       "      <th>...</th>\n",
       "      <th>aisle_spreads</th>\n",
       "      <th>aisle_tea</th>\n",
       "      <th>aisle_tofu meat alternatives</th>\n",
       "      <th>aisle_tortillas flat bread</th>\n",
       "      <th>aisle_trail mix snack mix</th>\n",
       "      <th>aisle_trash bags liners</th>\n",
       "      <th>aisle_vitamins supplements</th>\n",
       "      <th>aisle_water seltzer sparkling water</th>\n",
       "      <th>aisle_white wines</th>\n",
       "      <th>aisle_yogurt</th>\n",
       "    </tr>\n",
       "    <tr>\n",
       "      <th>user_id</th>\n",
       "      <th></th>\n",
       "      <th></th>\n",
       "      <th></th>\n",
       "      <th></th>\n",
       "      <th></th>\n",
       "      <th></th>\n",
       "      <th></th>\n",
       "      <th></th>\n",
       "      <th></th>\n",
       "      <th></th>\n",
       "      <th></th>\n",
       "      <th></th>\n",
       "      <th></th>\n",
       "      <th></th>\n",
       "      <th></th>\n",
       "      <th></th>\n",
       "      <th></th>\n",
       "      <th></th>\n",
       "      <th></th>\n",
       "      <th></th>\n",
       "      <th></th>\n",
       "    </tr>\n",
       "  </thead>\n",
       "  <tbody>\n",
       "    <tr>\n",
       "      <th>7</th>\n",
       "      <td>17</td>\n",
       "      <td>40.0</td>\n",
       "      <td>1.0</td>\n",
       "      <td>0</td>\n",
       "      <td>0</td>\n",
       "      <td>10.0</td>\n",
       "      <td>28.0</td>\n",
       "      <td>0</td>\n",
       "      <td>0</td>\n",
       "      <td>0</td>\n",
       "      <td>...</td>\n",
       "      <td>0</td>\n",
       "      <td>0</td>\n",
       "      <td>0</td>\n",
       "      <td>0</td>\n",
       "      <td>0</td>\n",
       "      <td>0</td>\n",
       "      <td>0</td>\n",
       "      <td>0</td>\n",
       "      <td>0</td>\n",
       "      <td>0</td>\n",
       "    </tr>\n",
       "    <tr>\n",
       "      <th>23</th>\n",
       "      <td>2</td>\n",
       "      <td>21.0</td>\n",
       "      <td>1.0</td>\n",
       "      <td>5</td>\n",
       "      <td>0</td>\n",
       "      <td>10.0</td>\n",
       "      <td>9.0</td>\n",
       "      <td>0</td>\n",
       "      <td>0</td>\n",
       "      <td>0</td>\n",
       "      <td>...</td>\n",
       "      <td>0</td>\n",
       "      <td>0</td>\n",
       "      <td>0</td>\n",
       "      <td>0</td>\n",
       "      <td>0</td>\n",
       "      <td>0</td>\n",
       "      <td>0</td>\n",
       "      <td>1</td>\n",
       "      <td>0</td>\n",
       "      <td>1</td>\n",
       "    </tr>\n",
       "    <tr>\n",
       "      <th>27</th>\n",
       "      <td>63</td>\n",
       "      <td>15.0</td>\n",
       "      <td>1.0</td>\n",
       "      <td>6</td>\n",
       "      <td>3</td>\n",
       "      <td>10.0</td>\n",
       "      <td>1.0</td>\n",
       "      <td>0</td>\n",
       "      <td>0</td>\n",
       "      <td>0</td>\n",
       "      <td>...</td>\n",
       "      <td>0</td>\n",
       "      <td>0</td>\n",
       "      <td>0</td>\n",
       "      <td>0</td>\n",
       "      <td>0</td>\n",
       "      <td>0</td>\n",
       "      <td>0</td>\n",
       "      <td>0</td>\n",
       "      <td>0</td>\n",
       "      <td>0</td>\n",
       "    </tr>\n",
       "    <tr>\n",
       "      <th>36</th>\n",
       "      <td>10</td>\n",
       "      <td>21.0</td>\n",
       "      <td>1.0</td>\n",
       "      <td>1</td>\n",
       "      <td>1</td>\n",
       "      <td>18.0</td>\n",
       "      <td>1.0</td>\n",
       "      <td>0</td>\n",
       "      <td>0</td>\n",
       "      <td>0</td>\n",
       "      <td>...</td>\n",
       "      <td>0</td>\n",
       "      <td>0</td>\n",
       "      <td>0</td>\n",
       "      <td>0</td>\n",
       "      <td>0</td>\n",
       "      <td>0</td>\n",
       "      <td>0</td>\n",
       "      <td>0</td>\n",
       "      <td>0</td>\n",
       "      <td>0</td>\n",
       "    </tr>\n",
       "    <tr>\n",
       "      <th>42</th>\n",
       "      <td>3</td>\n",
       "      <td>28.0</td>\n",
       "      <td>1.0</td>\n",
       "      <td>0</td>\n",
       "      <td>1</td>\n",
       "      <td>19.0</td>\n",
       "      <td>7.0</td>\n",
       "      <td>0</td>\n",
       "      <td>0</td>\n",
       "      <td>0</td>\n",
       "      <td>...</td>\n",
       "      <td>0</td>\n",
       "      <td>0</td>\n",
       "      <td>0</td>\n",
       "      <td>0</td>\n",
       "      <td>0</td>\n",
       "      <td>0</td>\n",
       "      <td>0</td>\n",
       "      <td>0</td>\n",
       "      <td>0</td>\n",
       "      <td>0</td>\n",
       "    </tr>\n",
       "    <tr>\n",
       "      <th>...</th>\n",
       "      <td>...</td>\n",
       "      <td>...</td>\n",
       "      <td>...</td>\n",
       "      <td>...</td>\n",
       "      <td>...</td>\n",
       "      <td>...</td>\n",
       "      <td>...</td>\n",
       "      <td>...</td>\n",
       "      <td>...</td>\n",
       "      <td>...</td>\n",
       "      <td>...</td>\n",
       "      <td>...</td>\n",
       "      <td>...</td>\n",
       "      <td>...</td>\n",
       "      <td>...</td>\n",
       "      <td>...</td>\n",
       "      <td>...</td>\n",
       "      <td>...</td>\n",
       "      <td>...</td>\n",
       "      <td>...</td>\n",
       "      <td>...</td>\n",
       "    </tr>\n",
       "    <tr>\n",
       "      <th>20571</th>\n",
       "      <td>24</td>\n",
       "      <td>29.0</td>\n",
       "      <td>1.0</td>\n",
       "      <td>0</td>\n",
       "      <td>0</td>\n",
       "      <td>13.0</td>\n",
       "      <td>15.0</td>\n",
       "      <td>0</td>\n",
       "      <td>0</td>\n",
       "      <td>0</td>\n",
       "      <td>...</td>\n",
       "      <td>0</td>\n",
       "      <td>0</td>\n",
       "      <td>0</td>\n",
       "      <td>0</td>\n",
       "      <td>0</td>\n",
       "      <td>0</td>\n",
       "      <td>0</td>\n",
       "      <td>0</td>\n",
       "      <td>0</td>\n",
       "      <td>0</td>\n",
       "    </tr>\n",
       "    <tr>\n",
       "      <th>20587</th>\n",
       "      <td>7</td>\n",
       "      <td>51.0</td>\n",
       "      <td>1.0</td>\n",
       "      <td>0</td>\n",
       "      <td>0</td>\n",
       "      <td>20.0</td>\n",
       "      <td>30.0</td>\n",
       "      <td>0</td>\n",
       "      <td>0</td>\n",
       "      <td>0</td>\n",
       "      <td>...</td>\n",
       "      <td>0</td>\n",
       "      <td>0</td>\n",
       "      <td>0</td>\n",
       "      <td>0</td>\n",
       "      <td>0</td>\n",
       "      <td>0</td>\n",
       "      <td>0</td>\n",
       "      <td>0</td>\n",
       "      <td>0</td>\n",
       "      <td>0</td>\n",
       "    </tr>\n",
       "    <tr>\n",
       "      <th>20591</th>\n",
       "      <td>22</td>\n",
       "      <td>26.0</td>\n",
       "      <td>1.0</td>\n",
       "      <td>7</td>\n",
       "      <td>6</td>\n",
       "      <td>7.0</td>\n",
       "      <td>7.0</td>\n",
       "      <td>0</td>\n",
       "      <td>0</td>\n",
       "      <td>0</td>\n",
       "      <td>...</td>\n",
       "      <td>0</td>\n",
       "      <td>0</td>\n",
       "      <td>0</td>\n",
       "      <td>0</td>\n",
       "      <td>0</td>\n",
       "      <td>0</td>\n",
       "      <td>0</td>\n",
       "      <td>0</td>\n",
       "      <td>0</td>\n",
       "      <td>0</td>\n",
       "    </tr>\n",
       "    <tr>\n",
       "      <th>20602</th>\n",
       "      <td>7</td>\n",
       "      <td>25.0</td>\n",
       "      <td>1.0</td>\n",
       "      <td>0</td>\n",
       "      <td>2</td>\n",
       "      <td>9.0</td>\n",
       "      <td>13.0</td>\n",
       "      <td>0</td>\n",
       "      <td>0</td>\n",
       "      <td>0</td>\n",
       "      <td>...</td>\n",
       "      <td>0</td>\n",
       "      <td>0</td>\n",
       "      <td>0</td>\n",
       "      <td>0</td>\n",
       "      <td>0</td>\n",
       "      <td>0</td>\n",
       "      <td>0</td>\n",
       "      <td>0</td>\n",
       "      <td>0</td>\n",
       "      <td>0</td>\n",
       "    </tr>\n",
       "    <tr>\n",
       "      <th>20617</th>\n",
       "      <td>29</td>\n",
       "      <td>33.0</td>\n",
       "      <td>1.0</td>\n",
       "      <td>6</td>\n",
       "      <td>3</td>\n",
       "      <td>13.0</td>\n",
       "      <td>15.0</td>\n",
       "      <td>0</td>\n",
       "      <td>0</td>\n",
       "      <td>0</td>\n",
       "      <td>...</td>\n",
       "      <td>0</td>\n",
       "      <td>0</td>\n",
       "      <td>0</td>\n",
       "      <td>0</td>\n",
       "      <td>0</td>\n",
       "      <td>0</td>\n",
       "      <td>0</td>\n",
       "      <td>0</td>\n",
       "      <td>0</td>\n",
       "      <td>0</td>\n",
       "    </tr>\n",
       "  </tbody>\n",
       "</table>\n",
       "<p>3373 rows \u00d7 138 columns</p>\n",
       "</div>"
      ],
      "text/plain": [
       "         num_orders  num_products  user_count  cluster  mode_order_dow  \\\n",
       "user_id                                                                  \n",
       "7                17          40.0         1.0        0               0   \n",
       "23                2          21.0         1.0        5               0   \n",
       "27               63          15.0         1.0        6               3   \n",
       "36               10          21.0         1.0        1               1   \n",
       "42                3          28.0         1.0        0               1   \n",
       "...             ...           ...         ...      ...             ...   \n",
       "20571            24          29.0         1.0        0               0   \n",
       "20587             7          51.0         1.0        0               0   \n",
       "20591            22          26.0         1.0        7               6   \n",
       "20602             7          25.0         1.0        0               2   \n",
       "20617            29          33.0         1.0        6               3   \n",
       "\n",
       "         median_order_hour  mean_days_since  aisle_air fresheners candles  \\\n",
       "user_id                                                                     \n",
       "7                     10.0             28.0                             0   \n",
       "23                    10.0              9.0                             0   \n",
       "27                    10.0              1.0                             0   \n",
       "36                    18.0              1.0                             0   \n",
       "42                    19.0              7.0                             0   \n",
       "...                    ...              ...                           ...   \n",
       "20571                 13.0             15.0                             0   \n",
       "20587                 20.0             30.0                             0   \n",
       "20591                  7.0              7.0                             0   \n",
       "20602                  9.0             13.0                             0   \n",
       "20617                 13.0             15.0                             0   \n",
       "\n",
       "         aisle_asian foods  aisle_baby accessories  ...  aisle_spreads  \\\n",
       "user_id                                             ...                  \n",
       "7                        0                       0  ...              0   \n",
       "23                       0                       0  ...              0   \n",
       "27                       0                       0  ...              0   \n",
       "36                       0                       0  ...              0   \n",
       "42                       0                       0  ...              0   \n",
       "...                    ...                     ...  ...            ...   \n",
       "20571                    0                       0  ...              0   \n",
       "20587                    0                       0  ...              0   \n",
       "20591                    0                       0  ...              0   \n",
       "20602                    0                       0  ...              0   \n",
       "20617                    0                       0  ...              0   \n",
       "\n",
       "         aisle_tea  aisle_tofu meat alternatives  aisle_tortillas flat bread  \\\n",
       "user_id                                                                        \n",
       "7                0                             0                           0   \n",
       "23               0                             0                           0   \n",
       "27               0                             0                           0   \n",
       "36               0                             0                           0   \n",
       "42               0                             0                           0   \n",
       "...            ...                           ...                         ...   \n",
       "20571            0                             0                           0   \n",
       "20587            0                             0                           0   \n",
       "20591            0                             0                           0   \n",
       "20602            0                             0                           0   \n",
       "20617            0                             0                           0   \n",
       "\n",
       "         aisle_trail mix snack mix  aisle_trash bags liners  \\\n",
       "user_id                                                       \n",
       "7                                0                        0   \n",
       "23                               0                        0   \n",
       "27                               0                        0   \n",
       "36                               0                        0   \n",
       "42                               0                        0   \n",
       "...                            ...                      ...   \n",
       "20571                            0                        0   \n",
       "20587                            0                        0   \n",
       "20591                            0                        0   \n",
       "20602                            0                        0   \n",
       "20617                            0                        0   \n",
       "\n",
       "         aisle_vitamins supplements  aisle_water seltzer sparkling water  \\\n",
       "user_id                                                                    \n",
       "7                                 0                                    0   \n",
       "23                                0                                    1   \n",
       "27                                0                                    0   \n",
       "36                                0                                    0   \n",
       "42                                0                                    0   \n",
       "...                             ...                                  ...   \n",
       "20571                             0                                    0   \n",
       "20587                             0                                    0   \n",
       "20591                             0                                    0   \n",
       "20602                             0                                    0   \n",
       "20617                             0                                    0   \n",
       "\n",
       "         aisle_white wines  aisle_yogurt  \n",
       "user_id                                   \n",
       "7                        0             0  \n",
       "23                       0             1  \n",
       "27                       0             0  \n",
       "36                       0             0  \n",
       "42                       0             0  \n",
       "...                    ...           ...  \n",
       "20571                    0             0  \n",
       "20587                    0             0  \n",
       "20591                    0             0  \n",
       "20602                    0             0  \n",
       "20617                    0             0  \n",
       "\n",
       "[3373 rows x 138 columns]"
      ]
     },
     "execution_count": 187,
     "metadata": {},
     "output_type": "execute_result"
    }
   ],
   "source": [
    "grouped_users = movecol(grouped_users, \n",
    "                        cols_to_move=['num_products', 'user_count', 'cluster'], \n",
    "                        ref_col='mode_order_dow', \n",
    "                        place='Before')\n",
    "grouped_users"
   ]
  },
  {
   "cell_type": "code",
   "execution_count": 188,
   "metadata": {},
   "outputs": [
    {
     "data": {
      "text/html": [
       "<div>\n",
       "<style scoped>\n",
       "    .dataframe tbody tr th:only-of-type {\n",
       "        vertical-align: middle;\n",
       "    }\n",
       "\n",
       "    .dataframe tbody tr th {\n",
       "        vertical-align: top;\n",
       "    }\n",
       "\n",
       "    .dataframe thead th {\n",
       "        text-align: right;\n",
       "    }\n",
       "</style>\n",
       "<table border=\"1\" class=\"dataframe\">\n",
       "  <thead>\n",
       "    <tr style=\"text-align: right;\">\n",
       "      <th></th>\n",
       "      <th>num_orders</th>\n",
       "      <th>num_products</th>\n",
       "      <th>user_count</th>\n",
       "      <th>mode_order_dow</th>\n",
       "      <th>median_order_hour</th>\n",
       "      <th>mean_days_since</th>\n",
       "      <th>aisle_air fresheners candles</th>\n",
       "      <th>aisle_asian foods</th>\n",
       "      <th>aisle_baby accessories</th>\n",
       "      <th>aisle_baby bath body care</th>\n",
       "      <th>...</th>\n",
       "      <th>aisle_spreads</th>\n",
       "      <th>aisle_tea</th>\n",
       "      <th>aisle_tofu meat alternatives</th>\n",
       "      <th>aisle_tortillas flat bread</th>\n",
       "      <th>aisle_trail mix snack mix</th>\n",
       "      <th>aisle_trash bags liners</th>\n",
       "      <th>aisle_vitamins supplements</th>\n",
       "      <th>aisle_water seltzer sparkling water</th>\n",
       "      <th>aisle_white wines</th>\n",
       "      <th>aisle_yogurt</th>\n",
       "    </tr>\n",
       "    <tr>\n",
       "      <th>cluster</th>\n",
       "      <th></th>\n",
       "      <th></th>\n",
       "      <th></th>\n",
       "      <th></th>\n",
       "      <th></th>\n",
       "      <th></th>\n",
       "      <th></th>\n",
       "      <th></th>\n",
       "      <th></th>\n",
       "      <th></th>\n",
       "      <th></th>\n",
       "      <th></th>\n",
       "      <th></th>\n",
       "      <th></th>\n",
       "      <th></th>\n",
       "      <th></th>\n",
       "      <th></th>\n",
       "      <th></th>\n",
       "      <th></th>\n",
       "      <th></th>\n",
       "      <th></th>\n",
       "    </tr>\n",
       "  </thead>\n",
       "  <tbody>\n",
       "    <tr>\n",
       "      <th>0</th>\n",
       "      <td>18619</td>\n",
       "      <td>65702.814780</td>\n",
       "      <td>1924.0</td>\n",
       "      <td>4987</td>\n",
       "      <td>26076.0</td>\n",
       "      <td>31428.814780</td>\n",
       "      <td>4</td>\n",
       "      <td>34</td>\n",
       "      <td>1</td>\n",
       "      <td>0</td>\n",
       "      <td>...</td>\n",
       "      <td>44</td>\n",
       "      <td>37</td>\n",
       "      <td>12</td>\n",
       "      <td>17</td>\n",
       "      <td>0</td>\n",
       "      <td>1</td>\n",
       "      <td>8</td>\n",
       "      <td>114</td>\n",
       "      <td>21</td>\n",
       "      <td>0</td>\n",
       "    </tr>\n",
       "    <tr>\n",
       "      <th>1</th>\n",
       "      <td>997</td>\n",
       "      <td>1402.215865</td>\n",
       "      <td>45.0</td>\n",
       "      <td>117</td>\n",
       "      <td>632.5</td>\n",
       "      <td>508.715865</td>\n",
       "      <td>0</td>\n",
       "      <td>3</td>\n",
       "      <td>0</td>\n",
       "      <td>0</td>\n",
       "      <td>...</td>\n",
       "      <td>2</td>\n",
       "      <td>3</td>\n",
       "      <td>1</td>\n",
       "      <td>0</td>\n",
       "      <td>0</td>\n",
       "      <td>0</td>\n",
       "      <td>0</td>\n",
       "      <td>5</td>\n",
       "      <td>2</td>\n",
       "      <td>4</td>\n",
       "    </tr>\n",
       "    <tr>\n",
       "      <th>2</th>\n",
       "      <td>312</td>\n",
       "      <td>444.283131</td>\n",
       "      <td>14.0</td>\n",
       "      <td>33</td>\n",
       "      <td>193.0</td>\n",
       "      <td>176.283131</td>\n",
       "      <td>0</td>\n",
       "      <td>0</td>\n",
       "      <td>0</td>\n",
       "      <td>0</td>\n",
       "      <td>...</td>\n",
       "      <td>3</td>\n",
       "      <td>1</td>\n",
       "      <td>0</td>\n",
       "      <td>0</td>\n",
       "      <td>0</td>\n",
       "      <td>0</td>\n",
       "      <td>2</td>\n",
       "      <td>1</td>\n",
       "      <td>0</td>\n",
       "      <td>0</td>\n",
       "    </tr>\n",
       "    <tr>\n",
       "      <th>3</th>\n",
       "      <td>1221</td>\n",
       "      <td>1878.698996</td>\n",
       "      <td>61.0</td>\n",
       "      <td>151</td>\n",
       "      <td>821.5</td>\n",
       "      <td>751.198996</td>\n",
       "      <td>0</td>\n",
       "      <td>1</td>\n",
       "      <td>0</td>\n",
       "      <td>0</td>\n",
       "      <td>...</td>\n",
       "      <td>1</td>\n",
       "      <td>1</td>\n",
       "      <td>1</td>\n",
       "      <td>0</td>\n",
       "      <td>0</td>\n",
       "      <td>0</td>\n",
       "      <td>0</td>\n",
       "      <td>0</td>\n",
       "      <td>0</td>\n",
       "      <td>7</td>\n",
       "    </tr>\n",
       "    <tr>\n",
       "      <th>4</th>\n",
       "      <td>1815</td>\n",
       "      <td>3326.643635</td>\n",
       "      <td>105.0</td>\n",
       "      <td>282</td>\n",
       "      <td>1326.0</td>\n",
       "      <td>1497.643635</td>\n",
       "      <td>0</td>\n",
       "      <td>0</td>\n",
       "      <td>0</td>\n",
       "      <td>0</td>\n",
       "      <td>...</td>\n",
       "      <td>3</td>\n",
       "      <td>4</td>\n",
       "      <td>0</td>\n",
       "      <td>0</td>\n",
       "      <td>0</td>\n",
       "      <td>0</td>\n",
       "      <td>0</td>\n",
       "      <td>4</td>\n",
       "      <td>0</td>\n",
       "      <td>3</td>\n",
       "    </tr>\n",
       "    <tr>\n",
       "      <th>5</th>\n",
       "      <td>5033</td>\n",
       "      <td>9526.668284</td>\n",
       "      <td>304.0</td>\n",
       "      <td>835</td>\n",
       "      <td>4030.0</td>\n",
       "      <td>4034.668284</td>\n",
       "      <td>0</td>\n",
       "      <td>4</td>\n",
       "      <td>0</td>\n",
       "      <td>0</td>\n",
       "      <td>...</td>\n",
       "      <td>10</td>\n",
       "      <td>6</td>\n",
       "      <td>3</td>\n",
       "      <td>2</td>\n",
       "      <td>0</td>\n",
       "      <td>0</td>\n",
       "      <td>2</td>\n",
       "      <td>9</td>\n",
       "      <td>2</td>\n",
       "      <td>172</td>\n",
       "    </tr>\n",
       "    <tr>\n",
       "      <th>6</th>\n",
       "      <td>25413</td>\n",
       "      <td>18009.436482</td>\n",
       "      <td>712.0</td>\n",
       "      <td>2296</td>\n",
       "      <td>9387.5</td>\n",
       "      <td>4648.936482</td>\n",
       "      <td>0</td>\n",
       "      <td>12</td>\n",
       "      <td>0</td>\n",
       "      <td>3</td>\n",
       "      <td>...</td>\n",
       "      <td>28</td>\n",
       "      <td>17</td>\n",
       "      <td>1</td>\n",
       "      <td>2</td>\n",
       "      <td>1</td>\n",
       "      <td>3</td>\n",
       "      <td>8</td>\n",
       "      <td>48</td>\n",
       "      <td>0</td>\n",
       "      <td>13</td>\n",
       "    </tr>\n",
       "    <tr>\n",
       "      <th>7</th>\n",
       "      <td>2071</td>\n",
       "      <td>3289.732119</td>\n",
       "      <td>100.0</td>\n",
       "      <td>267</td>\n",
       "      <td>1387.0</td>\n",
       "      <td>1359.732119</td>\n",
       "      <td>0</td>\n",
       "      <td>1</td>\n",
       "      <td>0</td>\n",
       "      <td>0</td>\n",
       "      <td>...</td>\n",
       "      <td>1</td>\n",
       "      <td>2</td>\n",
       "      <td>3</td>\n",
       "      <td>1</td>\n",
       "      <td>0</td>\n",
       "      <td>0</td>\n",
       "      <td>2</td>\n",
       "      <td>12</td>\n",
       "      <td>1</td>\n",
       "      <td>6</td>\n",
       "    </tr>\n",
       "    <tr>\n",
       "      <th>8</th>\n",
       "      <td>65</td>\n",
       "      <td>108.000000</td>\n",
       "      <td>3.0</td>\n",
       "      <td>10</td>\n",
       "      <td>37.0</td>\n",
       "      <td>49.000000</td>\n",
       "      <td>0</td>\n",
       "      <td>0</td>\n",
       "      <td>0</td>\n",
       "      <td>0</td>\n",
       "      <td>...</td>\n",
       "      <td>0</td>\n",
       "      <td>0</td>\n",
       "      <td>0</td>\n",
       "      <td>0</td>\n",
       "      <td>0</td>\n",
       "      <td>0</td>\n",
       "      <td>0</td>\n",
       "      <td>0</td>\n",
       "      <td>1</td>\n",
       "      <td>0</td>\n",
       "    </tr>\n",
       "    <tr>\n",
       "      <th>9</th>\n",
       "      <td>5</td>\n",
       "      <td>49.000000</td>\n",
       "      <td>1.0</td>\n",
       "      <td>0</td>\n",
       "      <td>15.0</td>\n",
       "      <td>30.000000</td>\n",
       "      <td>0</td>\n",
       "      <td>0</td>\n",
       "      <td>0</td>\n",
       "      <td>0</td>\n",
       "      <td>...</td>\n",
       "      <td>0</td>\n",
       "      <td>0</td>\n",
       "      <td>0</td>\n",
       "      <td>0</td>\n",
       "      <td>0</td>\n",
       "      <td>0</td>\n",
       "      <td>0</td>\n",
       "      <td>0</td>\n",
       "      <td>0</td>\n",
       "      <td>0</td>\n",
       "    </tr>\n",
       "    <tr>\n",
       "      <th>10</th>\n",
       "      <td>268</td>\n",
       "      <td>254.894242</td>\n",
       "      <td>9.0</td>\n",
       "      <td>25</td>\n",
       "      <td>117.0</td>\n",
       "      <td>89.894242</td>\n",
       "      <td>0</td>\n",
       "      <td>0</td>\n",
       "      <td>0</td>\n",
       "      <td>0</td>\n",
       "      <td>...</td>\n",
       "      <td>1</td>\n",
       "      <td>0</td>\n",
       "      <td>0</td>\n",
       "      <td>0</td>\n",
       "      <td>0</td>\n",
       "      <td>0</td>\n",
       "      <td>0</td>\n",
       "      <td>0</td>\n",
       "      <td>0</td>\n",
       "      <td>0</td>\n",
       "    </tr>\n",
       "    <tr>\n",
       "      <th>11</th>\n",
       "      <td>631</td>\n",
       "      <td>862.126579</td>\n",
       "      <td>28.0</td>\n",
       "      <td>84</td>\n",
       "      <td>375.0</td>\n",
       "      <td>323.126579</td>\n",
       "      <td>0</td>\n",
       "      <td>0</td>\n",
       "      <td>0</td>\n",
       "      <td>0</td>\n",
       "      <td>...</td>\n",
       "      <td>4</td>\n",
       "      <td>0</td>\n",
       "      <td>0</td>\n",
       "      <td>0</td>\n",
       "      <td>0</td>\n",
       "      <td>0</td>\n",
       "      <td>0</td>\n",
       "      <td>1</td>\n",
       "      <td>0</td>\n",
       "      <td>2</td>\n",
       "    </tr>\n",
       "    <tr>\n",
       "      <th>12</th>\n",
       "      <td>20</td>\n",
       "      <td>62.560909</td>\n",
       "      <td>2.0</td>\n",
       "      <td>10</td>\n",
       "      <td>29.0</td>\n",
       "      <td>18.560909</td>\n",
       "      <td>0</td>\n",
       "      <td>0</td>\n",
       "      <td>0</td>\n",
       "      <td>0</td>\n",
       "      <td>...</td>\n",
       "      <td>0</td>\n",
       "      <td>0</td>\n",
       "      <td>0</td>\n",
       "      <td>0</td>\n",
       "      <td>0</td>\n",
       "      <td>0</td>\n",
       "      <td>0</td>\n",
       "      <td>1</td>\n",
       "      <td>0</td>\n",
       "      <td>0</td>\n",
       "    </tr>\n",
       "    <tr>\n",
       "      <th>13</th>\n",
       "      <td>54</td>\n",
       "      <td>56.333333</td>\n",
       "      <td>3.0</td>\n",
       "      <td>6</td>\n",
       "      <td>23.0</td>\n",
       "      <td>22.333333</td>\n",
       "      <td>0</td>\n",
       "      <td>1</td>\n",
       "      <td>0</td>\n",
       "      <td>0</td>\n",
       "      <td>...</td>\n",
       "      <td>0</td>\n",
       "      <td>0</td>\n",
       "      <td>0</td>\n",
       "      <td>0</td>\n",
       "      <td>0</td>\n",
       "      <td>0</td>\n",
       "      <td>0</td>\n",
       "      <td>0</td>\n",
       "      <td>0</td>\n",
       "      <td>0</td>\n",
       "    </tr>\n",
       "    <tr>\n",
       "      <th>14</th>\n",
       "      <td>41</td>\n",
       "      <td>44.636364</td>\n",
       "      <td>1.0</td>\n",
       "      <td>6</td>\n",
       "      <td>14.0</td>\n",
       "      <td>13.636364</td>\n",
       "      <td>0</td>\n",
       "      <td>0</td>\n",
       "      <td>0</td>\n",
       "      <td>0</td>\n",
       "      <td>...</td>\n",
       "      <td>0</td>\n",
       "      <td>0</td>\n",
       "      <td>0</td>\n",
       "      <td>0</td>\n",
       "      <td>0</td>\n",
       "      <td>0</td>\n",
       "      <td>0</td>\n",
       "      <td>0</td>\n",
       "      <td>0</td>\n",
       "      <td>0</td>\n",
       "    </tr>\n",
       "    <tr>\n",
       "      <th>15</th>\n",
       "      <td>967</td>\n",
       "      <td>1543.150389</td>\n",
       "      <td>47.0</td>\n",
       "      <td>125</td>\n",
       "      <td>647.5</td>\n",
       "      <td>640.650389</td>\n",
       "      <td>0</td>\n",
       "      <td>1</td>\n",
       "      <td>0</td>\n",
       "      <td>0</td>\n",
       "      <td>...</td>\n",
       "      <td>2</td>\n",
       "      <td>0</td>\n",
       "      <td>1</td>\n",
       "      <td>0</td>\n",
       "      <td>0</td>\n",
       "      <td>0</td>\n",
       "      <td>0</td>\n",
       "      <td>5</td>\n",
       "      <td>0</td>\n",
       "      <td>2</td>\n",
       "    </tr>\n",
       "    <tr>\n",
       "      <th>16</th>\n",
       "      <td>29</td>\n",
       "      <td>81.000000</td>\n",
       "      <td>3.0</td>\n",
       "      <td>13</td>\n",
       "      <td>37.0</td>\n",
       "      <td>23.000000</td>\n",
       "      <td>0</td>\n",
       "      <td>0</td>\n",
       "      <td>0</td>\n",
       "      <td>0</td>\n",
       "      <td>...</td>\n",
       "      <td>0</td>\n",
       "      <td>0</td>\n",
       "      <td>0</td>\n",
       "      <td>0</td>\n",
       "      <td>0</td>\n",
       "      <td>0</td>\n",
       "      <td>0</td>\n",
       "      <td>0</td>\n",
       "      <td>0</td>\n",
       "      <td>0</td>\n",
       "    </tr>\n",
       "    <tr>\n",
       "      <th>17</th>\n",
       "      <td>13</td>\n",
       "      <td>78.666667</td>\n",
       "      <td>2.0</td>\n",
       "      <td>9</td>\n",
       "      <td>23.0</td>\n",
       "      <td>40.666667</td>\n",
       "      <td>0</td>\n",
       "      <td>0</td>\n",
       "      <td>0</td>\n",
       "      <td>0</td>\n",
       "      <td>...</td>\n",
       "      <td>0</td>\n",
       "      <td>0</td>\n",
       "      <td>0</td>\n",
       "      <td>0</td>\n",
       "      <td>0</td>\n",
       "      <td>0</td>\n",
       "      <td>0</td>\n",
       "      <td>0</td>\n",
       "      <td>0</td>\n",
       "      <td>0</td>\n",
       "    </tr>\n",
       "    <tr>\n",
       "      <th>18</th>\n",
       "      <td>88</td>\n",
       "      <td>179.333333</td>\n",
       "      <td>7.0</td>\n",
       "      <td>19</td>\n",
       "      <td>83.0</td>\n",
       "      <td>65.333333</td>\n",
       "      <td>0</td>\n",
       "      <td>0</td>\n",
       "      <td>0</td>\n",
       "      <td>0</td>\n",
       "      <td>...</td>\n",
       "      <td>0</td>\n",
       "      <td>0</td>\n",
       "      <td>0</td>\n",
       "      <td>0</td>\n",
       "      <td>0</td>\n",
       "      <td>0</td>\n",
       "      <td>0</td>\n",
       "      <td>0</td>\n",
       "      <td>0</td>\n",
       "      <td>0</td>\n",
       "    </tr>\n",
       "    <tr>\n",
       "      <th>19</th>\n",
       "      <td>26</td>\n",
       "      <td>58.750000</td>\n",
       "      <td>2.0</td>\n",
       "      <td>6</td>\n",
       "      <td>29.0</td>\n",
       "      <td>18.750000</td>\n",
       "      <td>0</td>\n",
       "      <td>1</td>\n",
       "      <td>0</td>\n",
       "      <td>0</td>\n",
       "      <td>...</td>\n",
       "      <td>0</td>\n",
       "      <td>0</td>\n",
       "      <td>0</td>\n",
       "      <td>0</td>\n",
       "      <td>0</td>\n",
       "      <td>0</td>\n",
       "      <td>0</td>\n",
       "      <td>0</td>\n",
       "      <td>0</td>\n",
       "      <td>0</td>\n",
       "    </tr>\n",
       "  </tbody>\n",
       "</table>\n",
       "<p>20 rows \u00d7 137 columns</p>\n",
       "</div>"
      ],
      "text/plain": [
       "         num_orders  num_products  user_count  mode_order_dow  \\\n",
       "cluster                                                         \n",
       "0             18619  65702.814780      1924.0            4987   \n",
       "1               997   1402.215865        45.0             117   \n",
       "2               312    444.283131        14.0              33   \n",
       "3              1221   1878.698996        61.0             151   \n",
       "4              1815   3326.643635       105.0             282   \n",
       "5              5033   9526.668284       304.0             835   \n",
       "6             25413  18009.436482       712.0            2296   \n",
       "7              2071   3289.732119       100.0             267   \n",
       "8                65    108.000000         3.0              10   \n",
       "9                 5     49.000000         1.0               0   \n",
       "10              268    254.894242         9.0              25   \n",
       "11              631    862.126579        28.0              84   \n",
       "12               20     62.560909         2.0              10   \n",
       "13               54     56.333333         3.0               6   \n",
       "14               41     44.636364         1.0               6   \n",
       "15              967   1543.150389        47.0             125   \n",
       "16               29     81.000000         3.0              13   \n",
       "17               13     78.666667         2.0               9   \n",
       "18               88    179.333333         7.0              19   \n",
       "19               26     58.750000         2.0               6   \n",
       "\n",
       "         median_order_hour  mean_days_since  aisle_air fresheners candles  \\\n",
       "cluster                                                                     \n",
       "0                  26076.0     31428.814780                             4   \n",
       "1                    632.5       508.715865                             0   \n",
       "2                    193.0       176.283131                             0   \n",
       "3                    821.5       751.198996                             0   \n",
       "4                   1326.0      1497.643635                             0   \n",
       "5                   4030.0      4034.668284                             0   \n",
       "6                   9387.5      4648.936482                             0   \n",
       "7                   1387.0      1359.732119                             0   \n",
       "8                     37.0        49.000000                             0   \n",
       "9                     15.0        30.000000                             0   \n",
       "10                   117.0        89.894242                             0   \n",
       "11                   375.0       323.126579                             0   \n",
       "12                    29.0        18.560909                             0   \n",
       "13                    23.0        22.333333                             0   \n",
       "14                    14.0        13.636364                             0   \n",
       "15                   647.5       640.650389                             0   \n",
       "16                    37.0        23.000000                             0   \n",
       "17                    23.0        40.666667                             0   \n",
       "18                    83.0        65.333333                             0   \n",
       "19                    29.0        18.750000                             0   \n",
       "\n",
       "         aisle_asian foods  aisle_baby accessories  aisle_baby bath body care  \\\n",
       "cluster                                                                         \n",
       "0                       34                       1                          0   \n",
       "1                        3                       0                          0   \n",
       "2                        0                       0                          0   \n",
       "3                        1                       0                          0   \n",
       "4                        0                       0                          0   \n",
       "5                        4                       0                          0   \n",
       "6                       12                       0                          3   \n",
       "7                        1                       0                          0   \n",
       "8                        0                       0                          0   \n",
       "9                        0                       0                          0   \n",
       "10                       0                       0                          0   \n",
       "11                       0                       0                          0   \n",
       "12                       0                       0                          0   \n",
       "13                       1                       0                          0   \n",
       "14                       0                       0                          0   \n",
       "15                       1                       0                          0   \n",
       "16                       0                       0                          0   \n",
       "17                       0                       0                          0   \n",
       "18                       0                       0                          0   \n",
       "19                       1                       0                          0   \n",
       "\n",
       "         ...  aisle_spreads  aisle_tea  aisle_tofu meat alternatives  \\\n",
       "cluster  ...                                                           \n",
       "0        ...             44         37                            12   \n",
       "1        ...              2          3                             1   \n",
       "2        ...              3          1                             0   \n",
       "3        ...              1          1                             1   \n",
       "4        ...              3          4                             0   \n",
       "5        ...             10          6                             3   \n",
       "6        ...             28         17                             1   \n",
       "7        ...              1          2                             3   \n",
       "8        ...              0          0                             0   \n",
       "9        ...              0          0                             0   \n",
       "10       ...              1          0                             0   \n",
       "11       ...              4          0                             0   \n",
       "12       ...              0          0                             0   \n",
       "13       ...              0          0                             0   \n",
       "14       ...              0          0                             0   \n",
       "15       ...              2          0                             1   \n",
       "16       ...              0          0                             0   \n",
       "17       ...              0          0                             0   \n",
       "18       ...              0          0                             0   \n",
       "19       ...              0          0                             0   \n",
       "\n",
       "         aisle_tortillas flat bread  aisle_trail mix snack mix  \\\n",
       "cluster                                                          \n",
       "0                                17                          0   \n",
       "1                                 0                          0   \n",
       "2                                 0                          0   \n",
       "3                                 0                          0   \n",
       "4                                 0                          0   \n",
       "5                                 2                          0   \n",
       "6                                 2                          1   \n",
       "7                                 1                          0   \n",
       "8                                 0                          0   \n",
       "9                                 0                          0   \n",
       "10                                0                          0   \n",
       "11                                0                          0   \n",
       "12                                0                          0   \n",
       "13                                0                          0   \n",
       "14                                0                          0   \n",
       "15                                0                          0   \n",
       "16                                0                          0   \n",
       "17                                0                          0   \n",
       "18                                0                          0   \n",
       "19                                0                          0   \n",
       "\n",
       "         aisle_trash bags liners  aisle_vitamins supplements  \\\n",
       "cluster                                                        \n",
       "0                              1                           8   \n",
       "1                              0                           0   \n",
       "2                              0                           2   \n",
       "3                              0                           0   \n",
       "4                              0                           0   \n",
       "5                              0                           2   \n",
       "6                              3                           8   \n",
       "7                              0                           2   \n",
       "8                              0                           0   \n",
       "9                              0                           0   \n",
       "10                             0                           0   \n",
       "11                             0                           0   \n",
       "12                             0                           0   \n",
       "13                             0                           0   \n",
       "14                             0                           0   \n",
       "15                             0                           0   \n",
       "16                             0                           0   \n",
       "17                             0                           0   \n",
       "18                             0                           0   \n",
       "19                             0                           0   \n",
       "\n",
       "         aisle_water seltzer sparkling water  aisle_white wines  aisle_yogurt  \n",
       "cluster                                                                        \n",
       "0                                        114                 21             0  \n",
       "1                                          5                  2             4  \n",
       "2                                          1                  0             0  \n",
       "3                                          0                  0             7  \n",
       "4                                          4                  0             3  \n",
       "5                                          9                  2           172  \n",
       "6                                         48                  0            13  \n",
       "7                                         12                  1             6  \n",
       "8                                          0                  1             0  \n",
       "9                                          0                  0             0  \n",
       "10                                         0                  0             0  \n",
       "11                                         1                  0             2  \n",
       "12                                         1                  0             0  \n",
       "13                                         0                  0             0  \n",
       "14                                         0                  0             0  \n",
       "15                                         5                  0             2  \n",
       "16                                         0                  0             0  \n",
       "17                                         0                  0             0  \n",
       "18                                         0                  0             0  \n",
       "19                                         0                  0             0  \n",
       "\n",
       "[20 rows x 137 columns]"
      ]
     },
     "execution_count": 188,
     "metadata": {},
     "output_type": "execute_result"
    }
   ],
   "source": [
    "# Group by cluster, adding up the number of products purchased\n",
    "grouped_clusters = grouped_users.groupby('cluster').sum()\n",
    "grouped_clusters"
   ]
  },
  {
   "cell_type": "code",
   "execution_count": 189,
   "metadata": {},
   "outputs": [],
   "source": [
    "# This doesn't take into account the relative prices of the items purchased\n",
    "# But we can now see the portion of products purchased by each cluster\n",
    "cluster_power = grouped_clusters.iloc[:,0:3]"
   ]
  },
  {
   "cell_type": "code",
   "execution_count": 190,
   "metadata": {},
   "outputs": [
    {
     "data": {
      "text/html": [
       "<div>\n",
       "<style scoped>\n",
       "    .dataframe tbody tr th:only-of-type {\n",
       "        vertical-align: middle;\n",
       "    }\n",
       "\n",
       "    .dataframe tbody tr th {\n",
       "        vertical-align: top;\n",
       "    }\n",
       "\n",
       "    .dataframe thead th {\n",
       "        text-align: right;\n",
       "    }\n",
       "</style>\n",
       "<table border=\"1\" class=\"dataframe\">\n",
       "  <thead>\n",
       "    <tr style=\"text-align: right;\">\n",
       "      <th></th>\n",
       "      <th>num_orders</th>\n",
       "      <th>num_products</th>\n",
       "      <th>user_count</th>\n",
       "    </tr>\n",
       "    <tr>\n",
       "      <th>cluster</th>\n",
       "      <th></th>\n",
       "      <th></th>\n",
       "      <th></th>\n",
       "    </tr>\n",
       "  </thead>\n",
       "  <tbody>\n",
       "    <tr>\n",
       "      <th>0</th>\n",
       "      <td>18619</td>\n",
       "      <td>65702.814780</td>\n",
       "      <td>1924.0</td>\n",
       "    </tr>\n",
       "    <tr>\n",
       "      <th>1</th>\n",
       "      <td>997</td>\n",
       "      <td>1402.215865</td>\n",
       "      <td>45.0</td>\n",
       "    </tr>\n",
       "    <tr>\n",
       "      <th>2</th>\n",
       "      <td>312</td>\n",
       "      <td>444.283131</td>\n",
       "      <td>14.0</td>\n",
       "    </tr>\n",
       "    <tr>\n",
       "      <th>3</th>\n",
       "      <td>1221</td>\n",
       "      <td>1878.698996</td>\n",
       "      <td>61.0</td>\n",
       "    </tr>\n",
       "    <tr>\n",
       "      <th>4</th>\n",
       "      <td>1815</td>\n",
       "      <td>3326.643635</td>\n",
       "      <td>105.0</td>\n",
       "    </tr>\n",
       "    <tr>\n",
       "      <th>5</th>\n",
       "      <td>5033</td>\n",
       "      <td>9526.668284</td>\n",
       "      <td>304.0</td>\n",
       "    </tr>\n",
       "    <tr>\n",
       "      <th>6</th>\n",
       "      <td>25413</td>\n",
       "      <td>18009.436482</td>\n",
       "      <td>712.0</td>\n",
       "    </tr>\n",
       "    <tr>\n",
       "      <th>7</th>\n",
       "      <td>2071</td>\n",
       "      <td>3289.732119</td>\n",
       "      <td>100.0</td>\n",
       "    </tr>\n",
       "    <tr>\n",
       "      <th>8</th>\n",
       "      <td>65</td>\n",
       "      <td>108.000000</td>\n",
       "      <td>3.0</td>\n",
       "    </tr>\n",
       "    <tr>\n",
       "      <th>9</th>\n",
       "      <td>5</td>\n",
       "      <td>49.000000</td>\n",
       "      <td>1.0</td>\n",
       "    </tr>\n",
       "    <tr>\n",
       "      <th>10</th>\n",
       "      <td>268</td>\n",
       "      <td>254.894242</td>\n",
       "      <td>9.0</td>\n",
       "    </tr>\n",
       "    <tr>\n",
       "      <th>11</th>\n",
       "      <td>631</td>\n",
       "      <td>862.126579</td>\n",
       "      <td>28.0</td>\n",
       "    </tr>\n",
       "    <tr>\n",
       "      <th>12</th>\n",
       "      <td>20</td>\n",
       "      <td>62.560909</td>\n",
       "      <td>2.0</td>\n",
       "    </tr>\n",
       "    <tr>\n",
       "      <th>13</th>\n",
       "      <td>54</td>\n",
       "      <td>56.333333</td>\n",
       "      <td>3.0</td>\n",
       "    </tr>\n",
       "    <tr>\n",
       "      <th>14</th>\n",
       "      <td>41</td>\n",
       "      <td>44.636364</td>\n",
       "      <td>1.0</td>\n",
       "    </tr>\n",
       "    <tr>\n",
       "      <th>15</th>\n",
       "      <td>967</td>\n",
       "      <td>1543.150389</td>\n",
       "      <td>47.0</td>\n",
       "    </tr>\n",
       "    <tr>\n",
       "      <th>16</th>\n",
       "      <td>29</td>\n",
       "      <td>81.000000</td>\n",
       "      <td>3.0</td>\n",
       "    </tr>\n",
       "    <tr>\n",
       "      <th>17</th>\n",
       "      <td>13</td>\n",
       "      <td>78.666667</td>\n",
       "      <td>2.0</td>\n",
       "    </tr>\n",
       "    <tr>\n",
       "      <th>18</th>\n",
       "      <td>88</td>\n",
       "      <td>179.333333</td>\n",
       "      <td>7.0</td>\n",
       "    </tr>\n",
       "    <tr>\n",
       "      <th>19</th>\n",
       "      <td>26</td>\n",
       "      <td>58.750000</td>\n",
       "      <td>2.0</td>\n",
       "    </tr>\n",
       "  </tbody>\n",
       "</table>\n",
       "</div>"
      ],
      "text/plain": [
       "         num_orders  num_products  user_count\n",
       "cluster                                      \n",
       "0             18619  65702.814780      1924.0\n",
       "1               997   1402.215865        45.0\n",
       "2               312    444.283131        14.0\n",
       "3              1221   1878.698996        61.0\n",
       "4              1815   3326.643635       105.0\n",
       "5              5033   9526.668284       304.0\n",
       "6             25413  18009.436482       712.0\n",
       "7              2071   3289.732119       100.0\n",
       "8                65    108.000000         3.0\n",
       "9                 5     49.000000         1.0\n",
       "10              268    254.894242         9.0\n",
       "11              631    862.126579        28.0\n",
       "12               20     62.560909         2.0\n",
       "13               54     56.333333         3.0\n",
       "14               41     44.636364         1.0\n",
       "15              967   1543.150389        47.0\n",
       "16               29     81.000000         3.0\n",
       "17               13     78.666667         2.0\n",
       "18               88    179.333333         7.0\n",
       "19               26     58.750000         2.0"
      ]
     },
     "execution_count": 190,
     "metadata": {},
     "output_type": "execute_result"
    }
   ],
   "source": [
    "cluster_power"
   ]
  },
  {
   "cell_type": "code",
   "execution_count": 191,
   "metadata": {},
   "outputs": [],
   "source": [
    "# Calculate ordering statistics per cluster\n",
    "cluster_power['portion_of_orders'] = cluster_power['num_orders'].apply(lambda x: \n",
    "                                                                             x/(cluster_power['num_orders'].sum()))\n",
    "cluster_power['portion_of_products'] = cluster_power['num_products'].apply(lambda x: \n",
    "                                                                                 x/(cluster_power['num_products'].sum()))\n",
    "cluster_power['portion_of_users'] = cluster_power['user_count'].apply(lambda x: \n",
    "                                                                             x/(cluster_power['user_count'].sum()))\n",
    "cluster_power['orders_per_user'] = cluster_power['num_orders']/cluster_power['user_count']\n",
    "cluster_power['products_per_user'] = cluster_power['num_products']/cluster_power['user_count']"
   ]
  },
  {
   "cell_type": "code",
   "execution_count": 192,
   "metadata": {},
   "outputs": [
    {
     "data": {
      "text/html": [
       "<div>\n",
       "<style scoped>\n",
       "    .dataframe tbody tr th:only-of-type {\n",
       "        vertical-align: middle;\n",
       "    }\n",
       "\n",
       "    .dataframe tbody tr th {\n",
       "        vertical-align: top;\n",
       "    }\n",
       "\n",
       "    .dataframe thead th {\n",
       "        text-align: right;\n",
       "    }\n",
       "</style>\n",
       "<table border=\"1\" class=\"dataframe\">\n",
       "  <thead>\n",
       "    <tr style=\"text-align: right;\">\n",
       "      <th></th>\n",
       "      <th>num_orders</th>\n",
       "      <th>num_products</th>\n",
       "      <th>user_count</th>\n",
       "      <th>portion_of_orders</th>\n",
       "      <th>portion_of_products</th>\n",
       "      <th>portion_of_users</th>\n",
       "      <th>orders_per_user</th>\n",
       "      <th>products_per_user</th>\n",
       "    </tr>\n",
       "    <tr>\n",
       "      <th>cluster</th>\n",
       "      <th></th>\n",
       "      <th></th>\n",
       "      <th></th>\n",
       "      <th></th>\n",
       "      <th></th>\n",
       "      <th></th>\n",
       "      <th></th>\n",
       "      <th></th>\n",
       "    </tr>\n",
       "  </thead>\n",
       "  <tbody>\n",
       "    <tr>\n",
       "      <th>9</th>\n",
       "      <td>5</td>\n",
       "      <td>49.000000</td>\n",
       "      <td>1.0</td>\n",
       "      <td>0.000087</td>\n",
       "      <td>0.000458</td>\n",
       "      <td>0.000296</td>\n",
       "      <td>5.000000</td>\n",
       "      <td>49.000000</td>\n",
       "    </tr>\n",
       "    <tr>\n",
       "      <th>14</th>\n",
       "      <td>41</td>\n",
       "      <td>44.636364</td>\n",
       "      <td>1.0</td>\n",
       "      <td>0.000711</td>\n",
       "      <td>0.000417</td>\n",
       "      <td>0.000296</td>\n",
       "      <td>41.000000</td>\n",
       "      <td>44.636364</td>\n",
       "    </tr>\n",
       "    <tr>\n",
       "      <th>17</th>\n",
       "      <td>13</td>\n",
       "      <td>78.666667</td>\n",
       "      <td>2.0</td>\n",
       "      <td>0.000225</td>\n",
       "      <td>0.000735</td>\n",
       "      <td>0.000593</td>\n",
       "      <td>6.500000</td>\n",
       "      <td>39.333333</td>\n",
       "    </tr>\n",
       "    <tr>\n",
       "      <th>8</th>\n",
       "      <td>65</td>\n",
       "      <td>108.000000</td>\n",
       "      <td>3.0</td>\n",
       "      <td>0.001127</td>\n",
       "      <td>0.001010</td>\n",
       "      <td>0.000889</td>\n",
       "      <td>21.666667</td>\n",
       "      <td>36.000000</td>\n",
       "    </tr>\n",
       "    <tr>\n",
       "      <th>0</th>\n",
       "      <td>18619</td>\n",
       "      <td>65702.814780</td>\n",
       "      <td>1924.0</td>\n",
       "      <td>0.322753</td>\n",
       "      <td>0.614281</td>\n",
       "      <td>0.570412</td>\n",
       "      <td>9.677235</td>\n",
       "      <td>34.149072</td>\n",
       "    </tr>\n",
       "    <tr>\n",
       "      <th>7</th>\n",
       "      <td>2071</td>\n",
       "      <td>3289.732119</td>\n",
       "      <td>100.0</td>\n",
       "      <td>0.035900</td>\n",
       "      <td>0.030757</td>\n",
       "      <td>0.029647</td>\n",
       "      <td>20.710000</td>\n",
       "      <td>32.897321</td>\n",
       "    </tr>\n",
       "    <tr>\n",
       "      <th>15</th>\n",
       "      <td>967</td>\n",
       "      <td>1543.150389</td>\n",
       "      <td>47.0</td>\n",
       "      <td>0.016763</td>\n",
       "      <td>0.014428</td>\n",
       "      <td>0.013934</td>\n",
       "      <td>20.574468</td>\n",
       "      <td>32.832987</td>\n",
       "    </tr>\n",
       "    <tr>\n",
       "      <th>2</th>\n",
       "      <td>312</td>\n",
       "      <td>444.283131</td>\n",
       "      <td>14.0</td>\n",
       "      <td>0.005408</td>\n",
       "      <td>0.004154</td>\n",
       "      <td>0.004151</td>\n",
       "      <td>22.285714</td>\n",
       "      <td>31.734509</td>\n",
       "    </tr>\n",
       "    <tr>\n",
       "      <th>4</th>\n",
       "      <td>1815</td>\n",
       "      <td>3326.643635</td>\n",
       "      <td>105.0</td>\n",
       "      <td>0.031462</td>\n",
       "      <td>0.031102</td>\n",
       "      <td>0.031130</td>\n",
       "      <td>17.285714</td>\n",
       "      <td>31.682320</td>\n",
       "    </tr>\n",
       "    <tr>\n",
       "      <th>5</th>\n",
       "      <td>5033</td>\n",
       "      <td>9526.668284</td>\n",
       "      <td>304.0</td>\n",
       "      <td>0.087245</td>\n",
       "      <td>0.089068</td>\n",
       "      <td>0.090127</td>\n",
       "      <td>16.555921</td>\n",
       "      <td>31.337725</td>\n",
       "    </tr>\n",
       "    <tr>\n",
       "      <th>12</th>\n",
       "      <td>20</td>\n",
       "      <td>62.560909</td>\n",
       "      <td>2.0</td>\n",
       "      <td>0.000347</td>\n",
       "      <td>0.000585</td>\n",
       "      <td>0.000593</td>\n",
       "      <td>10.000000</td>\n",
       "      <td>31.280454</td>\n",
       "    </tr>\n",
       "    <tr>\n",
       "      <th>1</th>\n",
       "      <td>997</td>\n",
       "      <td>1402.215865</td>\n",
       "      <td>45.0</td>\n",
       "      <td>0.017283</td>\n",
       "      <td>0.013110</td>\n",
       "      <td>0.013341</td>\n",
       "      <td>22.155556</td>\n",
       "      <td>31.160353</td>\n",
       "    </tr>\n",
       "    <tr>\n",
       "      <th>3</th>\n",
       "      <td>1221</td>\n",
       "      <td>1878.698996</td>\n",
       "      <td>61.0</td>\n",
       "      <td>0.021166</td>\n",
       "      <td>0.017565</td>\n",
       "      <td>0.018085</td>\n",
       "      <td>20.016393</td>\n",
       "      <td>30.798344</td>\n",
       "    </tr>\n",
       "    <tr>\n",
       "      <th>11</th>\n",
       "      <td>631</td>\n",
       "      <td>862.126579</td>\n",
       "      <td>28.0</td>\n",
       "      <td>0.010938</td>\n",
       "      <td>0.008060</td>\n",
       "      <td>0.008301</td>\n",
       "      <td>22.535714</td>\n",
       "      <td>30.790235</td>\n",
       "    </tr>\n",
       "    <tr>\n",
       "      <th>19</th>\n",
       "      <td>26</td>\n",
       "      <td>58.750000</td>\n",
       "      <td>2.0</td>\n",
       "      <td>0.000451</td>\n",
       "      <td>0.000549</td>\n",
       "      <td>0.000593</td>\n",
       "      <td>13.000000</td>\n",
       "      <td>29.375000</td>\n",
       "    </tr>\n",
       "    <tr>\n",
       "      <th>10</th>\n",
       "      <td>268</td>\n",
       "      <td>254.894242</td>\n",
       "      <td>9.0</td>\n",
       "      <td>0.004646</td>\n",
       "      <td>0.002383</td>\n",
       "      <td>0.002668</td>\n",
       "      <td>29.777778</td>\n",
       "      <td>28.321582</td>\n",
       "    </tr>\n",
       "    <tr>\n",
       "      <th>16</th>\n",
       "      <td>29</td>\n",
       "      <td>81.000000</td>\n",
       "      <td>3.0</td>\n",
       "      <td>0.000503</td>\n",
       "      <td>0.000757</td>\n",
       "      <td>0.000889</td>\n",
       "      <td>9.666667</td>\n",
       "      <td>27.000000</td>\n",
       "    </tr>\n",
       "    <tr>\n",
       "      <th>18</th>\n",
       "      <td>88</td>\n",
       "      <td>179.333333</td>\n",
       "      <td>7.0</td>\n",
       "      <td>0.001525</td>\n",
       "      <td>0.001677</td>\n",
       "      <td>0.002075</td>\n",
       "      <td>12.571429</td>\n",
       "      <td>25.619048</td>\n",
       "    </tr>\n",
       "    <tr>\n",
       "      <th>6</th>\n",
       "      <td>25413</td>\n",
       "      <td>18009.436482</td>\n",
       "      <td>712.0</td>\n",
       "      <td>0.440525</td>\n",
       "      <td>0.168377</td>\n",
       "      <td>0.211088</td>\n",
       "      <td>35.692416</td>\n",
       "      <td>25.294152</td>\n",
       "    </tr>\n",
       "    <tr>\n",
       "      <th>13</th>\n",
       "      <td>54</td>\n",
       "      <td>56.333333</td>\n",
       "      <td>3.0</td>\n",
       "      <td>0.000936</td>\n",
       "      <td>0.000527</td>\n",
       "      <td>0.000889</td>\n",
       "      <td>18.000000</td>\n",
       "      <td>18.777778</td>\n",
       "    </tr>\n",
       "  </tbody>\n",
       "</table>\n",
       "</div>"
      ],
      "text/plain": [
       "         num_orders  num_products  user_count  portion_of_orders  \\\n",
       "cluster                                                            \n",
       "9                 5     49.000000         1.0           0.000087   \n",
       "14               41     44.636364         1.0           0.000711   \n",
       "17               13     78.666667         2.0           0.000225   \n",
       "8                65    108.000000         3.0           0.001127   \n",
       "0             18619  65702.814780      1924.0           0.322753   \n",
       "7              2071   3289.732119       100.0           0.035900   \n",
       "15              967   1543.150389        47.0           0.016763   \n",
       "2               312    444.283131        14.0           0.005408   \n",
       "4              1815   3326.643635       105.0           0.031462   \n",
       "5              5033   9526.668284       304.0           0.087245   \n",
       "12               20     62.560909         2.0           0.000347   \n",
       "1               997   1402.215865        45.0           0.017283   \n",
       "3              1221   1878.698996        61.0           0.021166   \n",
       "11              631    862.126579        28.0           0.010938   \n",
       "19               26     58.750000         2.0           0.000451   \n",
       "10              268    254.894242         9.0           0.004646   \n",
       "16               29     81.000000         3.0           0.000503   \n",
       "18               88    179.333333         7.0           0.001525   \n",
       "6             25413  18009.436482       712.0           0.440525   \n",
       "13               54     56.333333         3.0           0.000936   \n",
       "\n",
       "         portion_of_products  portion_of_users  orders_per_user  \\\n",
       "cluster                                                           \n",
       "9                   0.000458          0.000296         5.000000   \n",
       "14                  0.000417          0.000296        41.000000   \n",
       "17                  0.000735          0.000593         6.500000   \n",
       "8                   0.001010          0.000889        21.666667   \n",
       "0                   0.614281          0.570412         9.677235   \n",
       "7                   0.030757          0.029647        20.710000   \n",
       "15                  0.014428          0.013934        20.574468   \n",
       "2                   0.004154          0.004151        22.285714   \n",
       "4                   0.031102          0.031130        17.285714   \n",
       "5                   0.089068          0.090127        16.555921   \n",
       "12                  0.000585          0.000593        10.000000   \n",
       "1                   0.013110          0.013341        22.155556   \n",
       "3                   0.017565          0.018085        20.016393   \n",
       "11                  0.008060          0.008301        22.535714   \n",
       "19                  0.000549          0.000593        13.000000   \n",
       "10                  0.002383          0.002668        29.777778   \n",
       "16                  0.000757          0.000889         9.666667   \n",
       "18                  0.001677          0.002075        12.571429   \n",
       "6                   0.168377          0.211088        35.692416   \n",
       "13                  0.000527          0.000889        18.000000   \n",
       "\n",
       "         products_per_user  \n",
       "cluster                     \n",
       "9                49.000000  \n",
       "14               44.636364  \n",
       "17               39.333333  \n",
       "8                36.000000  \n",
       "0                34.149072  \n",
       "7                32.897321  \n",
       "15               32.832987  \n",
       "2                31.734509  \n",
       "4                31.682320  \n",
       "5                31.337725  \n",
       "12               31.280454  \n",
       "1                31.160353  \n",
       "3                30.798344  \n",
       "11               30.790235  \n",
       "19               29.375000  \n",
       "10               28.321582  \n",
       "16               27.000000  \n",
       "18               25.619048  \n",
       "6                25.294152  \n",
       "13               18.777778  "
      ]
     },
     "execution_count": 192,
     "metadata": {},
     "output_type": "execute_result"
    }
   ],
   "source": [
    "cluster_power.sort_values('products_per_user', ascending=False)"
   ]
  },
  {
   "cell_type": "markdown",
   "metadata": {},
   "source": [
    "### Clustering Conclusions"
   ]
  },
  {
   "cell_type": "markdown",
   "metadata": {},
   "source": [
    "Sorting these statistics different ways shows interesting results depending on what you are looking for.  We can see\n",
    "that cluster 8 orders a very large number of products per user, but overall cluster 8 represents a small portion of all\n",
    "of the users.  Cluster 12 represents over 50% of all of the users, but only 25% of the orders and only 17% of the products.\n",
    "Cluster 1 is very proportional with about 23% of the users, orders, and products.  Cluster 4 is the third largest cluster\n",
    "with 7% of the users, but they make up about 17% of the orders and products."
   ]
  },
  {
   "cell_type": "markdown",
   "metadata": {},
   "source": [
    "Overall, the clustering did a good job of categorizing our users based on their purchases.  I think this information could be very useful to a business looking to personalize marketing efforts to their users."
   ]
  },
  {
   "cell_type": "markdown",
   "metadata": {},
   "source": [
    "## HNSW-Based Clustering\n",
    "\n",
    "HNSW (Hierarchical Navigable Small World) is an approximate nearest neighbor search algorithm that can be used for efficient clustering of high-dimensional data. Unlike K-Means which assigns each point to the nearest centroid, HNSW builds a graph structure that allows for fast similarity searches and can be used to identify natural clusters through nearest neighbor relationships."
   ]
  },
  {
   "cell_type": "code",
   "execution_count": null,
   "metadata": {},
   "outputs": [],
   "source": [
    "# Install hnswlib if not already installed\n",
    "try:\n",
    "    import hnswlib\n",
    "except ImportError:\n",
    "    !pip install hnswlib\n",
    "    import hnswlib\n",
    "\n",
    "print(f\"hnswlib version: {hnswlib.__version__}\")"
   ]
  },
  {
   "cell_type": "code",
   "execution_count": null,
   "metadata": {},
   "outputs": [],
   "source": [
    "# Build HNSW index for efficient nearest neighbor search\n",
    "import time\n",
    "\n",
    "# HNSW parameters (constraints defined in clustering_constraints.md)\n",
    "dim = scaled_users.shape[1]  # Number of features\n",
    "num_elements = scaled_users.shape[0]  # Number of users\n",
    "\n",
    "# Initialize HNSW index\n",
    "# M: number of bi-directional links created for every new element (16 is a good balance)\n",
    "# ef_construction: size of dynamic candidate list during construction (higher = better quality, slower)\n",
    "hnsw_index = hnswlib.Index(space='l2', dim=dim)\n",
    "hnsw_index.init_index(max_elements=num_elements, ef_construction=200, M=16)\n",
    "\n",
    "# Add all user vectors to the index\n",
    "print(f\"Building HNSW index with {num_elements} users and {dim} features...\")\n",
    "start_time = time.time()\n",
    "hnsw_index.add_items(scaled_users, list(range(num_elements)))\n",
    "build_time = time.time() - start_time\n",
    "\n",
    "# Set ef parameter for query time (higher = better recall, slower search)\n",
    "hnsw_index.set_ef(50)\n",
    "\n",
    "print(f\"HNSW index built in {build_time:.2f} seconds\")\n",
    "print(f\"Index contains {hnsw_index.get_current_count()} elements\")"
   ]
  },
  {
   "cell_type": "code",
   "execution_count": null,
   "metadata": {},
   "outputs": [],
   "source": [
    "# Find K nearest neighbors for each user\n",
    "k_neighbors = 20  # Number of nearest neighbors to find\n",
    "\n",
    "print(f\"Finding {k_neighbors} nearest neighbors for each user...\")\n",
    "start_time = time.time()\n",
    "\n",
    "# Query the index for all points\n",
    "labels, distances = hnsw_index.knn_query(scaled_users, k=k_neighbors)\n",
    "\n",
    "query_time = time.time() - start_time\n",
    "print(f\"Nearest neighbor search completed in {query_time:.2f} seconds\")\n",
    "print(f\"Average time per query: {query_time/num_elements*1000:.3f} ms\")\n",
    "\n",
    "# Display sample results\n",
    "print(f\"\\nSample nearest neighbors for user 0:\")\n",
    "print(f\"Neighbor indices: {labels[0][:5]}\")\n",
    "print(f\"Distances: {distances[0][:5]}\")"
   ]
  },
  {
   "cell_type": "code",
   "execution_count": null,
   "metadata": {},
   "outputs": [],
   "source": [
    "# Create clusters using a density-based approach with HNSW neighbors\n",
    "# We'll use a simple strategy: if two users are mutual nearest neighbors, they're in the same cluster\n",
    "\n",
    "from collections import defaultdict\n",
    "import numpy as np\n",
    "\n",
    "def cluster_from_neighbors(neighbor_indices, min_shared_neighbors=5):\n",
    "    \"\"\"\n",
    "    Create clusters based on shared nearest neighbors.\n",
    "    Users with many shared neighbors are grouped together.\n",
    "    \"\"\"\n",
    "    n_users = len(neighbor_indices)\n",
    "    cluster_labels = np.full(n_users, -1)  # -1 means unassigned\n",
    "    current_cluster = 0\n",
    "    \n",
    "    # Convert neighbor lists to sets for faster lookup\n",
    "    neighbor_sets = [set(neighbors) for neighbors in neighbor_indices]\n",
    "    \n",
    "    for i in range(n_users):\n",
    "        if cluster_labels[i] != -1:\n",
    "            continue  # Already assigned\n",
    "        \n",
    "        # Start a new cluster\n",
    "        cluster_labels[i] = current_cluster\n",
    "        cluster_members = [i]\n",
    "        \n",
    "        # Find all users that share neighbors with this user\n",
    "        for j in range(i+1, n_users):\n",
    "            if cluster_labels[j] != -1:\n",
    "                continue\n",
    "            \n",
    "            # Count shared neighbors\n",
    "            shared = len(neighbor_sets[i].intersection(neighbor_sets[j]))\n",
    "            \n",
    "            if shared >= min_shared_neighbors:\n",
    "                cluster_labels[j] = current_cluster\n",
    "                cluster_members.append(j)\n",
    "        \n",
    "        current_cluster += 1\n",
    "        \n",
    "        if (i+1) % 1000 == 0:\n",
    "            print(f\"Processed {i+1}/{n_users} users...\")\n",
    "    \n",
    "    return cluster_labels\n",
    "\n",
    "# Apply clustering\n",
    "print(\"Creating clusters from nearest neighbor relationships...\")\n",
    "start_time = time.time()\n",
    "hnsw_cluster_labels = cluster_from_neighbors(labels, min_shared_neighbors=5)\n",
    "clustering_time = time.time() - start_time\n",
    "\n",
    "print(f\"Clustering completed in {clustering_time:.2f} seconds\")\n",
    "print(f\"Number of clusters found: {len(set(hnsw_cluster_labels))}\")\n",
    "print(f\"Number of users per cluster:\")\n",
    "unique, counts = np.unique(hnsw_cluster_labels, return_counts=True)\n",
    "for cluster_id, count in sorted(zip(unique, counts), key=lambda x: x[1], reverse=True)[:10]:\n",
    "    print(f\"  Cluster {cluster_id}: {count} users\")"
   ]
  },
  {
   "cell_type": "code",
   "execution_count": null,
   "metadata": {},
   "outputs": [],
   "source": [
    "# Add HNSW cluster labels to the dataframe\n",
    "grouped_users_hnsw = grouped_users.copy()\n",
    "grouped_users_hnsw['hnsw_cluster'] = hnsw_cluster_labels\n",
    "\n",
    "# Compare with KMeans clusters\n",
    "print(\"Cluster distribution comparison:\")\n",
    "print(f\"\\nKMeans (20 clusters):\")\n",
    "print(grouped_users['cluster'].value_counts().head(10))\n",
    "print(f\"\\nHNSW-based clusters:\")\n",
    "print(grouped_users_hnsw['hnsw_cluster'].value_counts().head(10))"
   ]
  },
  {
   "cell_type": "code",
   "execution_count": null,
   "metadata": {},
   "outputs": [],
   "source": [
    "# Evaluate clustering quality with Calinski-Harabasz score and Silhouette score\n",
    "from sklearn.metrics import calinski_harabasz_score, silhouette_score\n",
    "\n",
    "# Calculate metrics for both clustering methods\n",
    "kmeans_ch_score = calinski_harabasz_score(scaled_users, k_means_20.labels_)\n",
    "hnsw_ch_score = calinski_harabasz_score(scaled_users, hnsw_cluster_labels)\n",
    "\n",
    "print(\"Clustering Quality Comparison:\")\n",
    "print(f\"\\nCalinski-Harabasz Score (higher is better):\")\n",
    "print(f\"  KMeans: {kmeans_ch_score:.2f}\")\n",
    "print(f\"  HNSW:   {hnsw_ch_score:.2f}\")\n",
    "\n",
    "# Silhouette score (can be slow for large datasets, so we'll sample)\n",
    "sample_size = min(5000, len(scaled_users))\n",
    "sample_indices = np.random.choice(len(scaled_users), sample_size, replace=False)\n",
    "\n",
    "print(f\"\\nCalculating Silhouette scores on sample of {sample_size} users...\")\n",
    "kmeans_sil_score = silhouette_score(scaled_users[sample_indices], \n",
    "                                     k_means_20.labels_[sample_indices])\n",
    "hnsw_sil_score = silhouette_score(scaled_users[sample_indices], \n",
    "                                   hnsw_cluster_labels[sample_indices])\n",
    "\n",
    "print(f\"\\nSilhouette Score (higher is better, range -1 to 1):\")\n",
    "print(f\"  KMeans: {kmeans_sil_score:.4f}\")\n",
    "print(f\"  HNSW:   {hnsw_sil_score:.4f}\")"
   ]
  },
  {
   "cell_type": "code",
   "execution_count": null,
   "metadata": {},
   "outputs": [],
   "source": [
    "# Visualize HNSW clusters using the same t-SNE projection\n",
    "# We'll create a new visualization comparing both clustering methods\n",
    "\n",
    "# Create a comparison plot\n",
    "fig, axes = plt.subplots(1, 2, figsize=(20, 8))\n",
    "\n",
    "# Sample for visualization if dataset is large\n",
    "viz_sample_size = min(2000, len(scaled_users))\n",
    "viz_sample_indices = np.random.choice(len(scaled_users), viz_sample_size, replace=False)\n",
    "\n",
    "# Create t-SNE embedding for sampled data\n",
    "from sklearn.manifold import TSNE\n",
    "print(f\"Creating t-SNE embedding for {viz_sample_size} users...\")\n",
    "tsne = TSNE(n_components=2, perplexity=30, random_state=42)\n",
    "user_embedded_2d = tsne.fit_transform(scaled_users[viz_sample_indices])\n",
    "\n",
    "# Plot KMeans clusters\n",
    "scatter1 = axes[0].scatter(user_embedded_2d[:, 0], user_embedded_2d[:, 1], \n",
    "                           c=k_means_20.labels_[viz_sample_indices], \n",
    "                           cmap='tab20', alpha=0.6, s=10)\n",
    "axes[0].set_title('KMeans Clustering (20 clusters)', fontsize=14, fontweight='bold')\n",
    "axes[0].set_xlabel('t-SNE Dimension 1')\n",
    "axes[0].set_ylabel('t-SNE Dimension 2')\n",
    "plt.colorbar(scatter1, ax=axes[0], label='Cluster ID')\n",
    "\n",
    "# Plot HNSW clusters\n",
    "scatter2 = axes[1].scatter(user_embedded_2d[:, 0], user_embedded_2d[:, 1], \n",
    "                           c=hnsw_cluster_labels[viz_sample_indices], \n",
    "                           cmap='tab20', alpha=0.6, s=10)\n",
    "axes[1].set_title('HNSW-based Clustering', fontsize=14, fontweight='bold')\n",
    "axes[1].set_xlabel('t-SNE Dimension 1')\n",
    "axes[1].set_ylabel('t-SNE Dimension 2')\n",
    "plt.colorbar(scatter2, ax=axes[1], label='Cluster ID')\n",
    "\n",
    "plt.tight_layout()\n",
    "plt.savefig('Images/hnsw_vs_kmeans_clusters.png', dpi=150, bbox_inches='tight')\n",
    "plt.show()\n",
    "\n",
    "print(\"\\nVisualization saved to Images/hnsw_vs_kmeans_clusters.png\")"
   ]
  },
  {
   "cell_type": "code",
   "execution_count": null,
   "metadata": {},
   "outputs": [],
   "source": [
    "# Analyze HNSW cluster characteristics similar to KMeans analysis\n",
    "# Group by HNSW cluster and calculate median values\n",
    "\n",
    "hnsw_cluster_data = grouped_users_hnsw.groupby('hnsw_cluster').agg({\n",
    "    'num_orders': 'median', \n",
    "    'mode_order_dow': 'median',\n",
    "    'mode_order_hour': 'median',\n",
    "    'mean_days_since': 'median',\n",
    "    'num_products': 'median'\n",
    "})\n",
    "\n",
    "# Add aisle medians\n",
    "aisle_cols = [col for col in grouped_users_hnsw.columns if col.startswith('aisle_')]\n",
    "for col in aisle_cols:\n",
    "    hnsw_cluster_data[col] = grouped_users_hnsw.groupby('hnsw_cluster')[col].median()\n",
    "\n",
    "print(\"HNSW Cluster Characteristics (top 5 clusters by size):\")\n",
    "top_clusters = grouped_users_hnsw['hnsw_cluster'].value_counts().head(5).index\n",
    "print(hnsw_cluster_data.loc[top_clusters, ['num_orders', 'num_products', 'mean_days_since']])"
   ]
  },
  {
   "cell_type": "code",
   "execution_count": null,
   "metadata": {},
   "outputs": [],
   "source": [
    "# Performance comparison summary\n",
    "print(\"=\"*70)\n",
    "print(\"CLUSTERING METHODS COMPARISON SUMMARY\")\n",
    "print(\"=\"*70)\n",
    "\n",
    "print(\"\\n1. COMPUTATIONAL PERFORMANCE:\")\n",
    "print(f\"   KMeans training time: Not timed in this session\")\n",
    "print(f\"   HNSW index build time: {build_time:.2f} seconds\")\n",
    "print(f\"   HNSW neighbor search time: {query_time:.2f} seconds\")\n",
    "print(f\"   HNSW clustering time: {clustering_time:.2f} seconds\")\n",
    "print(f\"   HNSW total time: {build_time + query_time + clustering_time:.2f} seconds\")\n",
    "\n",
    "print(\"\\n2. CLUSTERING QUALITY:\")\n",
    "print(f\"   KMeans CH Score: {kmeans_ch_score:.2f}\")\n",
    "print(f\"   HNSW CH Score: {hnsw_ch_score:.2f}\")\n",
    "print(f\"   KMeans Silhouette: {kmeans_sil_score:.4f}\")\n",
    "print(f\"   HNSW Silhouette: {hnsw_sil_score:.4f}\")\n",
    "\n",
    "print(\"\\n3. CLUSTER STRUCTURE:\")\n",
    "print(f\"   KMeans clusters: {len(set(k_means_20.labels_))}\")\n",
    "print(f\"   HNSW clusters: {len(set(hnsw_cluster_labels))}\")\n",
    "print(f\"   KMeans largest cluster: {max(np.bincount(k_means_20.labels_))} users\")\n",
    "print(f\"   HNSW largest cluster: {max(np.bincount(hnsw_cluster_labels))} users\")\n",
    "\n",
    "print(\"\\n4. KEY DIFFERENCES:\")\n",
    "print(\"   - KMeans: Fixed number of clusters, centroid-based\")\n",
    "print(\"   - HNSW: Adaptive clusters, density-based on nearest neighbors\")\n",
    "print(\"   - KMeans: Assumes spherical clusters\")\n",
    "print(\"   - HNSW: Can capture arbitrary cluster shapes\")\n",
    "print(\"   - KMeans: Faster for small/medium datasets\")\n",
    "print(\"   - HNSW: Scales better for large datasets with fast queries\")\n",
    "\n",
    "print(\"\\n\" + \"=\"*70)"
   ]
  },
  {
   "cell_type": "markdown",
   "metadata": {},
   "source": [
    "### HNSW Clustering Conclusions\n",
    "\n",
    "The HNSW-based clustering approach offers several advantages over traditional KMeans:\n",
    "\n",
    "1. **Scalability**: HNSW excels with large datasets, providing sub-millisecond query times for nearest neighbor searches. This makes it ideal for real-time recommendation systems.\n",
    "\n",
    "2. **Flexibility**: Unlike KMeans which requires specifying the number of clusters in advance, HNSW-based clustering can automatically discover natural groupings in the data based on local density and neighbor relationships.\n",
    "\n",
    "3. **Cluster Shape**: HNSW can identify clusters of arbitrary shapes, while KMeans assumes spherical clusters. This is particularly useful for complex user behavior patterns.\n",
    "\n",
    "4. **Constraints Applied**:\n",
    "   - HNSW index built with M=16 (balanced connectivity)\n",
    "   - ef_construction=200 (high-quality index)\n",
    "   - ef=50 for queries (good recall-speed tradeoff)\n",
    "   - Minimum 5 shared neighbors for cluster membership\n",
    "\n",
    "5. **Use Cases**:\n",
    "   - **KMeans**: Better when you need a fixed number of interpretable clusters for business reporting\n",
    "   - **HNSW**: Better for dynamic recommendation systems that need fast similarity searches\n",
    "\n",
    "Both methods provide valuable insights into user segmentation and can be used complementarily in a production recommendation system."
   ]
  },
  {
   "cell_type": "markdown",
   "metadata": {},
   "source": [
    "## NLP Metadata search engine"
   ]
  },
  {
   "cell_type": "code",
   "execution_count": 193,
   "metadata": {},
   "outputs": [],
   "source": [
    "from sklearn.metrics.pairwise import cosine_similarity\n",
    "from sklearn.feature_extraction.text import CountVectorizer"
   ]
  },
  {
   "cell_type": "code",
   "execution_count": 194,
   "metadata": {
    "scrolled": true
   },
   "outputs": [],
   "source": [
    "products_desc = pickle.load(open(\"Pickle/products_desc.p\", \"rb\"))"
   ]
  },
  {
   "cell_type": "markdown",
   "metadata": {},
   "source": [
    "### Create the metadata and fit to a vectorizer"
   ]
  },
  {
   "cell_type": "code",
   "execution_count": 195,
   "metadata": {},
   "outputs": [],
   "source": [
    "products_desc['metadata'] = products_desc.apply(lambda x : x['aisle']+' '+x['department']+' '+x['product_name'], axis = 1)"
   ]
  },
  {
   "cell_type": "code",
   "execution_count": 196,
   "metadata": {
    "scrolled": true
   },
   "outputs": [
    {
     "data": {
      "text/html": [
       "<div>\n",
       "<style scoped>\n",
       "    .dataframe tbody tr th:only-of-type {\n",
       "        vertical-align: middle;\n",
       "    }\n",
       "\n",
       "    .dataframe tbody tr th {\n",
       "        vertical-align: top;\n",
       "    }\n",
       "\n",
       "    .dataframe thead th {\n",
       "        text-align: right;\n",
       "    }\n",
       "</style>\n",
       "<table border=\"1\" class=\"dataframe\">\n",
       "  <thead>\n",
       "    <tr style=\"text-align: right;\">\n",
       "      <th></th>\n",
       "      <th>product_id</th>\n",
       "      <th>product_name</th>\n",
       "      <th>aisle_id</th>\n",
       "      <th>department_id</th>\n",
       "      <th>aisle</th>\n",
       "      <th>department</th>\n",
       "      <th>metadata</th>\n",
       "    </tr>\n",
       "  </thead>\n",
       "  <tbody>\n",
       "    <tr>\n",
       "      <th>0</th>\n",
       "      <td>1</td>\n",
       "      <td>Chocolate Sandwich Cookies</td>\n",
       "      <td>61</td>\n",
       "      <td>19</td>\n",
       "      <td>cookies cakes</td>\n",
       "      <td>snacks</td>\n",
       "      <td>cookies cakes snacks Chocolate Sandwich Cookies</td>\n",
       "    </tr>\n",
       "    <tr>\n",
       "      <th>1</th>\n",
       "      <td>2</td>\n",
       "      <td>All-Seasons Salt</td>\n",
       "      <td>104</td>\n",
       "      <td>13</td>\n",
       "      <td>spices seasonings</td>\n",
       "      <td>pantry</td>\n",
       "      <td>spices seasonings pantry All-Seasons Salt</td>\n",
       "    </tr>\n",
       "    <tr>\n",
       "      <th>2</th>\n",
       "      <td>3</td>\n",
       "      <td>Robust Golden Unsweetened Oolong Tea</td>\n",
       "      <td>94</td>\n",
       "      <td>7</td>\n",
       "      <td>tea</td>\n",
       "      <td>beverages</td>\n",
       "      <td>tea beverages Robust Golden Unsweetened Oolong...</td>\n",
       "    </tr>\n",
       "    <tr>\n",
       "      <th>3</th>\n",
       "      <td>4</td>\n",
       "      <td>Smart Ones Classic Favorites Mini Rigatoni Wit...</td>\n",
       "      <td>38</td>\n",
       "      <td>1</td>\n",
       "      <td>frozen meals</td>\n",
       "      <td>frozen</td>\n",
       "      <td>frozen meals frozen Smart Ones Classic Favorit...</td>\n",
       "    </tr>\n",
       "    <tr>\n",
       "      <th>4</th>\n",
       "      <td>5</td>\n",
       "      <td>Green Chile Anytime Sauce</td>\n",
       "      <td>5</td>\n",
       "      <td>13</td>\n",
       "      <td>marinades meat preparation</td>\n",
       "      <td>pantry</td>\n",
       "      <td>marinades meat preparation pantry Green Chile ...</td>\n",
       "    </tr>\n",
       "  </tbody>\n",
       "</table>\n",
       "</div>"
      ],
      "text/plain": [
       "   product_id                                       product_name  aisle_id  \\\n",
       "0           1                         Chocolate Sandwich Cookies        61   \n",
       "1           2                                   All-Seasons Salt       104   \n",
       "2           3               Robust Golden Unsweetened Oolong Tea        94   \n",
       "3           4  Smart Ones Classic Favorites Mini Rigatoni Wit...        38   \n",
       "4           5                          Green Chile Anytime Sauce         5   \n",
       "\n",
       "   department_id                       aisle department  \\\n",
       "0             19               cookies cakes     snacks   \n",
       "1             13           spices seasonings     pantry   \n",
       "2              7                         tea  beverages   \n",
       "3              1                frozen meals     frozen   \n",
       "4             13  marinades meat preparation     pantry   \n",
       "\n",
       "                                            metadata  \n",
       "0    cookies cakes snacks Chocolate Sandwich Cookies  \n",
       "1          spices seasonings pantry All-Seasons Salt  \n",
       "2  tea beverages Robust Golden Unsweetened Oolong...  \n",
       "3  frozen meals frozen Smart Ones Classic Favorit...  \n",
       "4  marinades meat preparation pantry Green Chile ...  "
      ]
     },
     "execution_count": 196,
     "metadata": {},
     "output_type": "execute_result"
    }
   ],
   "source": [
    "products_desc.head()"
   ]
  },
  {
   "cell_type": "code",
   "execution_count": 197,
   "metadata": {},
   "outputs": [],
   "source": [
    "count_vec = CountVectorizer(stop_words='english')\n",
    "count_vec_matrix = count_vec.fit_transform(products_desc['metadata'])"
   ]
  },
  {
   "cell_type": "code",
   "execution_count": 198,
   "metadata": {},
   "outputs": [
    {
     "data": {
      "text/plain": [
       "(5688, 4139)"
      ]
     },
     "execution_count": 198,
     "metadata": {},
     "output_type": "execute_result"
    }
   ],
   "source": [
    "count_vec_matrix.shape"
   ]
  },
  {
   "cell_type": "code",
   "execution_count": 199,
   "metadata": {},
   "outputs": [],
   "source": [
    "# This function takes in any words and vectorizes them, then finds similar vector in the count_vec_matrix\n",
    "\n",
    "def vectorize_products_based_on_metadata(product_input):\n",
    "\n",
    "    vec = count_vec.transform(pd.Series(product_input))\n",
    "    \n",
    "    simil = cosine_similarity(vec, count_vec_matrix)\n",
    "    \n",
    "    simil_scores = pd.DataFrame(simil.reshape(5688,), index = products_desc.index, columns=['score'])\n",
    "    \n",
    "    # Don't return scores of zero, only as many positive scores as exist\n",
    "    non_zero_scores = simil_scores[simil_scores['score'] > 0]\n",
    "    \n",
    "    if len(non_zero_scores) == 0:\n",
    "        print('No similar products found.  Please refine your search terms and try again')\n",
    "        return\n",
    "    \n",
    "    if len(non_zero_scores) < 10:\n",
    "        item_count = len(non_zero_scores)\n",
    "    else:\n",
    "        item_count = 10\n",
    "    \n",
    "    similarity_scores = simil_scores.sort_values(['score'], ascending=False)[:item_count]\n",
    "    \n",
    "    return (products_desc['product_name'].iloc[similarity_scores.index])"
   ]
  },
  {
   "cell_type": "code",
   "execution_count": 200,
   "metadata": {
    "scrolled": true
   },
   "outputs": [
    {
     "data": {
      "text/plain": [
       "3490    Everyday Shea Lavender Bubble Bath\n",
       "3865              Calendula Baby Bath Wash\n",
       "1618                 Lavender Seaweed Bath\n",
       "1899                          Bath Laponge\n",
       "2085          Sustainably Soft Bath Tissue\n",
       "1481      Bath Tissue 1000 Sheets Per Roll\n",
       "3520        Cool Watermelon 2-In-1 Shampoo\n",
       "2684               Calming Everyday Lotion\n",
       "4310      1000 Sheets Per Roll Bath Tissue\n",
       "4541                  Diaper Rash Ointment\n",
       "Name: product_name, dtype: object"
      ]
     },
     "execution_count": 200,
     "metadata": {},
     "output_type": "execute_result"
    }
   ],
   "source": [
    "vectorize_products_based_on_metadata('Bubble Bath')"
   ]
  },
  {
   "cell_type": "code",
   "execution_count": 201,
   "metadata": {
    "scrolled": true
   },
   "outputs": [
    {
     "data": {
      "text/plain": [
       "2408                    Oreo Mini 20 Count Multipack 20oz\n",
       "3125                          Oreo Cookie n' Cream Yogurt\n",
       "795        Chocolate Reese's Peanut Butter Cup Creme Oreo\n",
       "3259               Chips Ahoy!/Nutter Butter/Oreo Cookies\n",
       "4056    Oreo Instant Cookies 'n Cream Pudding & Pie Fi...\n",
       "590     Oreo Cookies and Cream Chocolate Frozen Dairy ...\n",
       "Name: product_name, dtype: object"
      ]
     },
     "execution_count": 201,
     "metadata": {},
     "output_type": "execute_result"
    }
   ],
   "source": [
    "vectorize_products_based_on_metadata('Oreo')"
   ]
  },
  {
   "cell_type": "code",
   "execution_count": 202,
   "metadata": {
    "scrolled": true
   },
   "outputs": [
    {
     "name": "stdout",
     "output_type": "stream",
     "text": [
      "No similar products found.  Please refine your search terms and try again\n"
     ]
    }
   ],
   "source": [
    "vectorize_products_based_on_metadata('Oreos')\n",
    "\n",
    "# Interesting that only results with \"oreos\" show up and not 'oreo'"
   ]
  },
  {
   "cell_type": "code",
   "execution_count": 203,
   "metadata": {},
   "outputs": [
    {
     "data": {
      "text/plain": [
       "1623             Chocolate Cookies\n",
       "0       Chocolate Sandwich Cookies\n",
       "2962      Lemon Shortbread Cookies\n",
       "101          Danish Butter Cookies\n",
       "5518          Cinnamon Bun Cookies\n",
       "4690        Creme Sandwich Cookies\n",
       "575          Vanilla Sugar Cookies\n",
       "5388         Circus Animal Cookies\n",
       "2516        Vanilla Animal Cookies\n",
       "3416       Chocolate Creme Cookies\n",
       "Name: product_name, dtype: object"
      ]
     },
     "execution_count": 203,
     "metadata": {},
     "output_type": "execute_result"
    }
   ],
   "source": [
    "vectorize_products_based_on_metadata('Oreos Cookies')\n",
    "\n",
    "# Even adding 'cookies' doesn't get me oreo"
   ]
  },
  {
   "cell_type": "code",
   "execution_count": 204,
   "metadata": {
    "scrolled": false
   },
   "outputs": [
    {
     "data": {
      "text/plain": [
       "5597                              Organic Tamari Almonds\n",
       "4149                                       Premium Genoa\n",
       "1942                                Mango Premium Nectar\n",
       "3432    Sensitivity Ultra Thin Premium Lubricant Condoms\n",
       "1414                                   Premium Soy Sauce\n",
       "3037                               Premium Malt Beverage\n",
       "2810                         Ground Almonds For Passover\n",
       "642                          Kidney Beans, Dark, Premium\n",
       "4107                                    Almonds, Marcona\n",
       "4610                Fair Trade Blackberry Premium Spread\n",
       "Name: product_name, dtype: object"
      ]
     },
     "execution_count": 204,
     "metadata": {},
     "output_type": "execute_result"
    }
   ],
   "source": [
    "vectorize_products_based_on_metadata('Premium Almonds')"
   ]
  },
  {
   "cell_type": "code",
   "execution_count": 205,
   "metadata": {},
   "outputs": [
    {
     "data": {
      "text/plain": [
       "3492                                    Baby Red Potatoes\n",
       "5651                                 Organic Red Potatoes\n",
       "4739                                            Decoy Red\n",
       "2902                                            Sweet Red\n",
       "1698                                     Jumilla Red Wine\n",
       "566                                       Malbec Red Wine\n",
       "3496                            Grape Wine, Delicious Red\n",
       "478               Most Wanted Cabernet Sauvignon Red Wine\n",
       "3827              Midnight California Dark Red Wine Blend\n",
       "318     Steamfresh Chef's Favorites Lightly Sauced Roa...\n",
       "Name: product_name, dtype: object"
      ]
     },
     "execution_count": 205,
     "metadata": {},
     "output_type": "execute_result"
    }
   ],
   "source": [
    "# I'd rather put more weight on the noun and less on the adjective\n",
    "# Can look into word embeddings for this\n",
    "\n",
    "vectorize_products_based_on_metadata('Red Potatoes')"
   ]
  },
  {
   "cell_type": "code",
   "execution_count": 206,
   "metadata": {
    "scrolled": true
   },
   "outputs": [
    {
     "name": "stdout",
     "output_type": "stream",
     "text": [
      "No similar products found.  Please refine your search terms and try again\n"
     ]
    }
   ],
   "source": [
    "vectorize_products_based_on_metadata('randomword') # Showing edge case of no matches"
   ]
  },
  {
   "cell_type": "markdown",
   "metadata": {},
   "source": [
    "### Stem the product metadata and refit\n",
    "\n",
    "These are mostly proper names of products so I don't think I want to lemmatize as that may change the product name too much."
   ]
  },
  {
   "cell_type": "code",
   "execution_count": 207,
   "metadata": {},
   "outputs": [],
   "source": [
    "import nltk\n",
    "from nltk.stem.snowball import SnowballStemmer\n",
    "\n",
    "stemmer = SnowballStemmer(\"english\") "
   ]
  },
  {
   "cell_type": "code",
   "execution_count": 208,
   "metadata": {},
   "outputs": [
    {
     "name": "stderr",
     "output_type": "stream",
     "text": [
      "[nltk_data] Downloading package punkt to C:\\Users\\Echlon\n",
      "[nltk_data]     Defence\\AppData\\Roaming\\nltk_data...\n",
      "[nltk_data]   Package punkt is already up-to-date!\n"
     ]
    },
    {
     "data": {
      "text/plain": [
       "True"
      ]
     },
     "execution_count": 208,
     "metadata": {},
     "output_type": "execute_result"
    }
   ],
   "source": [
    "import nltk\n",
    "nltk.download('punkt')"
   ]
  },
  {
   "cell_type": "code",
   "execution_count": 209,
   "metadata": {
    "scrolled": true
   },
   "outputs": [],
   "source": [
    "stem_list=[]\n",
    "for i in range(len(products_desc['metadata'])):\n",
    "    word_list = nltk.word_tokenize(products_desc['metadata'][i])\n",
    "    stem_set = list(set([stemmer.stem(word) for word in word_list]))\n",
    "    stem_list.append(' '.join(stem_set))"
   ]
  },
  {
   "cell_type": "code",
   "execution_count": 210,
   "metadata": {},
   "outputs": [],
   "source": [
    "from collections import defaultdict\n",
    "word_count=defaultdict(int)\n",
    "for idx, product in enumerate(stem_list):\n",
    "    for word in product.split():\n",
    "        word_count[word] +=1"
   ]
  },
  {
   "cell_type": "code",
   "execution_count": 211,
   "metadata": {
    "scrolled": true
   },
   "outputs": [],
   "source": [
    "# word_count"
   ]
  },
  {
   "cell_type": "code",
   "execution_count": 212,
   "metadata": {},
   "outputs": [],
   "source": [
    "# trying to figure out how to make this smaller for FLASK\n",
    "# Can I remove words only used once?\n",
    "\n",
    "word_ones=[]\n",
    "for word, count in word_count.items():\n",
    "    if count == 1:\n",
    "        word_ones.append(word)"
   ]
  },
  {
   "cell_type": "code",
   "execution_count": 213,
   "metadata": {
    "scrolled": true
   },
   "outputs": [
    {
     "data": {
      "text/plain": [
       "1827"
      ]
     },
     "execution_count": 213,
     "metadata": {},
     "output_type": "execute_result"
    }
   ],
   "source": [
    "len(word_ones)"
   ]
  },
  {
   "cell_type": "code",
   "execution_count": 214,
   "metadata": {},
   "outputs": [],
   "source": [
    "new_stem_list=[]\n",
    "for i in range(len(products_desc['metadata'])):\n",
    "    word_list = nltk.word_tokenize(products_desc['metadata'][i])\n",
    "    stem_set = list(set([stemmer.stem(word) for word in word_list if stemmer.stem(word) not in word_ones]))\n",
    "    new_stem_list.append(' '.join(stem_set))        "
   ]
  },
  {
   "cell_type": "code",
   "execution_count": 215,
   "metadata": {},
   "outputs": [],
   "source": [
    "products_desc['stemmed'] = stem_list\n",
    "products_desc['new_stemmed'] = new_stem_list"
   ]
  },
  {
   "cell_type": "code",
   "execution_count": 216,
   "metadata": {
    "scrolled": false
   },
   "outputs": [
    {
     "data": {
      "text/html": [
       "<div>\n",
       "<style scoped>\n",
       "    .dataframe tbody tr th:only-of-type {\n",
       "        vertical-align: middle;\n",
       "    }\n",
       "\n",
       "    .dataframe tbody tr th {\n",
       "        vertical-align: top;\n",
       "    }\n",
       "\n",
       "    .dataframe thead th {\n",
       "        text-align: right;\n",
       "    }\n",
       "</style>\n",
       "<table border=\"1\" class=\"dataframe\">\n",
       "  <thead>\n",
       "    <tr style=\"text-align: right;\">\n",
       "      <th></th>\n",
       "      <th>product_id</th>\n",
       "      <th>product_name</th>\n",
       "      <th>aisle_id</th>\n",
       "      <th>department_id</th>\n",
       "      <th>aisle</th>\n",
       "      <th>department</th>\n",
       "      <th>metadata</th>\n",
       "      <th>stemmed</th>\n",
       "      <th>new_stemmed</th>\n",
       "    </tr>\n",
       "  </thead>\n",
       "  <tbody>\n",
       "    <tr>\n",
       "      <th>0</th>\n",
       "      <td>1</td>\n",
       "      <td>Chocolate Sandwich Cookies</td>\n",
       "      <td>61</td>\n",
       "      <td>19</td>\n",
       "      <td>cookies cakes</td>\n",
       "      <td>snacks</td>\n",
       "      <td>cookies cakes snacks Chocolate Sandwich Cookies</td>\n",
       "      <td>sandwich cooki snack cake chocol</td>\n",
       "      <td>sandwich cooki snack cake chocol</td>\n",
       "    </tr>\n",
       "    <tr>\n",
       "      <th>1</th>\n",
       "      <td>2</td>\n",
       "      <td>All-Seasons Salt</td>\n",
       "      <td>104</td>\n",
       "      <td>13</td>\n",
       "      <td>spices seasonings</td>\n",
       "      <td>pantry</td>\n",
       "      <td>spices seasonings pantry All-Seasons Salt</td>\n",
       "      <td>season spice pantri all-season salt</td>\n",
       "      <td>salt season pantri spice</td>\n",
       "    </tr>\n",
       "    <tr>\n",
       "      <th>2</th>\n",
       "      <td>3</td>\n",
       "      <td>Robust Golden Unsweetened Oolong Tea</td>\n",
       "      <td>94</td>\n",
       "      <td>7</td>\n",
       "      <td>tea</td>\n",
       "      <td>beverages</td>\n",
       "      <td>tea beverages Robust Golden Unsweetened Oolong...</td>\n",
       "      <td>robust golden tea unsweeten oolong beverag</td>\n",
       "      <td>golden oolong tea unsweeten beverag</td>\n",
       "    </tr>\n",
       "    <tr>\n",
       "      <th>3</th>\n",
       "      <td>4</td>\n",
       "      <td>Smart Ones Classic Favorites Mini Rigatoni Wit...</td>\n",
       "      <td>38</td>\n",
       "      <td>1</td>\n",
       "      <td>frozen meals</td>\n",
       "      <td>frozen</td>\n",
       "      <td>frozen meals frozen Smart Ones Classic Favorit...</td>\n",
       "      <td>vodka sauc mini rigatoni meal favorit frozen c...</td>\n",
       "      <td>vodka sauc mini rigatoni meal favorit frozen c...</td>\n",
       "    </tr>\n",
       "    <tr>\n",
       "      <th>4</th>\n",
       "      <td>5</td>\n",
       "      <td>Green Chile Anytime Sauce</td>\n",
       "      <td>5</td>\n",
       "      <td>13</td>\n",
       "      <td>marinades meat preparation</td>\n",
       "      <td>pantry</td>\n",
       "      <td>marinades meat preparation pantry Green Chile ...</td>\n",
       "      <td>anytim sauc marinad prepar green meat pantri c...</td>\n",
       "      <td>sauc marinad prepar green meat pantri chile</td>\n",
       "    </tr>\n",
       "  </tbody>\n",
       "</table>\n",
       "</div>"
      ],
      "text/plain": [
       "   product_id                                       product_name  aisle_id  \\\n",
       "0           1                         Chocolate Sandwich Cookies        61   \n",
       "1           2                                   All-Seasons Salt       104   \n",
       "2           3               Robust Golden Unsweetened Oolong Tea        94   \n",
       "3           4  Smart Ones Classic Favorites Mini Rigatoni Wit...        38   \n",
       "4           5                          Green Chile Anytime Sauce         5   \n",
       "\n",
       "   department_id                       aisle department  \\\n",
       "0             19               cookies cakes     snacks   \n",
       "1             13           spices seasonings     pantry   \n",
       "2              7                         tea  beverages   \n",
       "3              1                frozen meals     frozen   \n",
       "4             13  marinades meat preparation     pantry   \n",
       "\n",
       "                                            metadata  \\\n",
       "0    cookies cakes snacks Chocolate Sandwich Cookies   \n",
       "1          spices seasonings pantry All-Seasons Salt   \n",
       "2  tea beverages Robust Golden Unsweetened Oolong...   \n",
       "3  frozen meals frozen Smart Ones Classic Favorit...   \n",
       "4  marinades meat preparation pantry Green Chile ...   \n",
       "\n",
       "                                             stemmed  \\\n",
       "0                   sandwich cooki snack cake chocol   \n",
       "1                season spice pantri all-season salt   \n",
       "2         robust golden tea unsweeten oolong beverag   \n",
       "3  vodka sauc mini rigatoni meal favorit frozen c...   \n",
       "4  anytim sauc marinad prepar green meat pantri c...   \n",
       "\n",
       "                                         new_stemmed  \n",
       "0                   sandwich cooki snack cake chocol  \n",
       "1                           salt season pantri spice  \n",
       "2                golden oolong tea unsweeten beverag  \n",
       "3  vodka sauc mini rigatoni meal favorit frozen c...  \n",
       "4        sauc marinad prepar green meat pantri chile  "
      ]
     },
     "execution_count": 216,
     "metadata": {},
     "output_type": "execute_result"
    }
   ],
   "source": [
    "products_desc.head()"
   ]
  },
  {
   "cell_type": "code",
   "execution_count": 217,
   "metadata": {},
   "outputs": [],
   "source": [
    "products_desc.to_pickle(\"Pickle/products_desc_stemmed.p\")"
   ]
  },
  {
   "cell_type": "code",
   "execution_count": 218,
   "metadata": {},
   "outputs": [],
   "source": [
    "products_desc_stemmed = pickle.load(open(\"Pickle/products_desc_stemmed.p\", \"rb\"))"
   ]
  },
  {
   "cell_type": "code",
   "execution_count": 219,
   "metadata": {},
   "outputs": [],
   "source": [
    "# Passing pieces of dataframe in FLASK to be put back together there\n",
    "pickle.dump(products_desc_stemmed.columns.values,open('Pickle/prod_columns.p','wb'))\n",
    "pickle.dump(products_desc_stemmed.index.values, open('Pickle/prod_index.p', 'wb'))\n",
    "pickle.dump(products_desc_stemmed.product_name.values, open('Pickle/prod_name.p', 'wb'))\n",
    "pickle.dump(products_desc_stemmed.aisle.values, open('Pickle/prod_aisle.p', 'wb'))\n",
    "pickle.dump(products_desc_stemmed.product_id.values, open('Pickle/prod_id.p', 'wb'))"
   ]
  },
  {
   "cell_type": "code",
   "execution_count": 220,
   "metadata": {},
   "outputs": [
    {
     "data": {
      "text/plain": [
       "array(['Chocolate Sandwich Cookies', 'All-Seasons Salt',\n",
       "       'Robust Golden Unsweetened Oolong Tea', ...,\n",
       "       'Organic Vegi-D Zing Salad Salt Free',\n",
       "       'Multi Cat Unscented Scoopable Cat Litter',\n",
       "       'Organic Tofu Veggie Burger'], dtype=object)"
      ]
     },
     "execution_count": 220,
     "metadata": {},
     "output_type": "execute_result"
    }
   ],
   "source": [
    "products_desc_stemmed.product_name.values"
   ]
  },
  {
   "cell_type": "code",
   "execution_count": 221,
   "metadata": {
    "scrolled": true
   },
   "outputs": [
    {
     "data": {
      "text/html": [
       "<div>\n",
       "<style scoped>\n",
       "    .dataframe tbody tr th:only-of-type {\n",
       "        vertical-align: middle;\n",
       "    }\n",
       "\n",
       "    .dataframe tbody tr th {\n",
       "        vertical-align: top;\n",
       "    }\n",
       "\n",
       "    .dataframe thead th {\n",
       "        text-align: right;\n",
       "    }\n",
       "</style>\n",
       "<table border=\"1\" class=\"dataframe\">\n",
       "  <thead>\n",
       "    <tr style=\"text-align: right;\">\n",
       "      <th></th>\n",
       "      <th>product_id</th>\n",
       "      <th>product_name</th>\n",
       "      <th>aisle_id</th>\n",
       "      <th>department_id</th>\n",
       "      <th>aisle</th>\n",
       "      <th>department</th>\n",
       "      <th>metadata</th>\n",
       "      <th>stemmed</th>\n",
       "      <th>new_stemmed</th>\n",
       "    </tr>\n",
       "  </thead>\n",
       "  <tbody>\n",
       "    <tr>\n",
       "      <th>0</th>\n",
       "      <td>1</td>\n",
       "      <td>Chocolate Sandwich Cookies</td>\n",
       "      <td>61</td>\n",
       "      <td>19</td>\n",
       "      <td>cookies cakes</td>\n",
       "      <td>snacks</td>\n",
       "      <td>cookies cakes snacks Chocolate Sandwich Cookies</td>\n",
       "      <td>sandwich cooki snack cake chocol</td>\n",
       "      <td>sandwich cooki snack cake chocol</td>\n",
       "    </tr>\n",
       "    <tr>\n",
       "      <th>1</th>\n",
       "      <td>2</td>\n",
       "      <td>All-Seasons Salt</td>\n",
       "      <td>104</td>\n",
       "      <td>13</td>\n",
       "      <td>spices seasonings</td>\n",
       "      <td>pantry</td>\n",
       "      <td>spices seasonings pantry All-Seasons Salt</td>\n",
       "      <td>season spice pantri all-season salt</td>\n",
       "      <td>salt season pantri spice</td>\n",
       "    </tr>\n",
       "    <tr>\n",
       "      <th>2</th>\n",
       "      <td>3</td>\n",
       "      <td>Robust Golden Unsweetened Oolong Tea</td>\n",
       "      <td>94</td>\n",
       "      <td>7</td>\n",
       "      <td>tea</td>\n",
       "      <td>beverages</td>\n",
       "      <td>tea beverages Robust Golden Unsweetened Oolong...</td>\n",
       "      <td>robust golden tea unsweeten oolong beverag</td>\n",
       "      <td>golden oolong tea unsweeten beverag</td>\n",
       "    </tr>\n",
       "    <tr>\n",
       "      <th>3</th>\n",
       "      <td>4</td>\n",
       "      <td>Smart Ones Classic Favorites Mini Rigatoni Wit...</td>\n",
       "      <td>38</td>\n",
       "      <td>1</td>\n",
       "      <td>frozen meals</td>\n",
       "      <td>frozen</td>\n",
       "      <td>frozen meals frozen Smart Ones Classic Favorit...</td>\n",
       "      <td>vodka sauc mini rigatoni meal favorit frozen c...</td>\n",
       "      <td>vodka sauc mini rigatoni meal favorit frozen c...</td>\n",
       "    </tr>\n",
       "    <tr>\n",
       "      <th>4</th>\n",
       "      <td>5</td>\n",
       "      <td>Green Chile Anytime Sauce</td>\n",
       "      <td>5</td>\n",
       "      <td>13</td>\n",
       "      <td>marinades meat preparation</td>\n",
       "      <td>pantry</td>\n",
       "      <td>marinades meat preparation pantry Green Chile ...</td>\n",
       "      <td>anytim sauc marinad prepar green meat pantri c...</td>\n",
       "      <td>sauc marinad prepar green meat pantri chile</td>\n",
       "    </tr>\n",
       "    <tr>\n",
       "      <th>...</th>\n",
       "      <td>...</td>\n",
       "      <td>...</td>\n",
       "      <td>...</td>\n",
       "      <td>...</td>\n",
       "      <td>...</td>\n",
       "      <td>...</td>\n",
       "      <td>...</td>\n",
       "      <td>...</td>\n",
       "      <td>...</td>\n",
       "    </tr>\n",
       "    <tr>\n",
       "      <th>5683</th>\n",
       "      <td>5684</td>\n",
       "      <td>Gluten Free Multi Seed Rice Thin Crackers</td>\n",
       "      <td>78</td>\n",
       "      <td>19</td>\n",
       "      <td>crackers</td>\n",
       "      <td>snacks</td>\n",
       "      <td>crackers snacks Gluten Free Multi Seed Rice Th...</td>\n",
       "      <td>multi seed snack free rice thin gluten cracker</td>\n",
       "      <td>multi seed snack free rice thin gluten cracker</td>\n",
       "    </tr>\n",
       "    <tr>\n",
       "      <th>5684</th>\n",
       "      <td>5685</td>\n",
       "      <td>Get Clean Cleansing Teas</td>\n",
       "      <td>94</td>\n",
       "      <td>7</td>\n",
       "      <td>tea</td>\n",
       "      <td>beverages</td>\n",
       "      <td>tea beverages Get Clean Cleansing Teas</td>\n",
       "      <td>get clean cleans tea beverag</td>\n",
       "      <td>get clean cleans tea beverag</td>\n",
       "    </tr>\n",
       "    <tr>\n",
       "      <th>5685</th>\n",
       "      <td>5686</td>\n",
       "      <td>Organic Vegi-D Zing Salad Salt Free</td>\n",
       "      <td>14</td>\n",
       "      <td>20</td>\n",
       "      <td>tofu meat alternatives</td>\n",
       "      <td>deli</td>\n",
       "      <td>tofu meat alternatives deli Organic Vegi-D Zin...</td>\n",
       "      <td>deli vegi-d zing organ tofu meat free salad sa...</td>\n",
       "      <td>deli organ tofu meat free salad salt altern</td>\n",
       "    </tr>\n",
       "    <tr>\n",
       "      <th>5686</th>\n",
       "      <td>5687</td>\n",
       "      <td>Multi Cat Unscented Scoopable Cat Litter</td>\n",
       "      <td>41</td>\n",
       "      <td>8</td>\n",
       "      <td>cat food care</td>\n",
       "      <td>pets</td>\n",
       "      <td>cat food care pets Multi Cat Unscented Scoopab...</td>\n",
       "      <td>food multi cat litter pet unscent scoopabl care</td>\n",
       "      <td>food multi cat litter pet unscent care</td>\n",
       "    </tr>\n",
       "    <tr>\n",
       "      <th>5687</th>\n",
       "      <td>5688</td>\n",
       "      <td>Organic Tofu Veggie Burger</td>\n",
       "      <td>14</td>\n",
       "      <td>20</td>\n",
       "      <td>tofu meat alternatives</td>\n",
       "      <td>deli</td>\n",
       "      <td>tofu meat alternatives deli Organic Tofu Veggi...</td>\n",
       "      <td>deli veggi organ tofu meat altern burger</td>\n",
       "      <td>deli veggi organ tofu meat altern burger</td>\n",
       "    </tr>\n",
       "  </tbody>\n",
       "</table>\n",
       "<p>5688 rows \u00d7 9 columns</p>\n",
       "</div>"
      ],
      "text/plain": [
       "      product_id                                       product_name  aisle_id  \\\n",
       "0              1                         Chocolate Sandwich Cookies        61   \n",
       "1              2                                   All-Seasons Salt       104   \n",
       "2              3               Robust Golden Unsweetened Oolong Tea        94   \n",
       "3              4  Smart Ones Classic Favorites Mini Rigatoni Wit...        38   \n",
       "4              5                          Green Chile Anytime Sauce         5   \n",
       "...          ...                                                ...       ...   \n",
       "5683        5684          Gluten Free Multi Seed Rice Thin Crackers        78   \n",
       "5684        5685                           Get Clean Cleansing Teas        94   \n",
       "5685        5686                Organic Vegi-D Zing Salad Salt Free        14   \n",
       "5686        5687           Multi Cat Unscented Scoopable Cat Litter        41   \n",
       "5687        5688                         Organic Tofu Veggie Burger        14   \n",
       "\n",
       "      department_id                       aisle department  \\\n",
       "0                19               cookies cakes     snacks   \n",
       "1                13           spices seasonings     pantry   \n",
       "2                 7                         tea  beverages   \n",
       "3                 1                frozen meals     frozen   \n",
       "4                13  marinades meat preparation     pantry   \n",
       "...             ...                         ...        ...   \n",
       "5683             19                    crackers     snacks   \n",
       "5684              7                         tea  beverages   \n",
       "5685             20      tofu meat alternatives       deli   \n",
       "5686              8               cat food care       pets   \n",
       "5687             20      tofu meat alternatives       deli   \n",
       "\n",
       "                                               metadata  \\\n",
       "0       cookies cakes snacks Chocolate Sandwich Cookies   \n",
       "1             spices seasonings pantry All-Seasons Salt   \n",
       "2     tea beverages Robust Golden Unsweetened Oolong...   \n",
       "3     frozen meals frozen Smart Ones Classic Favorit...   \n",
       "4     marinades meat preparation pantry Green Chile ...   \n",
       "...                                                 ...   \n",
       "5683  crackers snacks Gluten Free Multi Seed Rice Th...   \n",
       "5684             tea beverages Get Clean Cleansing Teas   \n",
       "5685  tofu meat alternatives deli Organic Vegi-D Zin...   \n",
       "5686  cat food care pets Multi Cat Unscented Scoopab...   \n",
       "5687  tofu meat alternatives deli Organic Tofu Veggi...   \n",
       "\n",
       "                                                stemmed  \\\n",
       "0                      sandwich cooki snack cake chocol   \n",
       "1                   season spice pantri all-season salt   \n",
       "2            robust golden tea unsweeten oolong beverag   \n",
       "3     vodka sauc mini rigatoni meal favorit frozen c...   \n",
       "4     anytim sauc marinad prepar green meat pantri c...   \n",
       "...                                                 ...   \n",
       "5683     multi seed snack free rice thin gluten cracker   \n",
       "5684                       get clean cleans tea beverag   \n",
       "5685  deli vegi-d zing organ tofu meat free salad sa...   \n",
       "5686    food multi cat litter pet unscent scoopabl care   \n",
       "5687           deli veggi organ tofu meat altern burger   \n",
       "\n",
       "                                            new_stemmed  \n",
       "0                      sandwich cooki snack cake chocol  \n",
       "1                              salt season pantri spice  \n",
       "2                   golden oolong tea unsweeten beverag  \n",
       "3     vodka sauc mini rigatoni meal favorit frozen c...  \n",
       "4           sauc marinad prepar green meat pantri chile  \n",
       "...                                                 ...  \n",
       "5683     multi seed snack free rice thin gluten cracker  \n",
       "5684                       get clean cleans tea beverag  \n",
       "5685        deli organ tofu meat free salad salt altern  \n",
       "5686             food multi cat litter pet unscent care  \n",
       "5687           deli veggi organ tofu meat altern burger  \n",
       "\n",
       "[5688 rows x 9 columns]"
      ]
     },
     "execution_count": 221,
     "metadata": {},
     "output_type": "execute_result"
    }
   ],
   "source": [
    "products_desc_stemmed"
   ]
  },
  {
   "cell_type": "code",
   "execution_count": 222,
   "metadata": {},
   "outputs": [
    {
     "data": {
      "text/plain": [
       "'sandwich cooki snack cake chocol'"
      ]
     },
     "execution_count": 222,
     "metadata": {},
     "output_type": "execute_result"
    }
   ],
   "source": [
    "np.array(products_desc['stemmed'])[0]"
   ]
  },
  {
   "cell_type": "code",
   "execution_count": 223,
   "metadata": {},
   "outputs": [],
   "source": [
    "# Fitting the vectorizer\n",
    "stem_count_vec = CountVectorizer(stop_words='english')\n",
    "stem_count_vec_matrix = stem_count_vec.fit_transform(products_desc['stemmed'])"
   ]
  },
  {
   "cell_type": "code",
   "execution_count": 224,
   "metadata": {
    "scrolled": true
   },
   "outputs": [
    {
     "data": {
      "text/plain": [
       "(5688, 3544)"
      ]
     },
     "execution_count": 224,
     "metadata": {},
     "output_type": "execute_result"
    }
   ],
   "source": [
    "stem_count_vec_matrix.shape # reduced the size from 10624 to 9086 words"
   ]
  },
  {
   "cell_type": "code",
   "execution_count": 225,
   "metadata": {},
   "outputs": [],
   "source": [
    "# Fitting the vectorizer with one time words removed\n",
    "new_stem_count_vec = CountVectorizer(stop_words='english')\n",
    "new_stem_count_vec_matrix = new_stem_count_vec.fit_transform(products_desc['new_stemmed'])"
   ]
  },
  {
   "cell_type": "code",
   "execution_count": 226,
   "metadata": {},
   "outputs": [
    {
     "data": {
      "text/plain": [
       "(5688, 1884)"
      ]
     },
     "execution_count": 226,
     "metadata": {},
     "output_type": "execute_result"
    }
   ],
   "source": [
    "new_stem_count_vec_matrix.shape"
   ]
  },
  {
   "cell_type": "code",
   "execution_count": 227,
   "metadata": {},
   "outputs": [],
   "source": [
    "pickle.dump(stem_count_vec, open(\"Pickle/stem_count_vec.p\", \"wb\"))\n",
    "pickle.dump(stem_count_vec_matrix, open(\"Pickle/stem_count_vec_matrix.p\", \"wb\"))\n",
    "pickle.dump(new_stem_count_vec, open(\"Pickle/new_stem_count_vec.p\", \"wb\"))\n",
    "pickle.dump(new_stem_count_vec_matrix, open(\"Pickle/new_stem_count_vec_matrix.p\", \"wb\"))"
   ]
  },
  {
   "cell_type": "code",
   "execution_count": 228,
   "metadata": {},
   "outputs": [],
   "source": [
    "# This improved function takes in any words and stems and vectorizes them\n",
    "\n",
    "def stem_and_vectorize_products_based_on_metadata(product_input):\n",
    "\n",
    "    word_list = nltk.word_tokenize(product_input)\n",
    "\n",
    "    input_stemmed = ' '.join([stemmer.stem(word) for word in word_list])\n",
    "\n",
    "    vec = stem_count_vec.transform(np.array(input_stemmed).reshape(1,)) # changed to array instead of Series for time\n",
    "    \n",
    "    simil = cosine_similarity(vec, stem_count_vec_matrix)\n",
    "    \n",
    "    simil_scores = pd.DataFrame(simil.reshape(stem_count_vec_matrix.shape[0],), \n",
    "                                index = products_desc.index, columns=['score'])\n",
    "    \n",
    "    # Don't return scores of zero, only as many positive scores as exist\n",
    "    non_zero_scores = simil_scores[simil_scores['score'] > 0]\n",
    "    \n",
    "    if len(non_zero_scores) == 0:\n",
    "        print('No similar products found.  Please refine your search terms and try again')\n",
    "        return\n",
    "    \n",
    "    if len(non_zero_scores) < 10:\n",
    "        item_count = len(non_zero_scores)\n",
    "    else:\n",
    "        item_count = 10\n",
    "    \n",
    "    similarity_scores = simil_scores.sort_values(['score'], ascending=False)[:item_count]\n",
    "    \n",
    "    return (products_desc['product_name'].iloc[similarity_scores.index])"
   ]
  },
  {
   "cell_type": "code",
   "execution_count": 229,
   "metadata": {
    "scrolled": false
   },
   "outputs": [],
   "source": [
    "# rather than just printing out I want to store the recs to use in FLASK\n",
    "recs = stem_and_vectorize_products_based_on_metadata('Oreos') "
   ]
  },
  {
   "cell_type": "code",
   "execution_count": 230,
   "metadata": {},
   "outputs": [
    {
     "data": {
      "text/plain": [
       "3125                          Oreo Cookie n' Cream Yogurt\n",
       "590     Oreo Cookies and Cream Chocolate Frozen Dairy ...\n",
       "3259               Chips Ahoy!/Nutter Butter/Oreo Cookies\n",
       "2408                    Oreo Mini 20 Count Multipack 20oz\n",
       "795        Chocolate Reese's Peanut Butter Cup Creme Oreo\n",
       "4056    Oreo Instant Cookies 'n Cream Pudding & Pie Fi...\n",
       "Name: product_name, dtype: object"
      ]
     },
     "execution_count": 230,
     "metadata": {},
     "output_type": "execute_result"
    }
   ],
   "source": [
    "recs"
   ]
  },
  {
   "cell_type": "code",
   "execution_count": 231,
   "metadata": {
    "scrolled": true
   },
   "outputs": [
    {
     "data": {
      "text/plain": [
       "\"Oreo Cookie n' Cream Yogurt\""
      ]
     },
     "execution_count": 231,
     "metadata": {},
     "output_type": "execute_result"
    }
   ],
   "source": [
    "# Looking at how to access the data while I am in FLASK\n",
    "recs.iloc[0]"
   ]
  },
  {
   "cell_type": "code",
   "execution_count": 232,
   "metadata": {},
   "outputs": [
    {
     "data": {
      "text/plain": [
       "3125"
      ]
     },
     "execution_count": 232,
     "metadata": {},
     "output_type": "execute_result"
    }
   ],
   "source": [
    "recs.index[0]"
   ]
  },
  {
   "cell_type": "code",
   "execution_count": 233,
   "metadata": {},
   "outputs": [
    {
     "name": "stdout",
     "output_type": "stream",
     "text": [
      "No similar products found.  Please refine your search terms and try again\n"
     ]
    }
   ],
   "source": [
    "recs2 = stem_and_vectorize_products_based_on_metadata('randomword')"
   ]
  },
  {
   "cell_type": "code",
   "execution_count": 234,
   "metadata": {},
   "outputs": [
    {
     "data": {
      "text/plain": [
       "NoneType"
      ]
     },
     "execution_count": 234,
     "metadata": {},
     "output_type": "execute_result"
    }
   ],
   "source": [
    "type(recs2)"
   ]
  },
  {
   "cell_type": "code",
   "execution_count": 235,
   "metadata": {
    "scrolled": true
   },
   "outputs": [
    {
     "data": {
      "text/plain": [
       "3125                          Oreo Cookie n' Cream Yogurt\n",
       "590     Oreo Cookies and Cream Chocolate Frozen Dairy ...\n",
       "3259               Chips Ahoy!/Nutter Butter/Oreo Cookies\n",
       "2408                    Oreo Mini 20 Count Multipack 20oz\n",
       "795        Chocolate Reese's Peanut Butter Cup Creme Oreo\n",
       "4056    Oreo Instant Cookies 'n Cream Pudding & Pie Fi...\n",
       "Name: product_name, dtype: object"
      ]
     },
     "execution_count": 235,
     "metadata": {},
     "output_type": "execute_result"
    }
   ],
   "source": [
    "# Now Oreo and Oreos give me the same vector and output\n",
    "stem_and_vectorize_products_based_on_metadata('Oreo')"
   ]
  },
  {
   "cell_type": "code",
   "execution_count": 236,
   "metadata": {},
   "outputs": [
    {
     "data": {
      "text/plain": [
       "5597                              Organic Tamari Almonds\n",
       "4190                                         Almond Cake\n",
       "2591                                    Maple Almond Bar\n",
       "2887                                 Almond Cocoa Spread\n",
       "5128                                         Almond Bark\n",
       "3432    Sensitivity Ultra Thin Premium Lubricant Condoms\n",
       "1440                          Quinoa Cereal Honey Almond\n",
       "450                        Almond Spread, Dark Chocolate\n",
       "4636                            Triple Chocolate Almonds\n",
       "934                                  Premium Apple Juice\n",
       "Name: product_name, dtype: object"
      ]
     },
     "execution_count": 236,
     "metadata": {},
     "output_type": "execute_result"
    }
   ],
   "source": [
    "stem_and_vectorize_products_based_on_metadata('Premium Almonds') # these results are better too"
   ]
  },
  {
   "cell_type": "code",
   "execution_count": 237,
   "metadata": {},
   "outputs": [
    {
     "data": {
      "text/plain": [
       "5651                                 Organic Red Potatoes\n",
       "3492                                    Baby Red Potatoes\n",
       "318     Steamfresh Chef's Favorites Lightly Sauced Roa...\n",
       "2562    Roasted Garlic & Parmesan Baby Reds Mashed Pot...\n",
       "572                                             Red Roses\n",
       "2902                                            Sweet Red\n",
       "1915                                          Merlot Wine\n",
       "3148                                        Meritage Wine\n",
       "3373                                         Sweet Potato\n",
       "1007                                    Red Rice Crackers\n",
       "Name: product_name, dtype: object"
      ]
     },
     "execution_count": 237,
     "metadata": {},
     "output_type": "execute_result"
    }
   ],
   "source": [
    "stem_and_vectorize_products_based_on_metadata('Red Potatoes')"
   ]
  },
  {
   "cell_type": "code",
   "execution_count": 238,
   "metadata": {},
   "outputs": [],
   "source": [
    "# Much happier with this output now that we have tokenized, stemmed, and joined the words"
   ]
  },
  {
   "cell_type": "markdown",
   "metadata": {},
   "source": [
    "### NLP Conclusions"
   ]
  },
  {
   "cell_type": "code",
   "execution_count": 239,
   "metadata": {},
   "outputs": [
    {
     "data": {
      "text/plain": [
       "'The NLP search engine would be a useful tool for online shopping recommendations.  Perhaps generating word embeddings\\ncould even improve the results.'"
      ]
     },
     "execution_count": 239,
     "metadata": {},
     "output_type": "execute_result"
    }
   ],
   "source": [
    "'''The NLP search engine would be a useful tool for online shopping recommendations.  Perhaps generating word embeddings\n",
    "could even improve the results.'''"
   ]
  },
  {
   "cell_type": "code",
   "execution_count": 240,
   "metadata": {},
   "outputs": [],
   "source": [
    "prod_columns = pickle.load(open('Pickle/prod_columns.p','rb'))\n",
    "prod_index = pickle.load(open('Pickle/prod_index.p', 'rb'))\n",
    "prod_name = pickle.load(open('Pickle/prod_name.p', 'rb'))\n",
    "prod_aisle = pickle.load(open('Pickle/prod_aisle.p', 'rb'))\n",
    "prod_id = pickle.load(open('Pickle/prod_id.p', 'rb'))"
   ]
  },
  {
   "cell_type": "code",
   "execution_count": 241,
   "metadata": {},
   "outputs": [],
   "source": [
    "new_df = pd.DataFrame(np.column_stack([prod_name, prod_aisle, prod_id]), index=prod_index, columns=['product_name', 'aisle', 'product_id']) \n",
    "\n"
   ]
  },
  {
   "cell_type": "code",
   "execution_count": null,
   "metadata": {},
   "outputs": [],
   "source": []
  }
 ],
 "metadata": {
  "kernelspec": {
   "display_name": "Python 3",
   "language": "python",
   "name": "python3"
  },
  "language_info": {
   "codemirror_mode": {
    "name": "ipython",
    "version": 3
   },
   "file_extension": ".py",
   "mimetype": "text/x-python",
   "name": "python",
   "nbconvert_exporter": "python",
   "pygments_lexer": "ipython3",
   "version": "3.12.3"
  },
  "toc": {
   "base_numbering": 1,
   "nav_menu": {},
   "number_sections": false,
   "sideBar": true,
   "skip_h1_title": false,
   "title_cell": "Table of Contents",
   "title_sidebar": "Contents",
   "toc_cell": false,
   "toc_position": {
    "height": "calc(100% - 180px)",
    "left": "10px",
    "top": "150px",
    "width": "333.778px"
   },
   "toc_section_display": true,
   "toc_window_display": false
  },
  "varInspector": {
   "cols": {
    "lenName": 16,
    "lenType": 16,
    "lenVar": 40
   },
   "kernels_config": {
    "python": {
     "delete_cmd_postfix": "",
     "delete_cmd_prefix": "del ",
     "library": "var_list.py",
     "varRefreshCmd": "print(var_dic_list())"
    },
    "r": {
     "delete_cmd_postfix": ") ",
     "delete_cmd_prefix": "rm(",
     "library": "var_list.r",
     "varRefreshCmd": "cat(var_dic_list()) "
    }
   },
   "types_to_exclude": [
    "module",
    "function",
    "builtin_function_or_method",
    "instance",
    "_Feature"
   ],
   "window_display": false
  }
 },
 "nbformat": 4,
 "nbformat_minor": 4
}